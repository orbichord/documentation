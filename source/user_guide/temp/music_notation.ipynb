{
 "cells": [
  {
   "cell_type": "markdown",
   "metadata": {},
   "source": [
    "# Displaying Music Notation In Azure Notebooks\n",
    "\n",
    "There are several ways of creating an environment that allows Jupyter notebooks to display music notation, although some of them can be quite fiddly to set up from scratch if they even work at all.\n",
    "\n",
    "This notebook is a work in progress exploring various ways of rendering musical notation within Jupyter notebooks...\n",
    "\n",
    "This notebook also includes examples of packages for working with audio files generated from (representations of) musical scores.\n",
    "\n",
    "On the to do list is see if I can recreate OERs such as the following OpenLEarn modules:\n",
    "\n",
    "- [An introduction to music theory](http://www.open.edu/openlearn/history-the-arts/culture/music/introduction-music-theory/content-section-0?active-tab=content-tab)\n",
    "- [Sound for music technology](http://www.open.edu/openlearn/science-maths-technology/engineering-and-technology/technology/sound-music-technology-introduction/content-section-0?active-tab=content-tab)\n",
    "\n",
    "completely witin a notebook context."
   ]
  },
  {
   "cell_type": "markdown",
   "metadata": {},
   "source": [
    "## `music21`\n",
    "\n",
    "`music21` is a comprehensive musicology toolkit capable of generating and analysing scores; getting the musical notation display to work can be a pain, although it is getting easier..."
   ]
  },
  {
   "cell_type": "code",
   "execution_count": 1,
   "metadata": {},
   "outputs": [],
   "source": [
    "%%capture\n",
    "try:\n",
    "    import music21\n",
    "except:\n",
    "    !pip install music21"
   ]
  },
  {
   "cell_type": "code",
   "execution_count": 2,
   "metadata": {},
   "outputs": [],
   "source": [
    "%matplotlib inline\n",
    "import warnings\n",
    "warnings.filterwarnings(\"ignore\", message=\"numpy.dtype size changed\")\n",
    "warnings.filterwarnings(\"ignore\", message=\"numpy.ufunc size changed\")"
   ]
  },
  {
   "cell_type": "code",
   "execution_count": 3,
   "metadata": {},
   "outputs": [],
   "source": [
    "from music21 import *\n",
    "\n",
    "#The extension seems to be a bit flaky at the moment\n",
    "#The idea is that it makes it easy to embed scores, audio players etc\n",
    "#The default midi audio player does not seem to respect instrument selection\n",
    "%load_ext music21.ipython21"
   ]
  },
  {
   "cell_type": "markdown",
   "metadata": {},
   "source": [
    "We can create musical constructions in a variety of ways, represented as computational objects we can then work with in a flexible way."
   ]
  },
  {
   "cell_type": "code",
   "execution_count": 4,
   "metadata": {},
   "outputs": [
    {
     "data": {
      "text/plain": [
       "<music21.chord.Chord C4 E4 G4>"
      ]
     },
     "execution_count": 4,
     "metadata": {},
     "output_type": "execute_result"
    }
   ],
   "source": [
    "c = chord.Chord(\"C4 E4 G4\")\n",
    "c"
   ]
  },
  {
   "cell_type": "markdown",
   "metadata": {},
   "source": [
    "For example, we can \"display\" the above chord as braille:"
   ]
  },
  {
   "cell_type": "code",
   "execution_count": 5,
   "metadata": {},
   "outputs": [
    {
     "name": "stdout",
     "output_type": "stream",
     "text": [
      "⠐⠳⠬⠔\n"
     ]
    }
   ],
   "source": [
    "c.show('braille')"
   ]
  },
  {
   "cell_type": "markdown",
   "metadata": {},
   "source": [
    "Or we can write it as MusicXML:"
   ]
  },
  {
   "cell_type": "code",
   "execution_count": 6,
   "metadata": {
    "scrolled": true
   },
   "outputs": [
    {
     "data": {
      "text/plain": [
       "'<?xml version=\"1.0\" encoding=\"utf-8\"?>\\n<!DOCTYPE score-partwise  PUBLIC \"-//Recordare//DTD MusicXML 3.0 Partwise//EN\" \"http://www.musicxml.org/dtds/partwise.dtd\">\\n<score-partwise version=\"3.0\">\\n  <movement-title>Music21 Fragment</movement-title>\\n  <identification>\\n    <creator type=\"composer\">Music21</creator>\\n    <encoding>\\n      <encoding-date>2019-09-18</encoding-date>\\n      <software>music21 v.5.7.0</software>\\n    </encoding>\\n  </identification>\\n  <defaults>\\n    <scaling>\\n      <millimeters>7</millimeters>\\n      <tenths>40</tenths>\\n    </scaling>\\n  </defaults>\\n  <part-list>\\n    <score-part id=\"P58e07f97af6441f010d672be6e8513f2\">\\n      <part-name />\\n    </score-part>\\n  </part-list>\\n  <!--=========================== Part 1 ===========================-->\\n  <part id=\"P58e07f97af6441f010d672be6e8513f2\">\\n    <!--========================= Measure 1 ==========================-->\\n    <measure number=\"1\">\\n      <attributes>\\n        <divisions>10080</divisions>\\n        <time>\\n          <beats>1</beats>\\n          <beat-type>4</beat-type>\\n        </time>\\n        <clef>\\n          <sign>G</sign>\\n          <line>2</line>\\n        </clef>\\n      </attributes>\\n      <note>\\n        <pitch>\\n          <step>C</step>\\n          <octave>4</octave>\\n        </pitch>\\n        <duration>10080</duration>\\n        <type>quarter</type>\\n      </note>\\n      <note>\\n        <chord />\\n        <pitch>\\n          <step>E</step>\\n          <octave>4</octave>\\n        </pitch>\\n        <duration>10080</duration>\\n        <type>quarter</type>\\n      </note>\\n      <note>\\n        <chord />\\n        <pitch>\\n          <step>G</step>\\n          <octave>4</octave>\\n        </pitch>\\n        <duration>10080</duration>\\n        <type>quarter</type>\\n      </note>\\n    </measure>\\n  </part>\\n</score-partwise>\\n'"
      ]
     },
     "execution_count": 6,
     "metadata": {},
     "output_type": "execute_result"
    }
   ],
   "source": [
    "xml = open(c.write('musicxml')).read()\n",
    "xml"
   ]
  },
  {
   "cell_type": "markdown",
   "metadata": {},
   "source": [
    "To render scores, `music21` defaults to using `lilypond`, which will be demonstrated later in the notebook (it requires the installation of the `lilypond` application). However, work is currently ongoing to support display scores directly in notebooks using a javascript renderer. The following code is an early preview of that development (i.e. things should get smoother as the code is hopefully integrated into `music21`):"
   ]
  },
  {
   "cell_type": "code",
   "execution_count": 7,
   "metadata": {},
   "outputs": [],
   "source": [
    "#Viewing music - via https://github.com/cuthbertLab/music21/issues/306 ?\n",
    "from IPython.core.display import display, HTML, Javascript\n",
    "import json, random\n",
    "def showScore(score):\n",
    "    xml = open(score.write('musicxml')).read()\n",
    "    showMusicXML(xml)\n",
    "    \n",
    "def showMusicXML(xml):\n",
    "    DIV_ID = \"OSMD-div-\"+str(random.randint(0,1000000))\n",
    "    #print(\"DIV_ID\", DIV_ID)\n",
    "    msg='loading OpenSheetMusicDisplay'\n",
    "    msg=''\n",
    "    display(HTML('<div id=\"'+DIV_ID+'\">{}</div>'.format(msg)))\n",
    "    \n",
    "    #print('xml length:', len(xml))\n",
    "\n",
    "    script = \"\"\"\n",
    "    console.log(\"loadOSMD()\");\n",
    "    function loadOSMD() { \n",
    "        return new Promise(function(resolve, reject){\n",
    "\n",
    "            if (window.opensheetmusicdisplay) {\n",
    "                console.log(\"already loaded\")\n",
    "                return resolve(window.opensheetmusicdisplay)\n",
    "            }\n",
    "            console.log(\"loading osmd for the first time\")\n",
    "            // OSMD script has a 'define' call which conflicts with requirejs\n",
    "            var _define = window.define // save the define object \n",
    "            window.define = undefined // now the loaded script will ignore requirejs\n",
    "            var s = document.createElement( 'script' );\n",
    "            s.setAttribute( 'src', \"https://cdn.jsdelivr.net/npm/opensheetmusicdisplay@0.3.1/build/opensheetmusicdisplay.min.js\" );\n",
    "            //s.setAttribute( 'src', \"/custom/opensheetmusicdisplay.js\" );\n",
    "            s.onload=function(){\n",
    "                window.define = _define\n",
    "                console.log(\"loaded OSMD for the first time\",opensheetmusicdisplay)\n",
    "                resolve(opensheetmusicdisplay);\n",
    "            };\n",
    "            document.body.appendChild( s ); // browser will try to load the new script tag\n",
    "        }) \n",
    "    }\n",
    "    loadOSMD().then((OSMD)=>{\n",
    "        console.log(\"loaded OSMD\",OSMD)\n",
    "        var div_id = \"{{DIV_ID}}\";\n",
    "            console.log(div_id)\n",
    "        window.openSheetMusicDisplay = new OSMD.OpenSheetMusicDisplay(div_id);\n",
    "        openSheetMusicDisplay\n",
    "            .load({{data}})\n",
    "            .then(\n",
    "              function() {\n",
    "                console.log(\"rendering data\")\n",
    "                openSheetMusicDisplay.render();\n",
    "              }\n",
    "            );\n",
    "    })\n",
    "    \"\"\".replace('{{DIV_ID}}',DIV_ID).replace('{{data}}',json.dumps(xml))\n",
    "    display(Javascript(script))\n",
    "    return DIV_ID\n"
   ]
  },
  {
   "cell_type": "code",
   "execution_count": 8,
   "metadata": {},
   "outputs": [
    {
     "data": {
      "text/html": [
       "<div id=\"OSMD-div-518019\"></div>"
      ],
      "text/plain": [
       "<IPython.core.display.HTML object>"
      ]
     },
     "metadata": {},
     "output_type": "display_data"
    },
    {
     "data": {
      "application/javascript": [
       "\n",
       "    console.log(\"loadOSMD()\");\n",
       "    function loadOSMD() { \n",
       "        return new Promise(function(resolve, reject){\n",
       "\n",
       "            if (window.opensheetmusicdisplay) {\n",
       "                console.log(\"already loaded\")\n",
       "                return resolve(window.opensheetmusicdisplay)\n",
       "            }\n",
       "            console.log(\"loading osmd for the first time\")\n",
       "            // OSMD script has a 'define' call which conflicts with requirejs\n",
       "            var _define = window.define // save the define object \n",
       "            window.define = undefined // now the loaded script will ignore requirejs\n",
       "            var s = document.createElement( 'script' );\n",
       "            s.setAttribute( 'src', \"https://cdn.jsdelivr.net/npm/opensheetmusicdisplay@0.3.1/build/opensheetmusicdisplay.min.js\" );\n",
       "            //s.setAttribute( 'src', \"/custom/opensheetmusicdisplay.js\" );\n",
       "            s.onload=function(){\n",
       "                window.define = _define\n",
       "                console.log(\"loaded OSMD for the first time\",opensheetmusicdisplay)\n",
       "                resolve(opensheetmusicdisplay);\n",
       "            };\n",
       "            document.body.appendChild( s ); // browser will try to load the new script tag\n",
       "        }) \n",
       "    }\n",
       "    loadOSMD().then((OSMD)=>{\n",
       "        console.log(\"loaded OSMD\",OSMD)\n",
       "        var div_id = \"OSMD-div-518019\";\n",
       "            console.log(div_id)\n",
       "        window.openSheetMusicDisplay = new OSMD.OpenSheetMusicDisplay(div_id);\n",
       "        openSheetMusicDisplay\n",
       "            .load(\"<?xml version=\\\"1.0\\\" encoding=\\\"utf-8\\\"?>\\n<!DOCTYPE score-partwise  PUBLIC \\\"-//Recordare//DTD MusicXML 3.0 Partwise//EN\\\" \\\"http://www.musicxml.org/dtds/partwise.dtd\\\">\\n<score-partwise version=\\\"3.0\\\">\\n  <movement-title>Music21 Fragment</movement-title>\\n  <identification>\\n    <creator type=\\\"composer\\\">Music21</creator>\\n    <encoding>\\n      <encoding-date>2019-09-18</encoding-date>\\n      <software>music21 v.5.7.0</software>\\n    </encoding>\\n  </identification>\\n  <defaults>\\n    <scaling>\\n      <millimeters>7</millimeters>\\n      <tenths>40</tenths>\\n    </scaling>\\n  </defaults>\\n  <part-list>\\n    <score-part id=\\\"P082a8d252e651b5f1b16b9284aff9340\\\">\\n      <part-name />\\n    </score-part>\\n  </part-list>\\n  <!--=========================== Part 1 ===========================-->\\n  <part id=\\\"P082a8d252e651b5f1b16b9284aff9340\\\">\\n    <!--========================= Measure 1 ==========================-->\\n    <measure number=\\\"1\\\">\\n      <attributes>\\n        <divisions>10080</divisions>\\n        <time>\\n          <beats>1</beats>\\n          <beat-type>4</beat-type>\\n        </time>\\n        <clef>\\n          <sign>G</sign>\\n          <line>2</line>\\n        </clef>\\n      </attributes>\\n      <note>\\n        <pitch>\\n          <step>C</step>\\n          <octave>4</octave>\\n        </pitch>\\n        <duration>10080</duration>\\n        <type>quarter</type>\\n      </note>\\n      <note>\\n        <chord />\\n        <pitch>\\n          <step>E</step>\\n          <octave>4</octave>\\n        </pitch>\\n        <duration>10080</duration>\\n        <type>quarter</type>\\n      </note>\\n      <note>\\n        <chord />\\n        <pitch>\\n          <step>G</step>\\n          <octave>4</octave>\\n        </pitch>\\n        <duration>10080</duration>\\n        <type>quarter</type>\\n      </note>\\n    </measure>\\n  </part>\\n</score-partwise>\\n\")\n",
       "            .then(\n",
       "              function() {\n",
       "                console.log(\"rendering data\")\n",
       "                openSheetMusicDisplay.render();\n",
       "              }\n",
       "            );\n",
       "    })\n",
       "    "
      ],
      "text/plain": [
       "<IPython.core.display.Javascript object>"
      ]
     },
     "metadata": {},
     "output_type": "display_data"
    }
   ],
   "source": [
    "#The clutter comes from the score-part ID in the MusicXML file?\n",
    "showScore(c)"
   ]
  },
  {
   "cell_type": "markdown",
   "metadata": {},
   "source": [
    "### Tiny Notation\n",
    "\n",
    "*Tiny notation* is a lightweight notation for getting scores into a `music21` representation:"
   ]
  },
  {
   "cell_type": "code",
   "execution_count": 9,
   "metadata": {},
   "outputs": [],
   "source": [
    "from music21 import converter\n",
    "s = converter.parse('tinyNotation: 4/4 C4 D4 E4 F4 G4 A4 B4 c4')\n",
    "#This creates a stream of a single part\n",
    "#Add an instrument to the part\n",
    "s.insert(0, instrument.Guitar())"
   ]
  },
  {
   "cell_type": "code",
   "execution_count": 10,
   "metadata": {},
   "outputs": [
    {
     "data": {
      "text/html": [
       "<div id=\"OSMD-div-586103\"></div>"
      ],
      "text/plain": [
       "<IPython.core.display.HTML object>"
      ]
     },
     "metadata": {},
     "output_type": "display_data"
    },
    {
     "data": {
      "application/javascript": [
       "\n",
       "    console.log(\"loadOSMD()\");\n",
       "    function loadOSMD() { \n",
       "        return new Promise(function(resolve, reject){\n",
       "\n",
       "            if (window.opensheetmusicdisplay) {\n",
       "                console.log(\"already loaded\")\n",
       "                return resolve(window.opensheetmusicdisplay)\n",
       "            }\n",
       "            console.log(\"loading osmd for the first time\")\n",
       "            // OSMD script has a 'define' call which conflicts with requirejs\n",
       "            var _define = window.define // save the define object \n",
       "            window.define = undefined // now the loaded script will ignore requirejs\n",
       "            var s = document.createElement( 'script' );\n",
       "            s.setAttribute( 'src', \"https://cdn.jsdelivr.net/npm/opensheetmusicdisplay@0.3.1/build/opensheetmusicdisplay.min.js\" );\n",
       "            //s.setAttribute( 'src', \"/custom/opensheetmusicdisplay.js\" );\n",
       "            s.onload=function(){\n",
       "                window.define = _define\n",
       "                console.log(\"loaded OSMD for the first time\",opensheetmusicdisplay)\n",
       "                resolve(opensheetmusicdisplay);\n",
       "            };\n",
       "            document.body.appendChild( s ); // browser will try to load the new script tag\n",
       "        }) \n",
       "    }\n",
       "    loadOSMD().then((OSMD)=>{\n",
       "        console.log(\"loaded OSMD\",OSMD)\n",
       "        var div_id = \"OSMD-div-586103\";\n",
       "            console.log(div_id)\n",
       "        window.openSheetMusicDisplay = new OSMD.OpenSheetMusicDisplay(div_id);\n",
       "        openSheetMusicDisplay\n",
       "            .load(\"<?xml version=\\\"1.0\\\" encoding=\\\"utf-8\\\"?>\\n<!DOCTYPE score-partwise  PUBLIC \\\"-//Recordare//DTD MusicXML 3.0 Partwise//EN\\\" \\\"http://www.musicxml.org/dtds/partwise.dtd\\\">\\n<score-partwise version=\\\"3.0\\\">\\n  <movement-title>Music21 Fragment</movement-title>\\n  <identification>\\n    <creator type=\\\"composer\\\">Music21</creator>\\n    <encoding>\\n      <encoding-date>2019-09-18</encoding-date>\\n      <software>music21 v.5.7.0</software>\\n    </encoding>\\n  </identification>\\n  <defaults>\\n    <scaling>\\n      <millimeters>7</millimeters>\\n      <tenths>40</tenths>\\n    </scaling>\\n  </defaults>\\n  <part-list>\\n    <score-part id=\\\"Pe9ce043c1c6d9ca23f4e3b06ab29aa3f\\\">\\n      <part-name>Guitar</part-name>\\n      <part-abbreviation>Gtr</part-abbreviation>\\n      <score-instrument id=\\\"I90ede3b00d1314c5165cc7ae2eb71cb9\\\">\\n        <instrument-name>Guitar</instrument-name>\\n        <instrument-abbreviation>Gtr</instrument-abbreviation>\\n      </score-instrument>\\n      <midi-instrument id=\\\"I90ede3b00d1314c5165cc7ae2eb71cb9\\\">\\n        <midi-channel>1</midi-channel>\\n        <midi-program>25</midi-program>\\n      </midi-instrument>\\n    </score-part>\\n  </part-list>\\n  <!--=========================== Part 1 ===========================-->\\n  <part id=\\\"Pe9ce043c1c6d9ca23f4e3b06ab29aa3f\\\">\\n    <!--========================= Measure 1 ==========================-->\\n    <measure number=\\\"1\\\">\\n      <attributes>\\n        <divisions>10080</divisions>\\n        <time>\\n          <beats>4</beats>\\n          <beat-type>4</beat-type>\\n        </time>\\n        <clef>\\n          <sign>F</sign>\\n          <line>4</line>\\n        </clef>\\n      </attributes>\\n      <note>\\n        <pitch>\\n          <step>C</step>\\n          <octave>3</octave>\\n        </pitch>\\n        <duration>10080</duration>\\n        <type>quarter</type>\\n      </note>\\n      <note>\\n        <pitch>\\n          <step>D</step>\\n          <octave>3</octave>\\n        </pitch>\\n        <duration>10080</duration>\\n        <type>quarter</type>\\n      </note>\\n      <note>\\n        <pitch>\\n          <step>E</step>\\n          <octave>3</octave>\\n        </pitch>\\n        <duration>10080</duration>\\n        <type>quarter</type>\\n      </note>\\n      <note>\\n        <pitch>\\n          <step>F</step>\\n          <octave>3</octave>\\n        </pitch>\\n        <duration>10080</duration>\\n        <type>quarter</type>\\n      </note>\\n    </measure>\\n    <!--========================= Measure 2 ==========================-->\\n    <measure number=\\\"2\\\">\\n      <note>\\n        <pitch>\\n          <step>G</step>\\n          <octave>3</octave>\\n        </pitch>\\n        <duration>10080</duration>\\n        <type>quarter</type>\\n      </note>\\n      <note>\\n        <pitch>\\n          <step>A</step>\\n          <octave>3</octave>\\n        </pitch>\\n        <duration>10080</duration>\\n        <type>quarter</type>\\n      </note>\\n      <note>\\n        <pitch>\\n          <step>B</step>\\n          <octave>3</octave>\\n        </pitch>\\n        <duration>10080</duration>\\n        <type>quarter</type>\\n      </note>\\n      <note>\\n        <pitch>\\n          <step>C</step>\\n          <octave>4</octave>\\n        </pitch>\\n        <duration>10080</duration>\\n        <type>quarter</type>\\n      </note>\\n      <barline location=\\\"right\\\">\\n        <bar-style>light-heavy</bar-style>\\n      </barline>\\n    </measure>\\n  </part>\\n</score-partwise>\\n\")\n",
       "            .then(\n",
       "              function() {\n",
       "                console.log(\"rendering data\")\n",
       "                openSheetMusicDisplay.render();\n",
       "              }\n",
       "            );\n",
       "    })\n",
       "    "
      ],
      "text/plain": [
       "<IPython.core.display.Javascript object>"
      ]
     },
     "metadata": {},
     "output_type": "display_data"
    }
   ],
   "source": [
    "showScore(s)"
   ]
  },
  {
   "cell_type": "markdown",
   "metadata": {},
   "source": [
    "### Playing a score\n",
    "\n",
    "We can generate a playable midi file from a score and embed a player that allows us to listen to it."
   ]
  },
  {
   "cell_type": "code",
   "execution_count": 14,
   "metadata": {
    "scrolled": true
   },
   "outputs": [
    {
     "data": {
      "text/html": [
       "\n",
       "                <div id='midiPlayerDiv567'></div>\n",
       "                <link rel=\"stylesheet\" href=\"//cuthbertLab.github.io/music21j/css/m21.css\"\n",
       "                    type=\"text/css\" />\n",
       "                <script>\n",
       "                require.config({\n",
       "                    paths: {'music21': '//cuthbertLab.github.io/music21j/src/music21'}\n",
       "                });\n",
       "                require(['music21'], function() {\n",
       "                               mp = new music21.miditools.MidiPlayer();\n",
       "                               mp.addPlayer('#midiPlayerDiv567');\n",
       "                               mp.base64Load('data:audio/midi;base64,TVRoZAAAAAYAAQABBABNVHJrAAAAaQD/AwZHdWl0YXIAwBgA4ABAAMAYAP9YBAQCGAgAkDBaiACAMAAAkDJaiACAMgAAkDRaiACANAAAkDVaiACANQAAkDdaiACANwAAkDlaiACAOQAAkDtaiACAOwAAkDxaiACAPACIAP8vAA==');\n",
       "                        });\n",
       "                </script>"
      ],
      "text/plain": [
       "<IPython.core.display.HTML object>"
      ]
     },
     "metadata": {},
     "output_type": "display_data"
    }
   ],
   "source": [
    "#Intermittent issue here? Sometomes notebook gets in a state where this doesnlt render the player?\n",
    "#Fix - empty cells, close notebook, reopen?\n",
    "#Doesn't respect the instrument?\n",
    "s.show('midi')"
   ]
  },
  {
   "cell_type": "markdown",
   "metadata": {},
   "source": [
    "Several graphical analysis views are also available."
   ]
  },
  {
   "cell_type": "code",
   "execution_count": 12,
   "metadata": {},
   "outputs": [
    {
     "data": {
      "image/png": "[encoded data removed]",
      "text/plain": [
       "<Figure size 720x432 with 1 Axes>"
      ]
     },
     "metadata": {
      "image/png": {
       "height": 382,
       "width": 584
      }
     },
     "output_type": "display_data"
    }
   ],
   "source": [
    "s.plot()"
   ]
  },
  {
   "cell_type": "code",
   "execution_count": 15,
   "metadata": {},
   "outputs": [
    {
     "data": {
      "image/png": "[encoded data removed]",
      "text/plain": [
       "<Figure size 648x432 with 5 Axes>"
      ]
     },
     "metadata": {
      "image/png": {
       "height": 383,
       "width": 538
      }
     },
     "output_type": "display_data"
    }
   ],
   "source": [
    "s.plot('key')"
   ]
  },
  {
   "cell_type": "markdown",
   "metadata": {},
   "source": [
    "### Full Score Example\n",
    "\n",
    "The `music21` package includes several complete scores. We can select one randomly, render the notation and play an audio version of it."
   ]
  },
  {
   "cell_type": "code",
   "execution_count": 16,
   "metadata": {},
   "outputs": [
    {
     "name": "stdout",
     "output_type": "stream",
     "text": [
      "loading piece /home/baites/.virtualenvs/orbichord/lib/python3.7/site-packages/music21/corpus/bach/bwv176.6.mxl\n"
     ]
    },
    {
     "data": {
      "text/plain": [
       "<music21.stream.Score 0x7f13c5465050>"
      ]
     },
     "execution_count": 16,
     "metadata": {},
     "output_type": "execute_result"
    }
   ],
   "source": [
    "#https://github.com/cuthbertLab/music21/issues/306\n",
    "\n",
    "import random\n",
    "selected_piece = random.choice(corpus.getPaths())\n",
    "print('loading piece', selected_piece)\n",
    "score = corpus.parse(selected_piece)\n",
    "score"
   ]
  },
  {
   "cell_type": "code",
   "execution_count": 17,
   "metadata": {},
   "outputs": [
    {
     "data": {
      "text/html": [
       "<div id=\"OSMD-div-93251\"></div>"
      ],
      "text/plain": [
       "<IPython.core.display.HTML object>"
      ]
     },
     "metadata": {},
     "output_type": "display_data"
    },
    {
     "data": {
      "application/javascript": [
       "\n",
       "    console.log(\"loadOSMD()\");\n",
       "    function loadOSMD() { \n",
       "        return new Promise(function(resolve, reject){\n",
       "\n",
       "            if (window.opensheetmusicdisplay) {\n",
       "                console.log(\"already loaded\")\n",
       "                return resolve(window.opensheetmusicdisplay)\n",
       "            }\n",
       "            console.log(\"loading osmd for the first time\")\n",
       "            // OSMD script has a 'define' call which conflicts with requirejs\n",
       "            var _define = window.define // save the define object \n",
       "            window.define = undefined // now the loaded script will ignore requirejs\n",
       "            var s = document.createElement( 'script' );\n",
       "            s.setAttribute( 'src', \"https://cdn.jsdelivr.net/npm/opensheetmusicdisplay@0.3.1/build/opensheetmusicdisplay.min.js\" );\n",
       "            //s.setAttribute( 'src', \"/custom/opensheetmusicdisplay.js\" );\n",
       "            s.onload=function(){\n",
       "                window.define = _define\n",
       "                console.log(\"loaded OSMD for the first time\",opensheetmusicdisplay)\n",
       "                resolve(opensheetmusicdisplay);\n",
       "            };\n",
       "            document.body.appendChild( s ); // browser will try to load the new script tag\n",
       "        }) \n",
       "    }\n",
       "    loadOSMD().then((OSMD)=>{\n",
       "        console.log(\"loaded OSMD\",OSMD)\n",
       "        var div_id = \"OSMD-div-93251\";\n",
       "            console.log(div_id)\n",
       "        window.openSheetMusicDisplay = new OSMD.OpenSheetMusicDisplay(div_id);\n",
       "        openSheetMusicDisplay\n",
       "            .load(\"<?xml version=\\\"1.0\\\" encoding=\\\"utf-8\\\"?>\\n<!DOCTYPE score-partwise  PUBLIC \\\"-//Recordare//DTD MusicXML 3.0 Partwise//EN\\\" \\\"http://www.musicxml.org/dtds/partwise.dtd\\\">\\n<score-partwise version=\\\"3.0\\\">\\n  <work>\\n    <work-title>bwv176.6.mxl</work-title>\\n  </work>\\n  <movement-title>bwv176.6.mxl</movement-title>\\n  <identification>\\n    <creator type=\\\"composer\\\">J.S. Bach</creator>\\n    <encoding>\\n      <encoding-date>2019-09-18</encoding-date>\\n      <software>music21 v.5.7.0</software>\\n      <software>music21 v.5.3.0</software>\\n      <software>MuseScore 2.1.0</software>\\n      <supports attribute=\\\"new-system\\\" element=\\\"print\\\" type=\\\"yes\\\" value=\\\"yes\\\" />\\n      <supports attribute=\\\"new-page\\\" element=\\\"print\\\" type=\\\"yes\\\" value=\\\"yes\\\" />\\n    </encoding>\\n  </identification>\\n  <defaults>\\n    <scaling>\\n      <millimeters>6.4</millimeters>\\n      <tenths>40</tenths>\\n    </scaling>\\n    <page-layout>\\n      <page-height>1856.25</page-height>\\n      <page-width>1312.5</page-width>\\n      <page-margins>\\n        <left-margin>31.25</left-margin>\\n        <right-margin>31.25</right-margin>\\n        <top-margin>62.5</top-margin>\\n        <bottom-margin>125</bottom-margin>\\n      </page-margins>\\n    </page-layout>\\n    <word-font font-family=\\\"Times New Roman\\\" font-size=\\\"8\\\" />\\n    <lyric-font font-family=\\\"Times New Roman\\\" font-size=\\\"12\\\" />\\n  </defaults>\\n  <credit page=\\\"1\\\">\\n    <credit-words default-x=\\\"1250\\\" default-y=\\\"1689\\\" font-family=\\\"Helvetica\\\" font-size=\\\"8\\\" justify=\\\"right\\\" valign=\\\"bottom\\\">PDF \\u00a9 2004 Margaret Greentree</credit-words>\\n    <credit-words>used by permission</credit-words>\\n  </credit>\\n  <credit page=\\\"1\\\">\\n    <credit-words default-x=\\\"656\\\" default-y=\\\"1793\\\" font-family=\\\"Helvetica\\\" font-size=\\\"12\\\" justify=\\\"center\\\" valign=\\\"top\\\">BWV 176.6</credit-words>\\n  </credit>\\n  <part-list>\\n    <part-group number=\\\"1\\\" type=\\\"start\\\">\\n      <group-symbol>bracket</group-symbol>\\n      <group-barline>yes</group-barline>\\n    </part-group>\\n    <score-part id=\\\"P1\\\">\\n      <part-name>Soprano</part-name>\\n      <part-abbreviation>S.</part-abbreviation>\\n    </score-part>\\n    <score-part id=\\\"P2\\\">\\n      <part-name>Alto</part-name>\\n      <part-abbreviation>A.</part-abbreviation>\\n    </score-part>\\n    <score-part id=\\\"P3\\\">\\n      <part-name>Tenor</part-name>\\n      <part-abbreviation>T.</part-abbreviation>\\n    </score-part>\\n    <score-part id=\\\"P4\\\">\\n      <part-name>Bass</part-name>\\n      <part-abbreviation>B.</part-abbreviation>\\n    </score-part>\\n    <part-group number=\\\"1\\\" type=\\\"stop\\\" />\\n  </part-list>\\n  <!--=========================== Part 1 ===========================-->\\n  <part id=\\\"P1\\\">\\n    <!--========================= Measure 0 ==========================-->\\n    <measure number=\\\"0\\\" width=\\\"205.88\\\">\\n      <print>\\n        <system-layout>\\n          <system-margins>\\n            <left-margin>67.9</left-margin>\\n            <right-margin>0</right-margin>\\n          </system-margins>\\n          <top-system-distance>199</top-system-distance>\\n        </system-layout>\\n      </print>\\n      <attributes>\\n        <divisions>10080</divisions>\\n        <key>\\n          <fifths>-2</fifths>\\n          <mode>minor</mode>\\n        </key>\\n        <time symbol=\\\"common\\\">\\n          <beats>4</beats>\\n          <beat-type>4</beat-type>\\n        </time>\\n        <clef>\\n          <sign>G</sign>\\n          <line>2</line>\\n        </clef>\\n      </attributes>\\n      <note default-x=\\\"121.78\\\" default-y=\\\"-35\\\">\\n        <pitch>\\n          <step>F</step>\\n          <octave>4</octave>\\n        </pitch>\\n        <duration>5040</duration>\\n        <type>eighth</type>\\n        <stem>up</stem>\\n        <beam number=\\\"1\\\">begin</beam>\\n        <lyric name=\\\"2\\\" number=\\\"2\\\">\\n          <syllabic>single</syllabic>\\n          <text>Christ,</text>\\n        </lyric>\\n      </note>\\n      <note default-x=\\\"165.41\\\" default-y=\\\"-30\\\">\\n        <pitch>\\n          <step>G</step>\\n          <octave>4</octave>\\n        </pitch>\\n        <duration>5040</duration>\\n        <type>eighth</type>\\n        <stem>up</stem>\\n        <beam number=\\\"1\\\">end</beam>\\n      </note>\\n    </measure>\\n    <!--========================= Measure 1 ==========================-->\\n    <measure number=\\\"1\\\" width=\\\"258.8\\\">\\n      <note default-x=\\\"16.27\\\" default-y=\\\"-25\\\">\\n        <pitch>\\n          <step>A</step>\\n          <alter>-1</alter>\\n          <octave>4</octave>\\n        </pitch>\\n        <duration>10080</duration>\\n        <type>quarter</type>\\n        <accidental>flat</accidental>\\n        <stem>up</stem>\\n        <lyric name=\\\"2\\\" number=\\\"2\\\">\\n          <syllabic>begin</syllabic>\\n          <text>un</text>\\n        </lyric>\\n      </note>\\n      <note default-x=\\\"78.87\\\" default-y=\\\"-20\\\">\\n        <pitch>\\n          <step>B</step>\\n          <alter>-1</alter>\\n          <octave>4</octave>\\n        </pitch>\\n        <duration>10080</duration>\\n        <type>quarter</type>\\n        <stem>down</stem>\\n        <lyric name=\\\"2\\\" number=\\\"2\\\">\\n          <syllabic>end</syllabic>\\n          <text>ser</text>\\n        </lyric>\\n      </note>\\n      <note default-x=\\\"128.94\\\" default-y=\\\"-15\\\">\\n        <pitch>\\n          <step>C</step>\\n          <octave>5</octave>\\n        </pitch>\\n        <duration>10080</duration>\\n        <type>quarter</type>\\n        <stem>down</stem>\\n        <lyric name=\\\"2\\\" number=\\\"2\\\">\\n          <syllabic>single</syllabic>\\n          <text>Herr,</text>\\n        </lyric>\\n      </note>\\n      <note default-x=\\\"194.6\\\" default-y=\\\"-20\\\">\\n        <pitch>\\n          <step>B</step>\\n          <alter>-1</alter>\\n          <octave>4</octave>\\n        </pitch>\\n        <duration>10080</duration>\\n        <type>quarter</type>\\n        <stem>down</stem>\\n        <lyric name=\\\"2\\\" number=\\\"2\\\">\\n          <syllabic>single</syllabic>\\n          <text>zum</text>\\n        </lyric>\\n      </note>\\n    </measure>\\n    <!--========================= Measure 2 ==========================-->\\n    <measure number=\\\"2\\\" width=\\\"268.22\\\">\\n      <note default-x=\\\"20.21\\\" default-y=\\\"-5\\\">\\n        <pitch>\\n          <step>E</step>\\n          <alter>-1</alter>\\n          <octave>5</octave>\\n        </pitch>\\n        <duration>10080</duration>\\n        <type>quarter</type>\\n        <stem>down</stem>\\n        <lyric name=\\\"2\\\" number=\\\"2\\\">\\n          <syllabic>begin</syllabic>\\n          <text>Jor</text>\\n        </lyric>\\n      </note>\\n      <note default-x=\\\"88.66\\\" default-y=\\\"-10\\\">\\n        <pitch>\\n          <step>D</step>\\n          <octave>5</octave>\\n        </pitch>\\n        <duration>5040</duration>\\n        <type>eighth</type>\\n        <stem>down</stem>\\n        <beam number=\\\"1\\\">begin</beam>\\n        <lyric name=\\\"2\\\" number=\\\"2\\\">\\n          <syllabic>end</syllabic>\\n          <text>dan</text>\\n        </lyric>\\n      </note>\\n      <note default-x=\\\"122.88\\\" default-y=\\\"-15\\\">\\n        <pitch>\\n          <step>C</step>\\n          <octave>5</octave>\\n        </pitch>\\n        <duration>5040</duration>\\n        <type>eighth</type>\\n        <stem>down</stem>\\n        <beam number=\\\"1\\\">end</beam>\\n      </note>\\n      <note default-x=\\\"157.1\\\" default-y=\\\"-15\\\">\\n        <pitch>\\n          <step>C</step>\\n          <octave>5</octave>\\n        </pitch>\\n        <duration>10080</duration>\\n        <type>quarter</type>\\n        <stem>down</stem>\\n        <notations>\\n          <fermata type=\\\"upright\\\" />\\n        </notations>\\n        <lyric name=\\\"2\\\" number=\\\"2\\\">\\n          <syllabic>single</syllabic>\\n          <text>kam</text>\\n        </lyric>\\n      </note>\\n      <note default-x=\\\"211.86\\\" default-y=\\\"-20\\\">\\n        <pitch>\\n          <step>B</step>\\n          <alter>-1</alter>\\n          <octave>4</octave>\\n        </pitch>\\n        <duration>10080</duration>\\n        <type>quarter</type>\\n        <stem>down</stem>\\n        <lyric name=\\\"2\\\" number=\\\"2\\\">\\n          <syllabic>single</syllabic>\\n          <text>nach</text>\\n        </lyric>\\n      </note>\\n    </measure>\\n    <!--========================= Measure 3 ==========================-->\\n    <measure number=\\\"3\\\" width=\\\"258.9\\\">\\n      <note default-x=\\\"18.85\\\" default-y=\\\"-5\\\">\\n        <pitch>\\n          <step>E</step>\\n          <alter>-1</alter>\\n          <octave>5</octave>\\n        </pitch>\\n        <duration>10080</duration>\\n        <type>quarter</type>\\n        <stem>down</stem>\\n        <lyric name=\\\"2\\\" number=\\\"2\\\">\\n          <syllabic>begin</syllabic>\\n          <text>sei</text>\\n        </lyric>\\n      </note>\\n      <note default-x=\\\"69.05\\\" default-y=\\\"-10\\\">\\n        <pitch>\\n          <step>D</step>\\n          <octave>5</octave>\\n        </pitch>\\n        <duration>10080</duration>\\n        <type>quarter</type>\\n        <stem>down</stem>\\n        <lyric name=\\\"2\\\" number=\\\"2\\\">\\n          <syllabic>end</syllabic>\\n          <text>nes</text>\\n        </lyric>\\n      </note>\\n      <note default-x=\\\"131.8\\\" default-y=\\\"-15\\\">\\n        <pitch>\\n          <step>C</step>\\n          <octave>5</octave>\\n        </pitch>\\n        <duration>10080</duration>\\n        <type>quarter</type>\\n        <stem>down</stem>\\n        <lyric name=\\\"2\\\" number=\\\"2\\\">\\n          <syllabic>begin</syllabic>\\n          <text>Va</text>\\n        </lyric>\\n      </note>\\n      <note default-x=\\\"194.55\\\" default-y=\\\"-20\\\">\\n        <pitch>\\n          <step>B</step>\\n          <alter>-1</alter>\\n          <octave>4</octave>\\n        </pitch>\\n        <duration>10080</duration>\\n        <type>quarter</type>\\n        <stem>down</stem>\\n        <lyric name=\\\"2\\\" number=\\\"2\\\">\\n          <syllabic>end</syllabic>\\n          <text>ters</text>\\n        </lyric>\\n      </note>\\n    </measure>\\n    <!--========================= Measure 4 ==========================-->\\n    <measure number=\\\"4\\\" width=\\\"190.31\\\">\\n      <note default-x=\\\"16.27\\\" default-y=\\\"-25\\\">\\n        <pitch>\\n          <step>A</step>\\n          <alter>-1</alter>\\n          <octave>4</octave>\\n        </pitch>\\n        <duration>10080</duration>\\n        <type>quarter</type>\\n        <accidental>flat</accidental>\\n        <stem>up</stem>\\n        <lyric name=\\\"2\\\" number=\\\"2\\\">\\n          <syllabic>begin</syllabic>\\n          <text>Wil</text>\\n        </lyric>\\n      </note>\\n      <note default-x=\\\"77.85\\\" default-y=\\\"-30\\\">\\n        <pitch>\\n          <step>G</step>\\n          <octave>4</octave>\\n        </pitch>\\n        <duration>10080</duration>\\n        <type>quarter</type>\\n        <stem>up</stem>\\n      </note>\\n      <note default-x=\\\"139.44\\\" default-y=\\\"-35\\\">\\n        <pitch>\\n          <step>F</step>\\n          <octave>4</octave>\\n        </pitch>\\n        <duration>10080</duration>\\n        <type>quarter</type>\\n        <stem>up</stem>\\n        <notations>\\n          <fermata type=\\\"upright\\\" />\\n        </notations>\\n        <lyric name=\\\"2\\\" number=\\\"2\\\">\\n          <syllabic>end</syllabic>\\n          <text>len,</text>\\n        </lyric>\\n      </note>\\n    </measure>\\n    <!--========================= Measure 4 ==========================-->\\n    <measure number=\\\"4a\\\" width=\\\"158.12\\\">\\n      <print new-system=\\\"yes\\\">\\n        <system-layout>\\n          <system-margins>\\n            <left-margin>31.49</left-margin>\\n            <right-margin>0</right-margin>\\n          </system-margins>\\n          <system-distance>100</system-distance>\\n        </system-layout>\\n      </print>\\n      <note default-x=\\\"88.63\\\" default-y=\\\"-35\\\">\\n        <pitch>\\n          <step>F</step>\\n          <octave>4</octave>\\n        </pitch>\\n        <duration>5040</duration>\\n        <type>eighth</type>\\n        <stem>up</stem>\\n        <beam number=\\\"1\\\">begin</beam>\\n        <lyric name=\\\"2\\\" number=\\\"2\\\">\\n          <syllabic>single</syllabic>\\n          <text>von</text>\\n        </lyric>\\n      </note>\\n      <note default-x=\\\"122.57\\\" default-y=\\\"-30\\\">\\n        <pitch>\\n          <step>G</step>\\n          <octave>4</octave>\\n        </pitch>\\n        <duration>5040</duration>\\n        <type>eighth</type>\\n        <stem>up</stem>\\n        <beam number=\\\"1\\\">end</beam>\\n      </note>\\n    </measure>\\n    <!--========================= Measure 5 ==========================-->\\n    <measure number=\\\"5\\\" width=\\\"296.69\\\">\\n      <note default-x=\\\"24.01\\\" default-y=\\\"-25\\\">\\n        <pitch>\\n          <step>A</step>\\n          <alter>-1</alter>\\n          <octave>4</octave>\\n        </pitch>\\n        <duration>10080</duration>\\n        <type>quarter</type>\\n        <accidental>flat</accidental>\\n        <stem>up</stem>\\n        <lyric name=\\\"2\\\" number=\\\"2\\\">\\n          <syllabic>single</syllabic>\\n          <text>Sankt</text>\\n        </lyric>\\n      </note>\\n      <note default-x=\\\"99.31\\\" default-y=\\\"-20\\\">\\n        <pitch>\\n          <step>B</step>\\n          <alter>-1</alter>\\n          <octave>4</octave>\\n        </pitch>\\n        <duration>10080</duration>\\n        <type>quarter</type>\\n        <stem>down</stem>\\n        <lyric name=\\\"2\\\" number=\\\"2\\\">\\n          <syllabic>begin</syllabic>\\n          <text>Jo</text>\\n        </lyric>\\n      </note>\\n      <note default-x=\\\"159.55\\\" default-y=\\\"-15\\\">\\n        <pitch>\\n          <step>C</step>\\n          <octave>5</octave>\\n        </pitch>\\n        <duration>10080</duration>\\n        <type>quarter</type>\\n        <stem>down</stem>\\n        <lyric name=\\\"2\\\" number=\\\"2\\\">\\n          <syllabic>end</syllabic>\\n          <text>hann's</text>\\n        </lyric>\\n      </note>\\n      <note default-x=\\\"219.79\\\" default-y=\\\"-20\\\">\\n        <pitch>\\n          <step>B</step>\\n          <alter>-1</alter>\\n          <octave>4</octave>\\n        </pitch>\\n        <duration>10080</duration>\\n        <type>quarter</type>\\n        <stem>down</stem>\\n        <lyric name=\\\"2\\\" number=\\\"2\\\">\\n          <syllabic>single</syllabic>\\n          <text>die</text>\\n        </lyric>\\n      </note>\\n    </measure>\\n    <!--========================= Measure 6 ==========================-->\\n    <measure number=\\\"6\\\" width=\\\"270.42\\\">\\n      <note default-x=\\\"23.42\\\" default-y=\\\"-5\\\">\\n        <pitch>\\n          <step>E</step>\\n          <alter>-1</alter>\\n          <octave>5</octave>\\n        </pitch>\\n        <duration>10080</duration>\\n        <type>quarter</type>\\n        <stem>down</stem>\\n        <lyric name=\\\"2\\\" number=\\\"2\\\">\\n          <syllabic>begin</syllabic>\\n          <text>Teu</text>\\n        </lyric>\\n      </note>\\n      <note default-x=\\\"80.88\\\" default-y=\\\"-10\\\">\\n        <pitch>\\n          <step>D</step>\\n          <octave>5</octave>\\n        </pitch>\\n        <duration>5040</duration>\\n        <type>eighth</type>\\n        <stem>down</stem>\\n        <beam number=\\\"1\\\">begin</beam>\\n        <lyric name=\\\"2\\\" number=\\\"2\\\">\\n          <syllabic>end</syllabic>\\n          <text>fe</text>\\n        </lyric>\\n      </note>\\n      <note default-x=\\\"116.79\\\" default-y=\\\"-15\\\">\\n        <pitch>\\n          <step>C</step>\\n          <octave>5</octave>\\n        </pitch>\\n        <duration>5040</duration>\\n        <type>eighth</type>\\n        <stem>down</stem>\\n        <beam number=\\\"1\\\">end</beam>\\n      </note>\\n      <note default-x=\\\"153.9\\\" default-y=\\\"-15\\\">\\n        <pitch>\\n          <step>C</step>\\n          <octave>5</octave>\\n        </pitch>\\n        <duration>10080</duration>\\n        <type>quarter</type>\\n        <stem>down</stem>\\n        <notations>\\n          <fermata type=\\\"upright\\\" />\\n        </notations>\\n        <lyric name=\\\"2\\\" number=\\\"2\\\">\\n          <syllabic>single</syllabic>\\n          <text>nahm,</text>\\n        </lyric>\\n      </note>\\n      <note default-x=\\\"211.36\\\" default-y=\\\"-20\\\">\\n        <pitch>\\n          <step>B</step>\\n          <alter>-1</alter>\\n          <octave>4</octave>\\n        </pitch>\\n        <duration>10080</duration>\\n        <type>quarter</type>\\n        <accidental>flat</accidental>\\n        <stem>down</stem>\\n        <lyric name=\\\"2\\\" number=\\\"2\\\">\\n          <syllabic>single</syllabic>\\n          <text>sein</text>\\n        </lyric>\\n      </note>\\n    </measure>\\n    <!--========================= Measure 7 ==========================-->\\n    <measure number=\\\"7\\\" width=\\\"300.02\\\">\\n      <note default-x=\\\"31.36\\\" default-y=\\\"-5\\\">\\n        <pitch>\\n          <step>E</step>\\n          <alter>-1</alter>\\n          <octave>5</octave>\\n        </pitch>\\n        <duration>10080</duration>\\n        <type>quarter</type>\\n        <stem>down</stem>\\n        <lyric name=\\\"2\\\" number=\\\"2\\\">\\n          <syllabic>single</syllabic>\\n          <text>Werk</text>\\n        </lyric>\\n      </note>\\n      <note default-x=\\\"98.12\\\" default-y=\\\"-10\\\">\\n        <pitch>\\n          <step>D</step>\\n          <octave>5</octave>\\n        </pitch>\\n        <duration>10080</duration>\\n        <type>quarter</type>\\n        <stem>down</stem>\\n        <lyric name=\\\"2\\\" number=\\\"2\\\">\\n          <syllabic>single</syllabic>\\n          <text>und</text>\\n        </lyric>\\n      </note>\\n      <note default-x=\\\"164.89\\\" default-y=\\\"-15\\\">\\n        <pitch>\\n          <step>C</step>\\n          <octave>5</octave>\\n        </pitch>\\n        <duration>10080</duration>\\n        <type>quarter</type>\\n        <stem>down</stem>\\n        <lyric name=\\\"2\\\" number=\\\"2\\\">\\n          <syllabic>single</syllabic>\\n          <text>Amt</text>\\n        </lyric>\\n      </note>\\n      <note default-x=\\\"231.66\\\" default-y=\\\"-20\\\">\\n        <pitch>\\n          <step>B</step>\\n          <alter>-1</alter>\\n          <octave>4</octave>\\n        </pitch>\\n        <duration>10080</duration>\\n        <type>quarter</type>\\n        <stem>down</stem>\\n        <lyric name=\\\"2\\\" number=\\\"2\\\">\\n          <syllabic>single</syllabic>\\n          <text>zu</text>\\n        </lyric>\\n      </note>\\n    </measure>\\n    <!--========================= Measure 8 ==========================-->\\n    <measure number=\\\"8\\\" width=\\\"193.25\\\">\\n      <note default-x=\\\"16.27\\\" default-y=\\\"-25\\\">\\n        <pitch>\\n          <step>A</step>\\n          <alter>-1</alter>\\n          <octave>4</octave>\\n        </pitch>\\n        <duration>10080</duration>\\n        <type>quarter</type>\\n        <accidental>flat</accidental>\\n        <stem>up</stem>\\n        <lyric name=\\\"2\\\" number=\\\"2\\\">\\n          <syllabic>begin</syllabic>\\n          <text>'rf\\u00fcl</text>\\n        </lyric>\\n      </note>\\n      <note default-x=\\\"78.91\\\" default-y=\\\"-30\\\">\\n        <pitch>\\n          <step>G</step>\\n          <octave>4</octave>\\n        </pitch>\\n        <duration>10080</duration>\\n        <type>quarter</type>\\n        <stem>up</stem>\\n      </note>\\n      <note default-x=\\\"141.54\\\" default-y=\\\"-35\\\">\\n        <pitch>\\n          <step>F</step>\\n          <octave>4</octave>\\n        </pitch>\\n        <duration>10080</duration>\\n        <type>quarter</type>\\n        <stem>up</stem>\\n        <notations>\\n          <fermata type=\\\"upright\\\" />\\n        </notations>\\n        <lyric name=\\\"2\\\" number=\\\"2\\\">\\n          <syllabic>end</syllabic>\\n          <text>len;</text>\\n        </lyric>\\n      </note>\\n    </measure>\\n    <!--========================= Measure 8 ==========================-->\\n    <measure number=\\\"8a\\\" width=\\\"161.86\\\">\\n      <print new-page=\\\"yes\\\">\\n        <system-layout>\\n          <system-margins>\\n            <left-margin>31.49</left-margin>\\n            <right-margin>0</right-margin>\\n          </system-margins>\\n          <top-system-distance>140</top-system-distance>\\n        </system-layout>\\n      </print>\\n      <note default-x=\\\"88.63\\\" default-y=\\\"-35\\\">\\n        <pitch>\\n          <step>F</step>\\n          <octave>4</octave>\\n        </pitch>\\n        <duration>10080</duration>\\n        <type>quarter</type>\\n        <stem>up</stem>\\n        <lyric name=\\\"2\\\" number=\\\"2\\\">\\n          <syllabic>single</syllabic>\\n          <text>da</text>\\n        </lyric>\\n      </note>\\n    </measure>\\n    <!--========================= Measure 9 ==========================-->\\n    <measure number=\\\"9\\\" width=\\\"260.49\\\">\\n      <note default-x=\\\"31.41\\\" default-y=\\\"-20\\\">\\n        <pitch>\\n          <step>B</step>\\n          <alter>-1</alter>\\n          <octave>4</octave>\\n        </pitch>\\n        <duration>10080</duration>\\n        <type>quarter</type>\\n        <stem>down</stem>\\n        <lyric name=\\\"2\\\" number=\\\"2\\\">\\n          <syllabic>single</syllabic>\\n          <text>wollt'</text>\\n        </lyric>\\n      </note>\\n      <note default-x=\\\"88.28\\\" default-y=\\\"-20\\\">\\n        <pitch>\\n          <step>B</step>\\n          <alter>-1</alter>\\n          <octave>4</octave>\\n        </pitch>\\n        <duration>10080</duration>\\n        <type>quarter</type>\\n        <stem>down</stem>\\n        <lyric name=\\\"2\\\" number=\\\"2\\\">\\n          <syllabic>single</syllabic>\\n          <text>er</text>\\n        </lyric>\\n      </note>\\n      <note default-x=\\\"145.15\\\" default-y=\\\"-30\\\">\\n        <pitch>\\n          <step>G</step>\\n          <octave>4</octave>\\n        </pitch>\\n        <duration>10080</duration>\\n        <type>quarter</type>\\n        <stem>up</stem>\\n        <lyric name=\\\"2\\\" number=\\\"2\\\">\\n          <syllabic>begin</syllabic>\\n          <text>stif</text>\\n        </lyric>\\n      </note>\\n      <note default-x=\\\"202.02\\\" default-y=\\\"-15\\\">\\n        <pitch>\\n          <step>C</step>\\n          <octave>5</octave>\\n        </pitch>\\n        <duration>10080</duration>\\n        <type>quarter</type>\\n        <stem>down</stem>\\n        <lyric name=\\\"2\\\" number=\\\"2\\\">\\n          <syllabic>end</syllabic>\\n          <text>ten</text>\\n        </lyric>\\n      </note>\\n    </measure>\\n    <!--========================= Measure 10 =========================-->\\n    <measure number=\\\"10\\\" width=\\\"270.88\\\">\\n      <note default-x=\\\"22.25\\\" default-y=\\\"-15\\\">\\n        <pitch>\\n          <step>C</step>\\n          <octave>5</octave>\\n        </pitch>\\n        <duration>10080</duration>\\n        <type>quarter</type>\\n        <stem>down</stem>\\n        <lyric name=\\\"2\\\" number=\\\"2\\\">\\n          <syllabic>single</syllabic>\\n          <text>uns</text>\\n        </lyric>\\n      </note>\\n      <note default-x=\\\"90.87\\\" default-y=\\\"-20\\\">\\n        <pitch>\\n          <step>B</step>\\n          <alter>0</alter>\\n          <octave>4</octave>\\n        </pitch>\\n        <duration>10080</duration>\\n        <type>quarter</type>\\n        <accidental>natural</accidental>\\n        <stem>down</stem>\\n        <lyric name=\\\"2\\\" number=\\\"2\\\">\\n          <syllabic>single</syllabic>\\n          <text>ein</text>\\n        </lyric>\\n      </note>\\n      <note default-x=\\\"145.76\\\" default-y=\\\"-15\\\">\\n        <pitch>\\n          <step>C</step>\\n          <octave>5</octave>\\n        </pitch>\\n        <duration>10080</duration>\\n        <type>quarter</type>\\n        <stem>down</stem>\\n        <notations>\\n          <fermata type=\\\"upright\\\" />\\n        </notations>\\n        <lyric name=\\\"2\\\" number=\\\"2\\\">\\n          <syllabic>single</syllabic>\\n          <text>Bad,</text>\\n        </lyric>\\n      </note>\\n      <note default-x=\\\"200.66\\\" default-y=\\\"-15\\\">\\n        <pitch>\\n          <step>C</step>\\n          <octave>5</octave>\\n        </pitch>\\n        <duration>10080</duration>\\n        <type>quarter</type>\\n        <stem>down</stem>\\n        <lyric name=\\\"2\\\" number=\\\"2\\\">\\n          <syllabic>single</syllabic>\\n          <text>zu</text>\\n        </lyric>\\n      </note>\\n    </measure>\\n    <!--========================= Measure 11 =========================-->\\n    <measure number=\\\"11\\\" width=\\\"288.8\\\">\\n      <note default-x=\\\"35.68\\\" default-y=\\\"0\\\">\\n        <pitch>\\n          <step>F</step>\\n          <octave>5</octave>\\n        </pitch>\\n        <duration>10080</duration>\\n        <type>quarter</type>\\n        <stem>down</stem>\\n        <lyric name=\\\"2\\\" number=\\\"2\\\">\\n          <syllabic>begin</syllabic>\\n          <text>wasch</text>\\n        </lyric>\\n      </note>\\n      <note default-x=\\\"91.58\\\" default-y=\\\"0\\\">\\n        <pitch>\\n          <step>F</step>\\n          <octave>5</octave>\\n        </pitch>\\n        <duration>10080</duration>\\n        <type>quarter</type>\\n        <stem>down</stem>\\n        <lyric name=\\\"2\\\" number=\\\"2\\\">\\n          <syllabic>end</syllabic>\\n          <text>en</text>\\n        </lyric>\\n      </note>\\n      <note default-x=\\\"147.47\\\" default-y=\\\"5\\\">\\n        <pitch>\\n          <step>G</step>\\n          <octave>5</octave>\\n        </pitch>\\n        <duration>5040</duration>\\n        <type>eighth</type>\\n        <stem>down</stem>\\n        <beam number=\\\"1\\\">begin</beam>\\n        <lyric name=\\\"2\\\" number=\\\"2\\\">\\n          <syllabic>single</syllabic>\\n          <text>uns</text>\\n        </lyric>\\n      </note>\\n      <note default-x=\\\"182.4\\\" default-y=\\\"0\\\">\\n        <pitch>\\n          <step>F</step>\\n          <octave>5</octave>\\n        </pitch>\\n        <duration>5040</duration>\\n        <type>eighth</type>\\n        <stem>down</stem>\\n        <beam number=\\\"1\\\">end</beam>\\n      </note>\\n      <note default-x=\\\"217.34\\\" default-y=\\\"-5\\\">\\n        <pitch>\\n          <step>E</step>\\n          <alter>-1</alter>\\n          <octave>5</octave>\\n        </pitch>\\n        <duration>10080</duration>\\n        <type>quarter</type>\\n        <stem>down</stem>\\n        <lyric name=\\\"2\\\" number=\\\"2\\\">\\n          <syllabic>single</syllabic>\\n          <text>von</text>\\n        </lyric>\\n      </note>\\n    </measure>\\n    <!--========================= Measure 12 =========================-->\\n    <measure number=\\\"12\\\" width=\\\"236.48\\\">\\n      <note default-x=\\\"16.27\\\" default-y=\\\"0\\\">\\n        <pitch>\\n          <step>F</step>\\n          <octave>5</octave>\\n        </pitch>\\n        <duration>5040</duration>\\n        <type>eighth</type>\\n        <stem>down</stem>\\n        <beam number=\\\"1\\\">begin</beam>\\n        <lyric name=\\\"2\\\" number=\\\"2\\\">\\n          <syllabic>begin</syllabic>\\n          <text>S\\u00fcn</text>\\n        </lyric>\\n      </note>\\n      <note default-x=\\\"55.13\\\" default-y=\\\"-5\\\">\\n        <pitch>\\n          <step>E</step>\\n          <alter>-1</alter>\\n          <octave>5</octave>\\n        </pitch>\\n        <duration>5040</duration>\\n        <type>eighth</type>\\n        <stem>down</stem>\\n        <beam number=\\\"1\\\">end</beam>\\n      </note>\\n      <note default-x=\\\"94\\\" default-y=\\\"-10\\\">\\n        <pitch>\\n          <step>D</step>\\n          <octave>5</octave>\\n        </pitch>\\n        <duration>10080</duration>\\n        <type>quarter</type>\\n        <stem>down</stem>\\n      </note>\\n      <note default-x=\\\"181.44\\\" default-y=\\\"-15\\\">\\n        <pitch>\\n          <step>C</step>\\n          <octave>5</octave>\\n        </pitch>\\n        <duration>10080</duration>\\n        <type>quarter</type>\\n        <stem>down</stem>\\n        <notations>\\n          <fermata type=\\\"upright\\\" />\\n        </notations>\\n        <lyric name=\\\"2\\\" number=\\\"2\\\">\\n          <syllabic>end</syllabic>\\n          <text>den,</text>\\n        </lyric>\\n      </note>\\n    </measure>\\n    <!--========================= Measure 12 =========================-->\\n    <measure number=\\\"12a\\\" width=\\\"126.56\\\">\\n      <print new-system=\\\"yes\\\">\\n        <system-layout>\\n          <system-margins>\\n            <left-margin>31.49</left-margin>\\n            <right-margin>0</right-margin>\\n          </system-margins>\\n          <system-distance>100</system-distance>\\n        </system-layout>\\n      </print>\\n      <note default-x=\\\"86.71\\\" default-y=\\\"-10\\\">\\n        <pitch>\\n          <step>D</step>\\n          <octave>5</octave>\\n        </pitch>\\n        <duration>10080</duration>\\n        <type>quarter</type>\\n        <stem>down</stem>\\n        <lyric name=\\\"2\\\" number=\\\"2\\\">\\n          <syllabic>begin</syllabic>\\n          <text>er</text>\\n        </lyric>\\n      </note>\\n    </measure>\\n    <!--========================= Measure 13 =========================-->\\n    <measure number=\\\"13\\\" width=\\\"280.57\\\">\\n      <note default-x=\\\"21.56\\\" default-y=\\\"-5\\\">\\n        <pitch>\\n          <step>E</step>\\n          <alter>-1</alter>\\n          <octave>5</octave>\\n        </pitch>\\n        <duration>10080</duration>\\n        <type>quarter</type>\\n        <stem>down</stem>\\n        <lyric name=\\\"2\\\" number=\\\"2\\\">\\n          <syllabic>middle</syllabic>\\n          <text>s\\u00e4u</text>\\n        </lyric>\\n      </note>\\n      <note default-x=\\\"85.91\\\" default-y=\\\"-10\\\">\\n        <pitch>\\n          <step>D</step>\\n          <octave>5</octave>\\n        </pitch>\\n        <duration>10080</duration>\\n        <type>quarter</type>\\n        <stem>down</stem>\\n        <lyric name=\\\"2\\\" number=\\\"2\\\">\\n          <syllabic>end</syllabic>\\n          <text>fen</text>\\n        </lyric>\\n      </note>\\n      <note default-x=\\\"150.26\\\" default-y=\\\"-15\\\">\\n        <pitch>\\n          <step>C</step>\\n          <octave>5</octave>\\n        </pitch>\\n        <duration>10080</duration>\\n        <type>quarter</type>\\n        <stem>down</stem>\\n        <lyric name=\\\"2\\\" number=\\\"2\\\">\\n          <syllabic>single</syllabic>\\n          <text>auch</text>\\n        </lyric>\\n      </note>\\n      <note default-x=\\\"214.62\\\" default-y=\\\"-20\\\">\\n        <pitch>\\n          <step>B</step>\\n          <alter>-1</alter>\\n          <octave>4</octave>\\n        </pitch>\\n        <duration>10080</duration>\\n        <type>quarter</type>\\n        <stem>down</stem>\\n        <lyric name=\\\"2\\\" number=\\\"2\\\">\\n          <syllabic>single</syllabic>\\n          <text>den</text>\\n        </lyric>\\n      </note>\\n    </measure>\\n    <!--========================= Measure 14 =========================-->\\n    <measure number=\\\"14\\\" width=\\\"280.86\\\">\\n      <note default-x=\\\"14.36\\\" default-y=\\\"-15\\\">\\n        <pitch>\\n          <step>C</step>\\n          <octave>5</octave>\\n        </pitch>\\n        <duration>5040</duration>\\n        <type>eighth</type>\\n        <stem>down</stem>\\n        <beam number=\\\"1\\\">begin</beam>\\n        <lyric name=\\\"2\\\" number=\\\"2\\\">\\n          <syllabic>begin</syllabic>\\n          <text>bit</text>\\n        </lyric>\\n      </note>\\n      <note default-x=\\\"51.15\\\" default-y=\\\"-20\\\">\\n        <pitch>\\n          <step>B</step>\\n          <alter>-1</alter>\\n          <octave>4</octave>\\n        </pitch>\\n        <duration>5040</duration>\\n        <type>eighth</type>\\n        <stem>down</stem>\\n        <beam number=\\\"1\\\">end</beam>\\n      </note>\\n      <note default-x=\\\"87.94\\\" default-y=\\\"-25\\\">\\n        <pitch>\\n          <step>A</step>\\n          <alter>-1</alter>\\n          <octave>4</octave>\\n        </pitch>\\n        <duration>10080</duration>\\n        <type>quarter</type>\\n        <accidental>flat</accidental>\\n        <stem>up</stem>\\n        <lyric name=\\\"2\\\" number=\\\"2\\\">\\n          <syllabic>end</syllabic>\\n          <text>tern</text>\\n        </lyric>\\n      </note>\\n      <note default-x=\\\"146.81\\\" default-y=\\\"-30\\\">\\n        <pitch>\\n          <step>G</step>\\n          <octave>4</octave>\\n        </pitch>\\n        <duration>10080</duration>\\n        <type>quarter</type>\\n        <stem>up</stem>\\n        <notations>\\n          <fermata type=\\\"upright\\\" />\\n        </notations>\\n        <lyric name=\\\"2\\\" number=\\\"2\\\">\\n          <syllabic>single</syllabic>\\n          <text>Tod</text>\\n        </lyric>\\n      </note>\\n      <note default-x=\\\"205.68\\\" default-y=\\\"-35\\\">\\n        <pitch>\\n          <step>F</step>\\n          <octave>4</octave>\\n        </pitch>\\n        <duration>5040</duration>\\n        <type>eighth</type>\\n        <stem>up</stem>\\n        <beam number=\\\"1\\\">begin</beam>\\n        <lyric name=\\\"2\\\" number=\\\"2\\\">\\n          <syllabic>single</syllabic>\\n          <text>durch</text>\\n        </lyric>\\n      </note>\\n      <note default-x=\\\"242.47\\\" default-y=\\\"-30\\\">\\n        <pitch>\\n          <step>G</step>\\n          <octave>4</octave>\\n        </pitch>\\n        <duration>5040</duration>\\n        <type>eighth</type>\\n        <stem>up</stem>\\n        <beam number=\\\"1\\\">end</beam>\\n      </note>\\n    </measure>\\n    <!--========================= Measure 15 =========================-->\\n    <measure number=\\\"15\\\" width=\\\"280.9\\\">\\n      <note default-x=\\\"16.27\\\" default-y=\\\"-25\\\">\\n        <pitch>\\n          <step>A</step>\\n          <alter>-1</alter>\\n          <octave>4</octave>\\n        </pitch>\\n        <duration>10080</duration>\\n        <type>quarter</type>\\n        <accidental>flat</accidental>\\n        <stem>up</stem>\\n        <lyric name=\\\"2\\\" number=\\\"2\\\">\\n          <syllabic>single</syllabic>\\n          <text>sein</text>\\n        </lyric>\\n      </note>\\n      <note default-x=\\\"85.49\\\" default-y=\\\"-20\\\">\\n        <pitch>\\n          <step>B</step>\\n          <alter>-1</alter>\\n          <octave>4</octave>\\n        </pitch>\\n        <duration>10080</duration>\\n        <type>quarter</type>\\n        <stem>down</stem>\\n        <lyric name=\\\"2\\\" number=\\\"2\\\">\\n          <syllabic>single</syllabic>\\n          <text>selbs</text>\\n        </lyric>\\n      </note>\\n      <note default-x=\\\"140.86\\\" default-y=\\\"-15\\\">\\n        <pitch>\\n          <step>C</step>\\n          <octave>5</octave>\\n        </pitch>\\n        <duration>5040</duration>\\n        <type>eighth</type>\\n        <stem>down</stem>\\n        <beam number=\\\"1\\\">begin</beam>\\n        <lyric name=\\\"2\\\" number=\\\"2\\\">\\n          <syllabic>single</syllabic>\\n          <text>Blut</text>\\n        </lyric>\\n      </note>\\n      <note default-x=\\\"175.47\\\" default-y=\\\"-20\\\">\\n        <pitch>\\n          <step>B</step>\\n          <alter>-1</alter>\\n          <octave>4</octave>\\n        </pitch>\\n        <duration>5040</duration>\\n        <type>eighth</type>\\n        <stem>down</stem>\\n        <beam number=\\\"1\\\">end</beam>\\n      </note>\\n      <note default-x=\\\"210.08\\\" default-y=\\\"-25\\\">\\n        <pitch>\\n          <step>A</step>\\n          <alter>-1</alter>\\n          <octave>4</octave>\\n        </pitch>\\n        <duration>10080</duration>\\n        <type>quarter</type>\\n        <stem>up</stem>\\n        <lyric name=\\\"2\\\" number=\\\"2\\\">\\n          <syllabic>single</syllabic>\\n          <text>und</text>\\n        </lyric>\\n      </note>\\n    </measure>\\n    <!--========================= Measure 16 =========================-->\\n    <measure number=\\\"16\\\" width=\\\"249.63\\\">\\n      <note default-x=\\\"18.27\\\" default-y=\\\"-20\\\">\\n        <pitch>\\n          <step>B</step>\\n          <alter>-1</alter>\\n          <octave>4</octave>\\n        </pitch>\\n        <duration>5040</duration>\\n        <type>eighth</type>\\n        <stem>up</stem>\\n        <beam number=\\\"1\\\">begin</beam>\\n        <lyric name=\\\"2\\\" number=\\\"2\\\">\\n          <syllabic>begin</syllabic>\\n          <text>Wun</text>\\n        </lyric>\\n      </note>\\n      <note default-x=\\\"78\\\" default-y=\\\"-25\\\">\\n        <pitch>\\n          <step>A</step>\\n          <alter>-1</alter>\\n          <octave>4</octave>\\n        </pitch>\\n        <duration>5040</duration>\\n        <type>eighth</type>\\n        <accidental>flat</accidental>\\n        <stem>up</stem>\\n        <beam number=\\\"1\\\">end</beam>\\n      </note>\\n      <note default-x=\\\"114.76\\\" default-y=\\\"-30\\\">\\n        <pitch>\\n          <step>G</step>\\n          <octave>4</octave>\\n        </pitch>\\n        <duration>10080</duration>\\n        <type>quarter</type>\\n        <stem>up</stem>\\n      </note>\\n      <note default-x=\\\"197.48\\\" default-y=\\\"-35\\\">\\n        <pitch>\\n          <step>F</step>\\n          <octave>4</octave>\\n        </pitch>\\n        <duration>10080</duration>\\n        <type>quarter</type>\\n        <stem>up</stem>\\n        <notations>\\n          <fermata type=\\\"upright\\\" />\\n        </notations>\\n        <lyric name=\\\"2\\\" number=\\\"2\\\">\\n          <syllabic>end</syllabic>\\n          <text>den.</text>\\n        </lyric>\\n      </note>\\n    </measure>\\n    <!--========================= Measure 16 =========================-->\\n    <measure number=\\\"16a\\\" width=\\\"208.33\\\">\\n      <print new-page=\\\"yes\\\">\\n        <system-layout>\\n          <system-margins>\\n            <left-margin>31.49</left-margin>\\n            <right-margin>0</right-margin>\\n          </system-margins>\\n          <top-system-distance>140</top-system-distance>\\n        </system-layout>\\n      </print>\\n      <note default-x=\\\"86.71\\\" default-y=\\\"0\\\">\\n        <pitch>\\n          <step>F</step>\\n          <octave>5</octave>\\n        </pitch>\\n        <duration>10080</duration>\\n        <type>quarter</type>\\n        <stem>down</stem>\\n        <lyric name=\\\"2\\\" number=\\\"2\\\">\\n          <syllabic>single</syllabic>\\n          <text>Es</text>\\n        </lyric>\\n      </note>\\n    </measure>\\n    <!--========================= Measure 17 =========================-->\\n    <measure number=\\\"17\\\" width=\\\"577.72\\\">\\n      <note default-x=\\\"23.57\\\" default-y=\\\"0\\\">\\n        <pitch>\\n          <step>F</step>\\n          <octave>5</octave>\\n        </pitch>\\n        <duration>10080</duration>\\n        <type>quarter</type>\\n        <stem>down</stem>\\n        <lyric name=\\\"2\\\" number=\\\"2\\\">\\n          <syllabic>single</syllabic>\\n          <text>galt</text>\\n        </lyric>\\n      </note>\\n      <note default-x=\\\"161.71\\\" default-y=\\\"0\\\">\\n        <pitch>\\n          <step>F</step>\\n          <octave>5</octave>\\n        </pitch>\\n        <duration>10080</duration>\\n        <type>quarter</type>\\n        <stem>down</stem>\\n        <lyric name=\\\"2\\\" number=\\\"2\\\">\\n          <syllabic>single</syllabic>\\n          <text>ein</text>\\n        </lyric>\\n      </note>\\n      <note default-x=\\\"299.84\\\" default-y=\\\"5\\\">\\n        <pitch>\\n          <step>G</step>\\n          <octave>5</octave>\\n        </pitch>\\n        <duration>10080</duration>\\n        <type>quarter</type>\\n        <stem>down</stem>\\n        <lyric name=\\\"2\\\" number=\\\"2\\\">\\n          <syllabic>begin</syllabic>\\n          <text>neu</text>\\n        </lyric>\\n      </note>\\n      <note default-x=\\\"437.98\\\" default-y=\\\"0\\\">\\n        <pitch>\\n          <step>F</step>\\n          <octave>5</octave>\\n        </pitch>\\n        <duration>10080</duration>\\n        <type>quarter</type>\\n        <stem>down</stem>\\n        <lyric name=\\\"2\\\" number=\\\"2\\\">\\n          <syllabic>end</syllabic>\\n          <text>es</text>\\n        </lyric>\\n      </note>\\n    </measure>\\n    <!--========================= Measure 18 =========================-->\\n    <measure number=\\\"18\\\" width=\\\"432.46\\\">\\n      <note default-x=\\\"14.2\\\" default-y=\\\"-5\\\">\\n        <pitch>\\n          <step>E</step>\\n          <alter>-1</alter>\\n          <octave>5</octave>\\n        </pitch>\\n        <duration>10080</duration>\\n        <type>quarter</type>\\n        <stem>down</stem>\\n        <lyric name=\\\"2\\\" number=\\\"2\\\">\\n          <syllabic>begin</syllabic>\\n          <text>Le</text>\\n        </lyric>\\n      </note>\\n      <note default-x=\\\"159.8\\\" default-y=\\\"-10\\\">\\n        <pitch>\\n          <step>D</step>\\n          <octave>5</octave>\\n        </pitch>\\n        <duration>10080</duration>\\n        <type>quarter</type>\\n        <stem>down</stem>\\n      </note>\\n      <note default-x=\\\"305.39\\\" default-y=\\\"-15\\\">\\n        <pitch>\\n          <step>C</step>\\n          <octave>5</octave>\\n        </pitch>\\n        <duration>10080</duration>\\n        <type>quarter</type>\\n        <stem>down</stem>\\n        <notations>\\n          <fermata type=\\\"upright\\\" />\\n        </notations>\\n        <lyric name=\\\"2\\\" number=\\\"2\\\">\\n          <syllabic>end</syllabic>\\n          <text>ben.</text>\\n        </lyric>\\n      </note>\\n      <barline location=\\\"right\\\">\\n        <bar-style>light-heavy</bar-style>\\n      </barline>\\n    </measure>\\n  </part>\\n  <!--=========================== Part 2 ===========================-->\\n  <part id=\\\"P2\\\">\\n    <!--========================= Measure 0 ==========================-->\\n    <measure number=\\\"0\\\" width=\\\"205.88\\\">\\n      <print>\\n        <staff-layout number=\\\"1\\\">\\n          <staff-distance>130</staff-distance>\\n        </staff-layout>\\n      </print>\\n      <attributes>\\n        <divisions>10080</divisions>\\n        <key>\\n          <fifths>-2</fifths>\\n          <mode>major</mode>\\n        </key>\\n        <time symbol=\\\"common\\\">\\n          <beats>4</beats>\\n          <beat-type>4</beat-type>\\n        </time>\\n        <clef>\\n          <sign>G</sign>\\n          <line>2</line>\\n        </clef>\\n        <staff-details print-object=\\\"yes\\\" />\\n      </attributes>\\n      <note default-x=\\\"121.78\\\" default-y=\\\"-215\\\">\\n        <pitch>\\n          <step>D</step>\\n          <octave>4</octave>\\n        </pitch>\\n        <duration>10080</duration>\\n        <type>quarter</type>\\n        <stem>up</stem>\\n      </note>\\n    </measure>\\n    <!--========================= Measure 1 ==========================-->\\n    <measure number=\\\"1\\\" width=\\\"258.8\\\">\\n      <note default-x=\\\"16.27\\\" default-y=\\\"-220\\\">\\n        <pitch>\\n          <step>C</step>\\n          <octave>4</octave>\\n        </pitch>\\n        <duration>5040</duration>\\n        <type>eighth</type>\\n        <stem>up</stem>\\n        <beam number=\\\"1\\\">begin</beam>\\n      </note>\\n      <note default-x=\\\"47.57\\\" default-y=\\\"-215\\\">\\n        <pitch>\\n          <step>D</step>\\n          <octave>4</octave>\\n        </pitch>\\n        <duration>5040</duration>\\n        <type>eighth</type>\\n        <stem>up</stem>\\n        <beam number=\\\"1\\\">end</beam>\\n      </note>\\n      <note default-x=\\\"78.87\\\" default-y=\\\"-210\\\">\\n        <pitch>\\n          <step>E</step>\\n          <alter>-1</alter>\\n          <octave>4</octave>\\n        </pitch>\\n        <duration>10080</duration>\\n        <type>quarter</type>\\n        <stem>up</stem>\\n      </note>\\n      <note default-x=\\\"128.94\\\" default-y=\\\"-210\\\">\\n        <pitch>\\n          <step>E</step>\\n          <alter>-1</alter>\\n          <octave>4</octave>\\n        </pitch>\\n        <duration>5040</duration>\\n        <type>eighth</type>\\n        <stem>up</stem>\\n        <beam number=\\\"1\\\">begin</beam>\\n      </note>\\n      <note default-x=\\\"160.24\\\" default-y=\\\"-205\\\">\\n        <pitch>\\n          <step>F</step>\\n          <octave>4</octave>\\n        </pitch>\\n        <duration>5040</duration>\\n        <type>eighth</type>\\n        <stem>up</stem>\\n        <beam number=\\\"1\\\">end</beam>\\n      </note>\\n      <note default-x=\\\"194.6\\\" default-y=\\\"-200\\\">\\n        <pitch>\\n          <step>G</step>\\n          <octave>4</octave>\\n        </pitch>\\n        <duration>10080</duration>\\n        <type>quarter</type>\\n        <stem>up</stem>\\n      </note>\\n    </measure>\\n    <!--========================= Measure 2 ==========================-->\\n    <measure number=\\\"2\\\" width=\\\"268.22\\\">\\n      <note default-x=\\\"20.21\\\" default-y=\\\"-200\\\">\\n        <pitch>\\n          <step>G</step>\\n          <octave>4</octave>\\n        </pitch>\\n        <duration>10080</duration>\\n        <type>quarter</type>\\n        <stem>up</stem>\\n      </note>\\n      <note default-x=\\\"88.66\\\" default-y=\\\"-200\\\">\\n        <pitch>\\n          <step>G</step>\\n          <octave>4</octave>\\n        </pitch>\\n        <duration>10080</duration>\\n        <type>quarter</type>\\n        <stem>up</stem>\\n      </note>\\n      <note default-x=\\\"157.1\\\" default-y=\\\"-200\\\">\\n        <pitch>\\n          <step>G</step>\\n          <octave>4</octave>\\n        </pitch>\\n        <duration>10080</duration>\\n        <type>quarter</type>\\n        <stem>up</stem>\\n        <notations>\\n          <fermata type=\\\"upright\\\" />\\n        </notations>\\n      </note>\\n      <note default-x=\\\"211.86\\\" default-y=\\\"-200\\\">\\n        <pitch>\\n          <step>G</step>\\n          <octave>4</octave>\\n        </pitch>\\n        <duration>10080</duration>\\n        <type>quarter</type>\\n        <stem>up</stem>\\n      </note>\\n    </measure>\\n    <!--========================= Measure 3 ==========================-->\\n    <measure number=\\\"3\\\" width=\\\"258.9\\\">\\n      <note default-x=\\\"18.85\\\" default-y=\\\"-200\\\">\\n        <pitch>\\n          <step>G</step>\\n          <octave>4</octave>\\n        </pitch>\\n        <duration>10080</duration>\\n        <type>quarter</type>\\n        <stem>up</stem>\\n      </note>\\n      <note default-x=\\\"69.05\\\" default-y=\\\"-200\\\">\\n        <pitch>\\n          <step>G</step>\\n          <octave>4</octave>\\n        </pitch>\\n        <duration>10080</duration>\\n        <type>quarter</type>\\n        <stem>up</stem>\\n      </note>\\n      <note default-x=\\\"131.8\\\" default-y=\\\"-195\\\">\\n        <pitch>\\n          <step>A</step>\\n          <alter>-1</alter>\\n          <octave>4</octave>\\n        </pitch>\\n        <duration>5040</duration>\\n        <type>eighth</type>\\n        <accidental>flat</accidental>\\n        <stem>up</stem>\\n        <beam number=\\\"1\\\">begin</beam>\\n      </note>\\n      <note default-x=\\\"163.17\\\" default-y=\\\"-200\\\">\\n        <pitch>\\n          <step>G</step>\\n          <octave>4</octave>\\n        </pitch>\\n        <duration>5040</duration>\\n        <type>eighth</type>\\n        <stem>up</stem>\\n        <beam number=\\\"1\\\">end</beam>\\n      </note>\\n      <note default-x=\\\"194.55\\\" default-y=\\\"-205\\\">\\n        <pitch>\\n          <step>F</step>\\n          <octave>4</octave>\\n        </pitch>\\n        <duration>10080</duration>\\n        <type>quarter</type>\\n        <stem>up</stem>\\n      </note>\\n    </measure>\\n    <!--========================= Measure 4 ==========================-->\\n    <measure number=\\\"4\\\" width=\\\"190.31\\\">\\n      <note default-x=\\\"16.27\\\" default-y=\\\"-220\\\">\\n        <pitch>\\n          <step>C</step>\\n          <octave>4</octave>\\n        </pitch>\\n        <duration>5040</duration>\\n        <type>eighth</type>\\n        <stem>up</stem>\\n      </note>\\n      <note default-x=\\\"47.06\\\" default-y=\\\"-205\\\">\\n        <pitch>\\n          <step>F</step>\\n          <octave>4</octave>\\n        </pitch>\\n        <duration>10080</duration>\\n        <type>quarter</type>\\n        <stem>up</stem>\\n      </note>\\n      <note default-x=\\\"108.65\\\" default-y=\\\"-210\\\">\\n        <pitch>\\n          <step>E</step>\\n          <alter>0</alter>\\n          <octave>4</octave>\\n        </pitch>\\n        <duration>5040</duration>\\n        <type>eighth</type>\\n        <accidental>natural</accidental>\\n        <stem>up</stem>\\n      </note>\\n      <note default-x=\\\"139.44\\\" default-y=\\\"-220\\\">\\n        <pitch>\\n          <step>C</step>\\n          <octave>4</octave>\\n        </pitch>\\n        <duration>10080</duration>\\n        <type>quarter</type>\\n        <stem>up</stem>\\n        <notations>\\n          <fermata type=\\\"upright\\\" />\\n        </notations>\\n      </note>\\n    </measure>\\n    <!--========================= Measure 4 ==========================-->\\n    <measure number=\\\"4a\\\" width=\\\"158.12\\\">\\n      <print new-system=\\\"yes\\\">\\n        <staff-layout number=\\\"1\\\">\\n          <staff-distance>130</staff-distance>\\n        </staff-layout>\\n      </print>\\n      <attributes>\\n        <staff-details print-object=\\\"yes\\\" />\\n      </attributes>\\n      <note default-x=\\\"88.63\\\" default-y=\\\"-220\\\">\\n        <pitch>\\n          <step>C</step>\\n          <octave>4</octave>\\n        </pitch>\\n        <duration>10080</duration>\\n        <type>quarter</type>\\n        <stem>up</stem>\\n      </note>\\n    </measure>\\n    <!--========================= Measure 5 ==========================-->\\n    <measure number=\\\"5\\\" width=\\\"296.69\\\">\\n      <note default-x=\\\"24.01\\\" default-y=\\\"-205\\\">\\n        <pitch>\\n          <step>F</step>\\n          <octave>4</octave>\\n        </pitch>\\n        <duration>10080</duration>\\n        <type>quarter</type>\\n        <stem>up</stem>\\n      </note>\\n      <note default-x=\\\"99.31\\\" default-y=\\\"-200\\\">\\n        <pitch>\\n          <step>G</step>\\n          <octave>4</octave>\\n        </pitch>\\n        <duration>10080</duration>\\n        <type>quarter</type>\\n        <stem>up</stem>\\n      </note>\\n      <note default-x=\\\"159.55\\\" default-y=\\\"-195\\\">\\n        <pitch>\\n          <step>A</step>\\n          <alter>-1</alter>\\n          <octave>4</octave>\\n        </pitch>\\n        <duration>10080</duration>\\n        <type>quarter</type>\\n        <accidental>flat</accidental>\\n        <stem>up</stem>\\n      </note>\\n      <note default-x=\\\"219.79\\\" default-y=\\\"-200\\\">\\n        <pitch>\\n          <step>G</step>\\n          <octave>4</octave>\\n        </pitch>\\n        <duration>10080</duration>\\n        <type>quarter</type>\\n        <stem>up</stem>\\n      </note>\\n    </measure>\\n    <!--========================= Measure 6 ==========================-->\\n    <measure number=\\\"6\\\" width=\\\"270.42\\\">\\n      <note default-x=\\\"23.42\\\" default-y=\\\"-185\\\">\\n        <pitch>\\n          <step>C</step>\\n          <octave>5</octave>\\n        </pitch>\\n        <duration>10080</duration>\\n        <type>quarter</type>\\n        <stem>down</stem>\\n      </note>\\n      <note default-x=\\\"80.88\\\" default-y=\\\"-190\\\">\\n        <pitch>\\n          <step>B</step>\\n          <alter>0</alter>\\n          <octave>4</octave>\\n        </pitch>\\n        <duration>10080</duration>\\n        <type>quarter</type>\\n        <accidental>natural</accidental>\\n        <stem>down</stem>\\n      </note>\\n      <note default-x=\\\"153.9\\\" default-y=\\\"-200\\\">\\n        <pitch>\\n          <step>G</step>\\n          <octave>4</octave>\\n        </pitch>\\n        <duration>10080</duration>\\n        <type>quarter</type>\\n        <stem>up</stem>\\n        <notations>\\n          <fermata type=\\\"upright\\\" />\\n        </notations>\\n      </note>\\n      <note default-x=\\\"211.36\\\" default-y=\\\"-200\\\">\\n        <pitch>\\n          <step>G</step>\\n          <octave>4</octave>\\n        </pitch>\\n        <duration>10080</duration>\\n        <type>quarter</type>\\n        <stem>up</stem>\\n      </note>\\n    </measure>\\n    <!--========================= Measure 7 ==========================-->\\n    <measure number=\\\"7\\\" width=\\\"300.02\\\">\\n      <note default-x=\\\"31.36\\\" default-y=\\\"-200\\\">\\n        <pitch>\\n          <step>G</step>\\n          <octave>4</octave>\\n        </pitch>\\n        <duration>5040</duration>\\n        <type>eighth</type>\\n        <stem>up</stem>\\n        <beam number=\\\"1\\\">begin</beam>\\n      </note>\\n      <note default-x=\\\"64.74\\\" default-y=\\\"-185\\\">\\n        <pitch>\\n          <step>C</step>\\n          <octave>5</octave>\\n        </pitch>\\n        <duration>5040</duration>\\n        <type>eighth</type>\\n        <stem>up</stem>\\n        <beam number=\\\"1\\\">continue</beam>\\n      </note>\\n      <note default-x=\\\"98.12\\\" default-y=\\\"-185\\\">\\n        <pitch>\\n          <step>C</step>\\n          <octave>5</octave>\\n        </pitch>\\n        <duration>5040</duration>\\n        <type>eighth</type>\\n        <stem>up</stem>\\n        <beam number=\\\"1\\\">continue</beam>\\n      </note>\\n      <note default-x=\\\"131.51\\\" default-y=\\\"-190\\\">\\n        <pitch>\\n          <step>B</step>\\n          <alter>-1</alter>\\n          <octave>4</octave>\\n        </pitch>\\n        <duration>5040</duration>\\n        <type>eighth</type>\\n        <stem>up</stem>\\n        <beam number=\\\"1\\\">end</beam>\\n      </note>\\n      <note default-x=\\\"164.89\\\" default-y=\\\"-190\\\">\\n        <pitch>\\n          <step>B</step>\\n          <alter>-1</alter>\\n          <octave>4</octave>\\n        </pitch>\\n        <duration>5040</duration>\\n        <type>eighth</type>\\n        <stem>up</stem>\\n        <beam number=\\\"1\\\">begin</beam>\\n      </note>\\n      <note default-x=\\\"198.27\\\" default-y=\\\"-195\\\">\\n        <pitch>\\n          <step>A</step>\\n          <alter>-1</alter>\\n          <octave>4</octave>\\n        </pitch>\\n        <duration>5040</duration>\\n        <type>eighth</type>\\n        <accidental>flat</accidental>\\n        <stem>up</stem>\\n        <beam number=\\\"1\\\">continue</beam>\\n      </note>\\n      <note default-x=\\\"231.66\\\" default-y=\\\"-200\\\">\\n        <pitch>\\n          <step>G</step>\\n          <octave>4</octave>\\n        </pitch>\\n        <duration>5040</duration>\\n        <type>eighth</type>\\n        <stem>up</stem>\\n        <beam number=\\\"1\\\">continue</beam>\\n      </note>\\n      <note default-x=\\\"265.04\\\" default-y=\\\"-210\\\">\\n        <pitch>\\n          <step>E</step>\\n          <alter>0</alter>\\n          <octave>4</octave>\\n        </pitch>\\n        <duration>5040</duration>\\n        <type>eighth</type>\\n        <accidental>natural</accidental>\\n        <stem>up</stem>\\n        <beam number=\\\"1\\\">end</beam>\\n      </note>\\n    </measure>\\n    <!--========================= Measure 8 ==========================-->\\n    <measure number=\\\"8\\\" width=\\\"193.25\\\">\\n      <note default-x=\\\"16.27\\\" default-y=\\\"-205\\\">\\n        <pitch>\\n          <step>F</step>\\n          <octave>4</octave>\\n        </pitch>\\n        <duration>10080</duration>\\n        <type>quarter</type>\\n        <stem>up</stem>\\n      </note>\\n      <note default-x=\\\"78.91\\\" default-y=\\\"-210\\\">\\n        <pitch>\\n          <step>E</step>\\n          <alter>0</alter>\\n          <octave>4</octave>\\n        </pitch>\\n        <duration>10080</duration>\\n        <type>quarter</type>\\n        <accidental>natural</accidental>\\n        <stem>up</stem>\\n      </note>\\n      <note default-x=\\\"141.54\\\" default-y=\\\"-220\\\">\\n        <pitch>\\n          <step>C</step>\\n          <octave>4</octave>\\n        </pitch>\\n        <duration>10080</duration>\\n        <type>quarter</type>\\n        <stem>up</stem>\\n        <notations>\\n          <fermata type=\\\"upright\\\" />\\n        </notations>\\n      </note>\\n    </measure>\\n    <!--========================= Measure 8 ==========================-->\\n    <measure number=\\\"8a\\\" width=\\\"161.86\\\">\\n      <print new-page=\\\"yes\\\">\\n        <staff-layout number=\\\"1\\\">\\n          <staff-distance>130</staff-distance>\\n        </staff-layout>\\n      </print>\\n      <attributes>\\n        <staff-details print-object=\\\"yes\\\" />\\n      </attributes>\\n      <note default-x=\\\"88.63\\\" default-y=\\\"-220\\\">\\n        <pitch>\\n          <step>C</step>\\n          <octave>4</octave>\\n        </pitch>\\n        <duration>10080</duration>\\n        <type>quarter</type>\\n        <stem>up</stem>\\n      </note>\\n    </measure>\\n    <!--========================= Measure 9 ==========================-->\\n    <measure number=\\\"9\\\" width=\\\"260.49\\\">\\n      <note default-x=\\\"31.41\\\" default-y=\\\"-205\\\">\\n        <pitch>\\n          <step>F</step>\\n          <octave>4</octave>\\n        </pitch>\\n        <duration>10080</duration>\\n        <type>quarter</type>\\n        <stem>up</stem>\\n      </note>\\n      <note default-x=\\\"88.28\\\" default-y=\\\"-210\\\">\\n        <pitch>\\n          <step>E</step>\\n          <alter>-1</alter>\\n          <octave>4</octave>\\n        </pitch>\\n        <duration>5040</duration>\\n        <type>eighth</type>\\n        <stem>up</stem>\\n        <beam number=\\\"1\\\">begin</beam>\\n      </note>\\n      <note default-x=\\\"116.72\\\" default-y=\\\"-215\\\">\\n        <pitch>\\n          <step>D</step>\\n          <octave>4</octave>\\n        </pitch>\\n        <duration>5040</duration>\\n        <type>eighth</type>\\n        <stem>up</stem>\\n        <beam number=\\\"1\\\">end</beam>\\n      </note>\\n      <note default-x=\\\"145.15\\\" default-y=\\\"-210\\\">\\n        <pitch>\\n          <step>E</step>\\n          <alter>-1</alter>\\n          <octave>4</octave>\\n        </pitch>\\n        <duration>5040</duration>\\n        <type>eighth</type>\\n        <stem>up</stem>\\n        <beam number=\\\"1\\\">begin</beam>\\n      </note>\\n      <note default-x=\\\"173.59\\\" default-y=\\\"-205\\\">\\n        <pitch>\\n          <step>F</step>\\n          <octave>4</octave>\\n        </pitch>\\n        <duration>5040</duration>\\n        <type>eighth</type>\\n        <stem>up</stem>\\n        <beam number=\\\"1\\\">end</beam>\\n      </note>\\n      <note default-x=\\\"202.02\\\" default-y=\\\"-200\\\">\\n        <pitch>\\n          <step>G</step>\\n          <octave>4</octave>\\n        </pitch>\\n        <duration>10080</duration>\\n        <type>quarter</type>\\n        <stem>up</stem>\\n      </note>\\n    </measure>\\n    <!--========================= Measure 10 =========================-->\\n    <measure number=\\\"10\\\" width=\\\"270.88\\\">\\n      <note default-x=\\\"22.25\\\" default-y=\\\"-200\\\">\\n        <pitch>\\n          <step>G</step>\\n          <octave>4</octave>\\n        </pitch>\\n        <duration>10080</duration>\\n        <type>quarter</type>\\n        <stem>up</stem>\\n      </note>\\n      <note default-x=\\\"90.87\\\" default-y=\\\"-200\\\">\\n        <pitch>\\n          <step>G</step>\\n          <octave>4</octave>\\n        </pitch>\\n        <duration>10080</duration>\\n        <type>quarter</type>\\n        <stem>up</stem>\\n      </note>\\n      <note default-x=\\\"145.76\\\" default-y=\\\"-200\\\">\\n        <pitch>\\n          <step>G</step>\\n          <octave>4</octave>\\n        </pitch>\\n        <duration>10080</duration>\\n        <type>quarter</type>\\n        <stem>up</stem>\\n        <notations>\\n          <fermata type=\\\"upright\\\" />\\n        </notations>\\n      </note>\\n      <note default-x=\\\"200.66\\\" default-y=\\\"-200\\\">\\n        <pitch>\\n          <step>G</step>\\n          <octave>4</octave>\\n        </pitch>\\n        <duration>10080</duration>\\n        <type>quarter</type>\\n        <stem>up</stem>\\n      </note>\\n    </measure>\\n    <!--========================= Measure 11 =========================-->\\n    <measure number=\\\"11\\\" width=\\\"288.8\\\">\\n      <note default-x=\\\"35.68\\\" default-y=\\\"-185\\\">\\n        <pitch>\\n          <step>C</step>\\n          <octave>5</octave>\\n        </pitch>\\n        <duration>10080</duration>\\n        <type>quarter</type>\\n        <stem>down</stem>\\n      </note>\\n      <note default-x=\\\"91.58\\\" default-y=\\\"-190\\\">\\n        <pitch>\\n          <step>B</step>\\n          <alter>-1</alter>\\n          <octave>4</octave>\\n        </pitch>\\n        <duration>10080</duration>\\n        <type>quarter</type>\\n        <stem>down</stem>\\n      </note>\\n      <note default-x=\\\"147.47\\\" default-y=\\\"-190\\\">\\n        <pitch>\\n          <step>B</step>\\n          <alter>-1</alter>\\n          <octave>4</octave>\\n        </pitch>\\n        <duration>10080</duration>\\n        <type>quarter</type>\\n        <stem>down</stem>\\n      </note>\\n      <note default-x=\\\"217.34\\\" default-y=\\\"-185\\\">\\n        <pitch>\\n          <step>C</step>\\n          <octave>5</octave>\\n        </pitch>\\n        <duration>5040</duration>\\n        <type>eighth</type>\\n        <stem>down</stem>\\n        <beam number=\\\"1\\\">begin</beam>\\n      </note>\\n      <note default-x=\\\"252.27\\\" default-y=\\\"-190\\\">\\n        <pitch>\\n          <step>B</step>\\n          <alter>-1</alter>\\n          <octave>4</octave>\\n        </pitch>\\n        <duration>5040</duration>\\n        <type>eighth</type>\\n        <stem>down</stem>\\n        <beam number=\\\"1\\\">end</beam>\\n      </note>\\n    </measure>\\n    <!--========================= Measure 12 =========================-->\\n    <measure number=\\\"12\\\" width=\\\"236.48\\\">\\n      <note default-x=\\\"16.27\\\" default-y=\\\"-195\\\">\\n        <pitch>\\n          <step>A</step>\\n          <alter>-1</alter>\\n          <octave>4</octave>\\n        </pitch>\\n        <duration>10080</duration>\\n        <type>quarter</type>\\n        <accidental>flat</accidental>\\n        <stem>up</stem>\\n      </note>\\n      <note default-x=\\\"94\\\" default-y=\\\"-215\\\">\\n        <pitch>\\n          <step>D</step>\\n          <octave>4</octave>\\n        </pitch>\\n        <duration>5040</duration>\\n        <type>eighth</type>\\n        <stem>up</stem>\\n        <beam number=\\\"1\\\">begin</beam>\\n      </note>\\n      <note default-x=\\\"132.86\\\" default-y=\\\"-210\\\">\\n        <pitch>\\n          <step>E</step>\\n          <alter>-1</alter>\\n          <octave>4</octave>\\n        </pitch>\\n        <duration>2520</duration>\\n        <type>16th</type>\\n        <stem>up</stem>\\n        <beam number=\\\"1\\\">continue</beam>\\n        <beam number=\\\"2\\\">begin</beam>\\n      </note>\\n      <note default-x=\\\"157.15\\\" default-y=\\\"-205\\\">\\n        <pitch>\\n          <step>F</step>\\n          <octave>4</octave>\\n        </pitch>\\n        <duration>2520</duration>\\n        <type>16th</type>\\n        <stem>up</stem>\\n        <beam number=\\\"1\\\">end</beam>\\n        <beam number=\\\"2\\\">end</beam>\\n      </note>\\n      <note default-x=\\\"181.44\\\" default-y=\\\"-210\\\">\\n        <pitch>\\n          <step>E</step>\\n          <alter>-1</alter>\\n          <octave>4</octave>\\n        </pitch>\\n        <duration>10080</duration>\\n        <type>quarter</type>\\n        <stem>up</stem>\\n        <notations>\\n          <fermata type=\\\"upright\\\" />\\n        </notations>\\n      </note>\\n    </measure>\\n    <!--========================= Measure 12 =========================-->\\n    <measure number=\\\"12a\\\" width=\\\"126.56\\\">\\n      <print new-system=\\\"yes\\\">\\n        <staff-layout number=\\\"1\\\">\\n          <staff-distance>130</staff-distance>\\n        </staff-layout>\\n      </print>\\n      <attributes>\\n        <staff-details print-object=\\\"yes\\\" />\\n      </attributes>\\n      <note default-x=\\\"86.71\\\" default-y=\\\"-200\\\">\\n        <pitch>\\n          <step>G</step>\\n          <octave>4</octave>\\n        </pitch>\\n        <duration>10080</duration>\\n        <type>quarter</type>\\n        <stem>up</stem>\\n      </note>\\n    </measure>\\n    <!--========================= Measure 13 =========================-->\\n    <measure number=\\\"13\\\" width=\\\"280.57\\\">\\n      <note default-x=\\\"21.56\\\" default-y=\\\"-200\\\">\\n        <pitch>\\n          <step>G</step>\\n          <octave>4</octave>\\n        </pitch>\\n        <duration>10080</duration>\\n        <type>quarter</type>\\n        <stem>up</stem>\\n      </note>\\n      <note default-x=\\\"85.91\\\" default-y=\\\"-205\\\">\\n        <pitch>\\n          <step>F</step>\\n          <octave>4</octave>\\n        </pitch>\\n        <duration>10080</duration>\\n        <type>quarter</type>\\n        <stem>up</stem>\\n      </note>\\n      <note default-x=\\\"150.26\\\" default-y=\\\"-210\\\">\\n        <pitch>\\n          <step>E</step>\\n          <alter>-1</alter>\\n          <octave>4</octave>\\n        </pitch>\\n        <duration>5040</duration>\\n        <type>eighth</type>\\n        <stem>up</stem>\\n        <beam number=\\\"1\\\">begin</beam>\\n      </note>\\n      <note default-x=\\\"182.44\\\" default-y=\\\"-205\\\">\\n        <pitch>\\n          <step>F</step>\\n          <octave>4</octave>\\n        </pitch>\\n        <duration>5040</duration>\\n        <type>eighth</type>\\n        <stem>up</stem>\\n        <beam number=\\\"1\\\">end</beam>\\n      </note>\\n      <note default-x=\\\"214.62\\\" default-y=\\\"-200\\\">\\n        <pitch>\\n          <step>G</step>\\n          <octave>4</octave>\\n        </pitch>\\n        <duration>10080</duration>\\n        <type>quarter</type>\\n        <stem>up</stem>\\n      </note>\\n    </measure>\\n    <!--========================= Measure 14 =========================-->\\n    <measure number=\\\"14\\\" width=\\\"280.86\\\">\\n      <note default-x=\\\"14.36\\\" default-y=\\\"-220\\\">\\n        <pitch>\\n          <step>C</step>\\n          <octave>4</octave>\\n        </pitch>\\n        <duration>10080</duration>\\n        <type>quarter</type>\\n        <stem>up</stem>\\n      </note>\\n      <note default-x=\\\"87.94\\\" default-y=\\\"-205\\\">\\n        <pitch>\\n          <step>F</step>\\n          <octave>4</octave>\\n        </pitch>\\n        <duration>10080</duration>\\n        <type>quarter</type>\\n        <stem>up</stem>\\n      </note>\\n      <note default-x=\\\"146.81\\\" default-y=\\\"-210\\\">\\n        <pitch>\\n          <step>E</step>\\n          <alter>0</alter>\\n          <octave>4</octave>\\n        </pitch>\\n        <duration>10080</duration>\\n        <type>quarter</type>\\n        <accidental>natural</accidental>\\n        <stem>up</stem>\\n        <notations>\\n          <fermata type=\\\"upright\\\" />\\n        </notations>\\n      </note>\\n      <note default-x=\\\"205.68\\\" default-y=\\\"-220\\\">\\n        <pitch>\\n          <step>C</step>\\n          <octave>4</octave>\\n        </pitch>\\n        <duration>10080</duration>\\n        <type>quarter</type>\\n        <stem>up</stem>\\n      </note>\\n    </measure>\\n    <!--========================= Measure 15 =========================-->\\n    <measure number=\\\"15\\\" width=\\\"280.9\\\">\\n      <note default-x=\\\"16.27\\\" default-y=\\\"-205\\\">\\n        <pitch>\\n          <step>F</step>\\n          <octave>4</octave>\\n        </pitch>\\n        <duration>10080</duration>\\n        <type>quarter</type>\\n        <stem>up</stem>\\n      </note>\\n      <note default-x=\\\"85.49\\\" default-y=\\\"-200\\\">\\n        <pitch>\\n          <step>G</step>\\n          <octave>4</octave>\\n        </pitch>\\n        <duration>10080</duration>\\n        <type>quarter</type>\\n        <stem>up</stem>\\n      </note>\\n      <note default-x=\\\"140.86\\\" default-y=\\\"-200\\\">\\n        <pitch>\\n          <step>G</step>\\n          <octave>4</octave>\\n        </pitch>\\n        <duration>5040</duration>\\n        <type>eighth</type>\\n        <stem>up</stem>\\n        <beam number=\\\"1\\\">begin</beam>\\n      </note>\\n      <note default-x=\\\"175.47\\\" default-y=\\\"-210\\\">\\n        <pitch>\\n          <step>E</step>\\n          <alter>0</alter>\\n          <octave>4</octave>\\n        </pitch>\\n        <duration>5040</duration>\\n        <type>eighth</type>\\n        <accidental>natural</accidental>\\n        <stem>up</stem>\\n        <beam number=\\\"1\\\">end</beam>\\n      </note>\\n      <note default-x=\\\"210.08\\\" default-y=\\\"-205\\\">\\n        <pitch>\\n          <step>F</step>\\n          <octave>4</octave>\\n        </pitch>\\n        <duration>10080</duration>\\n        <type>quarter</type>\\n        <stem>up</stem>\\n      </note>\\n    </measure>\\n    <!--========================= Measure 16 =========================-->\\n    <measure number=\\\"16\\\" width=\\\"249.63\\\">\\n      <note default-x=\\\"18.27\\\" default-y=\\\"-200\\\">\\n        <pitch>\\n          <step>G</step>\\n          <octave>4</octave>\\n        </pitch>\\n        <duration>5040</duration>\\n        <type>eighth</type>\\n        <stem>up</stem>\\n        <beam number=\\\"1\\\">begin</beam>\\n      </note>\\n      <note default-x=\\\"78\\\" default-y=\\\"-205\\\">\\n        <pitch>\\n          <step>F</step>\\n          <octave>4</octave>\\n        </pitch>\\n        <duration>5040</duration>\\n        <type>eighth</type>\\n        <stem>up</stem>\\n        <beam number=\\\"1\\\">end</beam>\\n      </note>\\n      <note default-x=\\\"114.76\\\" default-y=\\\"-210\\\">\\n        <pitch>\\n          <step>E</step>\\n          <alter>0</alter>\\n          <octave>4</octave>\\n        </pitch>\\n        <duration>10080</duration>\\n        <type>quarter</type>\\n        <accidental>natural</accidental>\\n        <stem>up</stem>\\n      </note>\\n      <note default-x=\\\"197.48\\\" default-y=\\\"-220\\\">\\n        <pitch>\\n          <step>C</step>\\n          <octave>4</octave>\\n        </pitch>\\n        <duration>10080</duration>\\n        <type>quarter</type>\\n        <stem>up</stem>\\n        <notations>\\n          <fermata type=\\\"upright\\\" />\\n        </notations>\\n      </note>\\n    </measure>\\n    <!--========================= Measure 16 =========================-->\\n    <measure number=\\\"16a\\\" width=\\\"208.33\\\">\\n      <print new-page=\\\"yes\\\">\\n        <staff-layout number=\\\"1\\\">\\n          <staff-distance>130</staff-distance>\\n        </staff-layout>\\n      </print>\\n      <attributes>\\n        <staff-details print-object=\\\"yes\\\" />\\n      </attributes>\\n      <note default-x=\\\"86.71\\\" default-y=\\\"-185\\\">\\n        <pitch>\\n          <step>C</step>\\n          <octave>5</octave>\\n        </pitch>\\n        <duration>10080</duration>\\n        <type>quarter</type>\\n        <stem>down</stem>\\n      </note>\\n    </measure>\\n    <!--========================= Measure 17 =========================-->\\n    <measure number=\\\"17\\\" width=\\\"577.72\\\">\\n      <note default-x=\\\"23.57\\\" default-y=\\\"-190\\\">\\n        <pitch>\\n          <step>B</step>\\n          <alter>-1</alter>\\n          <octave>4</octave>\\n        </pitch>\\n        <duration>10080</duration>\\n        <type>quarter</type>\\n        <stem>down</stem>\\n      </note>\\n      <note default-x=\\\"161.71\\\" default-y=\\\"-190\\\">\\n        <pitch>\\n          <step>B</step>\\n          <alter>-1</alter>\\n          <octave>4</octave>\\n        </pitch>\\n        <duration>10080</duration>\\n        <type>quarter</type>\\n        <stem>down</stem>\\n      </note>\\n      <note default-x=\\\"299.84\\\" default-y=\\\"-190\\\">\\n        <pitch>\\n          <step>B</step>\\n          <alter>-1</alter>\\n          <octave>4</octave>\\n        </pitch>\\n        <duration>10080</duration>\\n        <type>quarter</type>\\n        <stem>down</stem>\\n      </note>\\n      <note default-x=\\\"437.98\\\" default-y=\\\"-185\\\">\\n        <pitch>\\n          <step>C</step>\\n          <octave>5</octave>\\n        </pitch>\\n        <duration>5040</duration>\\n        <type>eighth</type>\\n        <stem>up</stem>\\n        <beam number=\\\"1\\\">begin</beam>\\n      </note>\\n      <note default-x=\\\"507.05\\\" default-y=\\\"-205\\\">\\n        <pitch>\\n          <step>F</step>\\n          <octave>4</octave>\\n        </pitch>\\n        <duration>5040</duration>\\n        <type>eighth</type>\\n        <stem>up</stem>\\n        <beam number=\\\"1\\\">end</beam>\\n      </note>\\n    </measure>\\n    <!--========================= Measure 18 =========================-->\\n    <measure number=\\\"18\\\" width=\\\"432.46\\\">\\n      <note default-x=\\\"14.2\\\" default-y=\\\"-200\\\">\\n        <pitch>\\n          <step>G</step>\\n          <octave>4</octave>\\n        </pitch>\\n        <duration>15120</duration>\\n        <type>quarter</type>\\n        <dot />\\n        <stem>up</stem>\\n      </note>\\n      <note default-x=\\\"232.59\\\" default-y=\\\"-205\\\">\\n        <pitch>\\n          <step>F</step>\\n          <octave>4</octave>\\n        </pitch>\\n        <duration>5040</duration>\\n        <type>eighth</type>\\n        <stem>up</stem>\\n      </note>\\n      <note default-x=\\\"305.39\\\" default-y=\\\"-210\\\">\\n        <pitch>\\n          <step>E</step>\\n          <alter>0</alter>\\n          <octave>4</octave>\\n        </pitch>\\n        <duration>10080</duration>\\n        <type>quarter</type>\\n        <accidental>natural</accidental>\\n        <stem>up</stem>\\n        <notations>\\n          <fermata type=\\\"upright\\\" />\\n        </notations>\\n      </note>\\n      <barline location=\\\"right\\\">\\n        <bar-style>light-heavy</bar-style>\\n      </barline>\\n    </measure>\\n  </part>\\n  <!--=========================== Part 3 ===========================-->\\n  <part id=\\\"P3\\\">\\n    <!--========================= Measure 0 ==========================-->\\n    <measure number=\\\"0\\\" width=\\\"205.88\\\">\\n      <print>\\n        <staff-layout number=\\\"1\\\">\\n          <staff-distance>130</staff-distance>\\n        </staff-layout>\\n      </print>\\n      <attributes>\\n        <divisions>10080</divisions>\\n        <key>\\n          <fifths>-2</fifths>\\n          <mode>major</mode>\\n        </key>\\n        <time symbol=\\\"common\\\">\\n          <beats>4</beats>\\n          <beat-type>4</beat-type>\\n        </time>\\n        <clef>\\n          <sign>F</sign>\\n          <line>4</line>\\n        </clef>\\n        <staff-details print-object=\\\"yes\\\" />\\n      </attributes>\\n      <note default-x=\\\"121.78\\\" default-y=\\\"-335\\\">\\n        <pitch>\\n          <step>B</step>\\n          <alter>-1</alter>\\n          <octave>3</octave>\\n        </pitch>\\n        <duration>10080</duration>\\n        <type>quarter</type>\\n        <stem>down</stem>\\n      </note>\\n    </measure>\\n    <!--========================= Measure 1 ==========================-->\\n    <measure number=\\\"1\\\" width=\\\"258.8\\\">\\n      <note default-x=\\\"16.27\\\" default-y=\\\"-340\\\">\\n        <pitch>\\n          <step>A</step>\\n          <alter>-1</alter>\\n          <octave>3</octave>\\n        </pitch>\\n        <duration>10080</duration>\\n        <type>quarter</type>\\n        <accidental>flat</accidental>\\n        <stem>down</stem>\\n      </note>\\n      <note default-x=\\\"78.87\\\" default-y=\\\"-345\\\">\\n        <pitch>\\n          <step>G</step>\\n          <octave>3</octave>\\n        </pitch>\\n        <duration>10080</duration>\\n        <type>quarter</type>\\n        <stem>down</stem>\\n      </note>\\n      <note default-x=\\\"128.94\\\" default-y=\\\"-340\\\">\\n        <pitch>\\n          <step>A</step>\\n          <alter>-1</alter>\\n          <octave>3</octave>\\n        </pitch>\\n        <duration>10080</duration>\\n        <type>quarter</type>\\n        <stem>down</stem>\\n      </note>\\n      <note default-x=\\\"194.6\\\" default-y=\\\"-320\\\">\\n        <pitch>\\n          <step>E</step>\\n          <alter>-1</alter>\\n          <octave>4</octave>\\n        </pitch>\\n        <duration>5040</duration>\\n        <type>eighth</type>\\n        <stem>down</stem>\\n        <beam number=\\\"1\\\">begin</beam>\\n      </note>\\n      <note default-x=\\\"225.9\\\" default-y=\\\"-325\\\">\\n        <pitch>\\n          <step>D</step>\\n          <octave>4</octave>\\n        </pitch>\\n        <duration>5040</duration>\\n        <type>eighth</type>\\n        <stem>down</stem>\\n        <beam number=\\\"1\\\">end</beam>\\n      </note>\\n    </measure>\\n    <!--========================= Measure 2 ==========================-->\\n    <measure number=\\\"2\\\" width=\\\"268.22\\\">\\n      <note default-x=\\\"20.21\\\" default-y=\\\"-330\\\">\\n        <pitch>\\n          <step>C</step>\\n          <octave>4</octave>\\n        </pitch>\\n        <duration>10080</duration>\\n        <type>quarter</type>\\n        <stem>down</stem>\\n      </note>\\n      <note default-x=\\\"88.66\\\" default-y=\\\"-335\\\">\\n        <pitch>\\n          <step>B</step>\\n          <alter>0</alter>\\n          <octave>3</octave>\\n        </pitch>\\n        <duration>10080</duration>\\n        <type>quarter</type>\\n        <accidental>natural</accidental>\\n        <stem>down</stem>\\n      </note>\\n      <note default-x=\\\"157.1\\\" default-y=\\\"-320\\\">\\n        <pitch>\\n          <step>E</step>\\n          <alter>-1</alter>\\n          <octave>4</octave>\\n        </pitch>\\n        <duration>10080</duration>\\n        <type>quarter</type>\\n        <stem>down</stem>\\n        <notations>\\n          <fermata type=\\\"upright\\\" />\\n        </notations>\\n      </note>\\n      <note default-x=\\\"211.86\\\" default-y=\\\"-325\\\">\\n        <pitch>\\n          <step>D</step>\\n          <octave>4</octave>\\n        </pitch>\\n        <duration>10080</duration>\\n        <type>quarter</type>\\n        <stem>down</stem>\\n      </note>\\n    </measure>\\n    <!--========================= Measure 3 ==========================-->\\n    <measure number=\\\"3\\\" width=\\\"258.9\\\">\\n      <note default-x=\\\"18.85\\\" default-y=\\\"-330\\\">\\n        <pitch>\\n          <step>C</step>\\n          <octave>4</octave>\\n        </pitch>\\n        <duration>10080</duration>\\n        <type>quarter</type>\\n        <stem>down</stem>\\n      </note>\\n      <note default-x=\\\"69.05\\\" default-y=\\\"-325\\\">\\n        <pitch>\\n          <step>D</step>\\n          <octave>4</octave>\\n        </pitch>\\n        <duration>5040</duration>\\n        <type>eighth</type>\\n        <stem>down</stem>\\n        <beam number=\\\"1\\\">begin</beam>\\n      </note>\\n      <note default-x=\\\"100.43\\\" default-y=\\\"-320\\\">\\n        <pitch>\\n          <step>E</step>\\n          <alter>0</alter>\\n          <octave>4</octave>\\n        </pitch>\\n        <duration>5040</duration>\\n        <type>eighth</type>\\n        <accidental>natural</accidental>\\n        <stem>down</stem>\\n        <beam number=\\\"1\\\">end</beam>\\n      </note>\\n      <note default-x=\\\"131.8\\\" default-y=\\\"-315\\\">\\n        <pitch>\\n          <step>F</step>\\n          <octave>4</octave>\\n        </pitch>\\n        <duration>10080</duration>\\n        <type>quarter</type>\\n        <stem>down</stem>\\n      </note>\\n      <note default-x=\\\"194.55\\\" default-y=\\\"-350\\\">\\n        <pitch>\\n          <step>F</step>\\n          <octave>3</octave>\\n        </pitch>\\n        <duration>5040</duration>\\n        <type>eighth</type>\\n        <stem>down</stem>\\n        <beam number=\\\"1\\\">begin</beam>\\n      </note>\\n      <note default-x=\\\"225.92\\\" default-y=\\\"-345\\\">\\n        <pitch>\\n          <step>G</step>\\n          <octave>3</octave>\\n        </pitch>\\n        <duration>5040</duration>\\n        <type>eighth</type>\\n        <stem>down</stem>\\n        <beam number=\\\"1\\\">end</beam>\\n      </note>\\n    </measure>\\n    <!--========================= Measure 4 ==========================-->\\n    <measure number=\\\"4\\\" width=\\\"190.31\\\">\\n      <note default-x=\\\"16.27\\\" default-y=\\\"-340\\\">\\n        <pitch>\\n          <step>A</step>\\n          <alter>-1</alter>\\n          <octave>3</octave>\\n        </pitch>\\n        <duration>5040</duration>\\n        <type>eighth</type>\\n        <accidental>flat</accidental>\\n        <stem>down</stem>\\n        <beam number=\\\"1\\\">begin</beam>\\n      </note>\\n      <note default-x=\\\"47.06\\\" default-y=\\\"-335\\\">\\n        <pitch>\\n          <step>B</step>\\n          <alter>-1</alter>\\n          <octave>3</octave>\\n        </pitch>\\n        <duration>5040</duration>\\n        <type>eighth</type>\\n        <stem>down</stem>\\n        <beam number=\\\"1\\\">end</beam>\\n      </note>\\n      <note default-x=\\\"77.85\\\" default-y=\\\"-330\\\">\\n        <pitch>\\n          <step>C</step>\\n          <octave>4</octave>\\n        </pitch>\\n        <duration>10080</duration>\\n        <type>quarter</type>\\n        <stem>down</stem>\\n      </note>\\n      <note default-x=\\\"139.44\\\" default-y=\\\"-340\\\">\\n        <pitch>\\n          <step>A</step>\\n          <alter>-1</alter>\\n          <octave>3</octave>\\n        </pitch>\\n        <duration>10080</duration>\\n        <type>quarter</type>\\n        <stem>down</stem>\\n        <notations>\\n          <fermata type=\\\"upright\\\" />\\n        </notations>\\n      </note>\\n    </measure>\\n    <!--========================= Measure 4 ==========================-->\\n    <measure number=\\\"4a\\\" width=\\\"158.12\\\">\\n      <print new-system=\\\"yes\\\">\\n        <staff-layout number=\\\"1\\\">\\n          <staff-distance>130</staff-distance>\\n        </staff-layout>\\n      </print>\\n      <attributes>\\n        <staff-details print-object=\\\"yes\\\" />\\n      </attributes>\\n      <note default-x=\\\"88.63\\\" default-y=\\\"-340\\\">\\n        <pitch>\\n          <step>A</step>\\n          <alter>-1</alter>\\n          <octave>3</octave>\\n        </pitch>\\n        <duration>5040</duration>\\n        <type>eighth</type>\\n        <accidental>flat</accidental>\\n        <stem>down</stem>\\n        <beam number=\\\"1\\\">begin</beam>\\n      </note>\\n      <note default-x=\\\"122.57\\\" default-y=\\\"-345\\\">\\n        <pitch>\\n          <step>G</step>\\n          <octave>3</octave>\\n        </pitch>\\n        <duration>5040</duration>\\n        <type>eighth</type>\\n        <stem>down</stem>\\n        <beam number=\\\"1\\\">end</beam>\\n      </note>\\n    </measure>\\n    <!--========================= Measure 5 ==========================-->\\n    <measure number=\\\"5\\\" width=\\\"296.69\\\">\\n      <note default-x=\\\"24.01\\\" default-y=\\\"-350\\\">\\n        <pitch>\\n          <step>F</step>\\n          <octave>3</octave>\\n        </pitch>\\n        <duration>5040</duration>\\n        <type>eighth</type>\\n        <stem>down</stem>\\n        <beam number=\\\"1\\\">begin</beam>\\n      </note>\\n      <note default-x=\\\"61.66\\\" default-y=\\\"-340\\\">\\n        <pitch>\\n          <step>A</step>\\n          <alter>-1</alter>\\n          <octave>3</octave>\\n        </pitch>\\n        <duration>5040</duration>\\n        <type>eighth</type>\\n        <accidental>flat</accidental>\\n        <stem>down</stem>\\n        <beam number=\\\"1\\\">end</beam>\\n      </note>\\n      <note default-x=\\\"99.31\\\" default-y=\\\"-325\\\">\\n        <pitch>\\n          <step>D</step>\\n          <alter>-1</alter>\\n          <octave>4</octave>\\n        </pitch>\\n        <duration>10080</duration>\\n        <type>quarter</type>\\n        <accidental>flat</accidental>\\n        <stem>down</stem>\\n      </note>\\n      <note default-x=\\\"159.55\\\" default-y=\\\"-320\\\">\\n        <pitch>\\n          <step>E</step>\\n          <alter>-1</alter>\\n          <octave>4</octave>\\n        </pitch>\\n        <duration>10080</duration>\\n        <type>quarter</type>\\n        <stem>down</stem>\\n      </note>\\n      <note default-x=\\\"219.79\\\" default-y=\\\"-320\\\">\\n        <pitch>\\n          <step>E</step>\\n          <alter>-1</alter>\\n          <octave>4</octave>\\n        </pitch>\\n        <duration>5040</duration>\\n        <type>eighth</type>\\n        <stem>down</stem>\\n        <beam number=\\\"1\\\">begin</beam>\\n      </note>\\n      <note default-x=\\\"257.44\\\" default-y=\\\"-315\\\">\\n        <pitch>\\n          <step>F</step>\\n          <octave>4</octave>\\n        </pitch>\\n        <duration>5040</duration>\\n        <type>eighth</type>\\n        <stem>down</stem>\\n        <beam number=\\\"1\\\">end</beam>\\n      </note>\\n    </measure>\\n    <!--========================= Measure 6 ==========================-->\\n    <measure number=\\\"6\\\" width=\\\"270.42\\\">\\n      <note default-x=\\\"23.42\\\" default-y=\\\"-310\\\">\\n        <pitch>\\n          <step>G</step>\\n          <octave>4</octave>\\n        </pitch>\\n        <duration>10080</duration>\\n        <type>quarter</type>\\n        <stem>down</stem>\\n      </note>\\n      <note default-x=\\\"80.88\\\" default-y=\\\"-310\\\">\\n        <pitch>\\n          <step>G</step>\\n          <octave>4</octave>\\n        </pitch>\\n        <duration>10080</duration>\\n        <type>quarter</type>\\n        <stem>down</stem>\\n      </note>\\n      <note default-x=\\\"153.9\\\" default-y=\\\"-320\\\">\\n        <pitch>\\n          <step>E</step>\\n          <alter>-1</alter>\\n          <octave>4</octave>\\n        </pitch>\\n        <duration>10080</duration>\\n        <type>quarter</type>\\n        <stem>down</stem>\\n        <notations>\\n          <fermata type=\\\"upright\\\" />\\n        </notations>\\n      </note>\\n      <note default-x=\\\"211.36\\\" default-y=\\\"-325\\\">\\n        <pitch>\\n          <step>D</step>\\n          <octave>4</octave>\\n        </pitch>\\n        <duration>10080</duration>\\n        <type>quarter</type>\\n        <stem>down</stem>\\n      </note>\\n    </measure>\\n    <!--========================= Measure 7 ==========================-->\\n    <measure number=\\\"7\\\" width=\\\"300.02\\\">\\n      <note default-x=\\\"31.36\\\" default-y=\\\"-330\\\">\\n        <pitch>\\n          <step>C</step>\\n          <octave>4</octave>\\n        </pitch>\\n        <duration>10080</duration>\\n        <type>quarter</type>\\n        <stem>down</stem>\\n      </note>\\n      <note default-x=\\\"98.12\\\" default-y=\\\"-350\\\">\\n        <pitch>\\n          <step>F</step>\\n          <octave>3</octave>\\n        </pitch>\\n        <duration>5040</duration>\\n        <type>eighth</type>\\n        <stem>down</stem>\\n        <beam number=\\\"1\\\">begin</beam>\\n      </note>\\n      <note default-x=\\\"131.51\\\" default-y=\\\"-345\\\">\\n        <pitch>\\n          <step>G</step>\\n          <octave>3</octave>\\n        </pitch>\\n        <duration>5040</duration>\\n        <type>eighth</type>\\n        <stem>down</stem>\\n        <beam number=\\\"1\\\">end</beam>\\n      </note>\\n      <note default-x=\\\"164.89\\\" default-y=\\\"-340\\\">\\n        <pitch>\\n          <step>A</step>\\n          <alter>-1</alter>\\n          <octave>3</octave>\\n        </pitch>\\n        <duration>10080</duration>\\n        <type>quarter</type>\\n        <accidental>flat</accidental>\\n        <stem>down</stem>\\n      </note>\\n      <note default-x=\\\"231.66\\\" default-y=\\\"-335\\\">\\n        <pitch>\\n          <step>B</step>\\n          <alter>-1</alter>\\n          <octave>3</octave>\\n        </pitch>\\n        <duration>10080</duration>\\n        <type>quarter</type>\\n        <stem>down</stem>\\n      </note>\\n    </measure>\\n    <!--========================= Measure 8 ==========================-->\\n    <measure number=\\\"8\\\" width=\\\"193.25\\\">\\n      <note default-x=\\\"16.27\\\" default-y=\\\"-330\\\">\\n        <pitch>\\n          <step>C</step>\\n          <octave>4</octave>\\n        </pitch>\\n        <duration>10080</duration>\\n        <type>quarter</type>\\n        <stem>down</stem>\\n      </note>\\n      <note default-x=\\\"78.91\\\" default-y=\\\"-335\\\">\\n        <pitch>\\n          <step>B</step>\\n          <alter>-1</alter>\\n          <octave>3</octave>\\n        </pitch>\\n        <duration>5040</duration>\\n        <type>eighth</type>\\n        <stem>down</stem>\\n        <beam number=\\\"1\\\">begin</beam>\\n      </note>\\n      <note default-x=\\\"110.22\\\" default-y=\\\"-340\\\">\\n        <pitch>\\n          <step>A</step>\\n          <alter>-1</alter>\\n          <octave>3</octave>\\n        </pitch>\\n        <duration>5040</duration>\\n        <type>eighth</type>\\n        <accidental>flat</accidental>\\n        <stem>down</stem>\\n        <beam number=\\\"1\\\">end</beam>\\n      </note>\\n      <note default-x=\\\"141.54\\\" default-y=\\\"-340\\\">\\n        <pitch>\\n          <step>A</step>\\n          <alter>-1</alter>\\n          <octave>3</octave>\\n        </pitch>\\n        <duration>10080</duration>\\n        <type>quarter</type>\\n        <stem>down</stem>\\n        <notations>\\n          <fermata type=\\\"upright\\\" />\\n        </notations>\\n      </note>\\n    </measure>\\n    <!--========================= Measure 8 ==========================-->\\n    <measure number=\\\"8a\\\" width=\\\"161.86\\\">\\n      <print new-page=\\\"yes\\\">\\n        <staff-layout number=\\\"1\\\">\\n          <staff-distance>130</staff-distance>\\n        </staff-layout>\\n      </print>\\n      <attributes>\\n        <staff-details print-object=\\\"yes\\\" />\\n      </attributes>\\n      <note default-x=\\\"88.63\\\" default-y=\\\"-340\\\">\\n        <pitch>\\n          <step>A</step>\\n          <alter>-1</alter>\\n          <octave>3</octave>\\n        </pitch>\\n        <duration>5040</duration>\\n        <type>eighth</type>\\n        <accidental>flat</accidental>\\n        <stem>down</stem>\\n        <beam number=\\\"1\\\">begin</beam>\\n      </note>\\n      <note default-x=\\\"124.44\\\" default-y=\\\"-345\\\">\\n        <pitch>\\n          <step>G</step>\\n          <octave>3</octave>\\n        </pitch>\\n        <duration>5040</duration>\\n        <type>eighth</type>\\n        <stem>down</stem>\\n        <beam number=\\\"1\\\">end</beam>\\n      </note>\\n    </measure>\\n    <!--========================= Measure 9 ==========================-->\\n    <measure number=\\\"9\\\" width=\\\"260.49\\\">\\n      <note default-x=\\\"31.41\\\" default-y=\\\"-350\\\">\\n        <pitch>\\n          <step>F</step>\\n          <octave>3</octave>\\n        </pitch>\\n        <duration>10080</duration>\\n        <type>quarter</type>\\n        <stem>down</stem>\\n      </note>\\n      <note default-x=\\\"88.28\\\" default-y=\\\"-335\\\">\\n        <pitch>\\n          <step>B</step>\\n          <alter>-1</alter>\\n          <octave>3</octave>\\n        </pitch>\\n        <duration>10080</duration>\\n        <type>quarter</type>\\n        <stem>down</stem>\\n      </note>\\n      <note default-x=\\\"145.15\\\" default-y=\\\"-335\\\">\\n        <pitch>\\n          <step>B</step>\\n          <alter>-1</alter>\\n          <octave>3</octave>\\n        </pitch>\\n        <duration>10080</duration>\\n        <type>quarter</type>\\n        <stem>down</stem>\\n      </note>\\n      <note default-x=\\\"202.02\\\" default-y=\\\"-320\\\">\\n        <pitch>\\n          <step>E</step>\\n          <alter>-1</alter>\\n          <octave>4</octave>\\n        </pitch>\\n        <duration>10080</duration>\\n        <type>quarter</type>\\n        <stem>down</stem>\\n      </note>\\n    </measure>\\n    <!--========================= Measure 10 =========================-->\\n    <measure number=\\\"10\\\" width=\\\"270.88\\\">\\n      <note default-x=\\\"22.25\\\" default-y=\\\"-325\\\">\\n        <pitch>\\n          <step>D</step>\\n          <octave>4</octave>\\n        </pitch>\\n        <duration>5040</duration>\\n        <type>eighth</type>\\n        <stem>down</stem>\\n        <beam number=\\\"1\\\">begin</beam>\\n      </note>\\n      <note default-x=\\\"56.56\\\" default-y=\\\"-330\\\">\\n        <pitch>\\n          <step>C</step>\\n          <octave>4</octave>\\n        </pitch>\\n        <duration>5040</duration>\\n        <type>eighth</type>\\n        <stem>down</stem>\\n        <beam number=\\\"1\\\">end</beam>\\n      </note>\\n      <note default-x=\\\"90.87\\\" default-y=\\\"-325\\\">\\n        <pitch>\\n          <step>D</step>\\n          <octave>4</octave>\\n        </pitch>\\n        <duration>10080</duration>\\n        <type>quarter</type>\\n        <stem>down</stem>\\n      </note>\\n      <note default-x=\\\"145.76\\\" default-y=\\\"-320\\\">\\n        <pitch>\\n          <step>E</step>\\n          <alter>-1</alter>\\n          <octave>4</octave>\\n        </pitch>\\n        <duration>10080</duration>\\n        <type>quarter</type>\\n        <stem>down</stem>\\n        <notations>\\n          <fermata type=\\\"upright\\\" />\\n        </notations>\\n      </note>\\n      <note default-x=\\\"200.66\\\" default-y=\\\"-320\\\">\\n        <pitch>\\n          <step>E</step>\\n          <alter>-1</alter>\\n          <octave>4</octave>\\n        </pitch>\\n        <duration>10080</duration>\\n        <type>quarter</type>\\n        <stem>down</stem>\\n      </note>\\n    </measure>\\n    <!--========================= Measure 11 =========================-->\\n    <measure number=\\\"11\\\" width=\\\"288.8\\\">\\n      <note default-x=\\\"35.68\\\" default-y=\\\"-320\\\">\\n        <pitch>\\n          <step>E</step>\\n          <alter>-1</alter>\\n          <octave>4</octave>\\n        </pitch>\\n        <duration>10080</duration>\\n        <type>quarter</type>\\n        <stem>down</stem>\\n      </note>\\n      <note default-x=\\\"91.58\\\" default-y=\\\"-325\\\">\\n        <pitch>\\n          <step>D</step>\\n          <octave>4</octave>\\n        </pitch>\\n        <duration>10080</duration>\\n        <type>quarter</type>\\n        <stem>down</stem>\\n      </note>\\n      <note default-x=\\\"147.47\\\" default-y=\\\"-320\\\">\\n        <pitch>\\n          <step>E</step>\\n          <alter>-1</alter>\\n          <octave>4</octave>\\n        </pitch>\\n        <duration>5040</duration>\\n        <type>eighth</type>\\n        <stem>down</stem>\\n        <beam number=\\\"1\\\">begin</beam>\\n      </note>\\n      <note default-x=\\\"182.4\\\" default-y=\\\"-325\\\">\\n        <pitch>\\n          <step>D</step>\\n          <octave>4</octave>\\n        </pitch>\\n        <duration>5040</duration>\\n        <type>eighth</type>\\n        <stem>down</stem>\\n        <beam number=\\\"1\\\">end</beam>\\n      </note>\\n      <note default-x=\\\"217.34\\\" default-y=\\\"-330\\\">\\n        <pitch>\\n          <step>C</step>\\n          <octave>4</octave>\\n        </pitch>\\n        <duration>10080</duration>\\n        <type>quarter</type>\\n        <stem>down</stem>\\n      </note>\\n    </measure>\\n    <!--========================= Measure 12 =========================-->\\n    <measure number=\\\"12\\\" width=\\\"236.48\\\">\\n      <note default-x=\\\"16.27\\\" default-y=\\\"-325\\\">\\n        <pitch>\\n          <step>D</step>\\n          <octave>4</octave>\\n        </pitch>\\n        <duration>5040</duration>\\n        <type>eighth</type>\\n        <stem>down</stem>\\n        <beam number=\\\"1\\\">begin</beam>\\n      </note>\\n      <note default-x=\\\"55.13\\\" default-y=\\\"-330\\\">\\n        <pitch>\\n          <step>C</step>\\n          <octave>4</octave>\\n        </pitch>\\n        <duration>5040</duration>\\n        <type>eighth</type>\\n        <stem>down</stem>\\n        <beam number=\\\"1\\\">end</beam>\\n      </note>\\n      <note default-x=\\\"94\\\" default-y=\\\"-335\\\">\\n        <pitch>\\n          <step>B</step>\\n          <alter>0</alter>\\n          <octave>3</octave>\\n        </pitch>\\n        <duration>10080</duration>\\n        <type>quarter</type>\\n        <accidental>natural</accidental>\\n        <stem>down</stem>\\n      </note>\\n      <note default-x=\\\"181.44\\\" default-y=\\\"-345\\\">\\n        <pitch>\\n          <step>G</step>\\n          <octave>3</octave>\\n        </pitch>\\n        <duration>10080</duration>\\n        <type>quarter</type>\\n        <stem>down</stem>\\n        <notations>\\n          <fermata type=\\\"upright\\\" />\\n        </notations>\\n      </note>\\n    </measure>\\n    <!--========================= Measure 12 =========================-->\\n    <measure number=\\\"12a\\\" width=\\\"126.56\\\">\\n      <print new-system=\\\"yes\\\">\\n        <staff-layout number=\\\"1\\\">\\n          <staff-distance>130</staff-distance>\\n        </staff-layout>\\n      </print>\\n      <attributes>\\n        <staff-details print-object=\\\"yes\\\" />\\n      </attributes>\\n      <note default-x=\\\"86.71\\\" default-y=\\\"-335\\\">\\n        <pitch>\\n          <step>B</step>\\n          <alter>0</alter>\\n          <octave>3</octave>\\n        </pitch>\\n        <duration>10080</duration>\\n        <type>quarter</type>\\n        <accidental>natural</accidental>\\n        <stem>down</stem>\\n      </note>\\n    </measure>\\n    <!--========================= Measure 13 =========================-->\\n    <measure number=\\\"13\\\" width=\\\"280.57\\\">\\n      <note default-x=\\\"21.56\\\" default-y=\\\"-330\\\">\\n        <pitch>\\n          <step>C</step>\\n          <octave>4</octave>\\n        </pitch>\\n        <duration>5040</duration>\\n        <type>eighth</type>\\n        <stem>down</stem>\\n        <beam number=\\\"1\\\">begin</beam>\\n      </note>\\n      <note default-x=\\\"53.73\\\" default-y=\\\"-335\\\">\\n        <pitch>\\n          <step>B</step>\\n          <alter>-1</alter>\\n          <octave>3</octave>\\n        </pitch>\\n        <duration>5040</duration>\\n        <type>eighth</type>\\n        <accidental>flat</accidental>\\n        <stem>down</stem>\\n        <beam number=\\\"1\\\">continue</beam>\\n      </note>\\n      <note default-x=\\\"85.91\\\" default-y=\\\"-340\\\">\\n        <pitch>\\n          <step>A</step>\\n          <alter>-1</alter>\\n          <octave>3</octave>\\n        </pitch>\\n        <duration>5040</duration>\\n        <type>eighth</type>\\n        <accidental>flat</accidental>\\n        <stem>down</stem>\\n        <beam number=\\\"1\\\">continue</beam>\\n      </note>\\n      <note default-x=\\\"118.09\\\" default-y=\\\"-335\\\">\\n        <pitch>\\n          <step>B</step>\\n          <alter>-1</alter>\\n          <octave>3</octave>\\n        </pitch>\\n        <duration>5040</duration>\\n        <type>eighth</type>\\n        <stem>down</stem>\\n        <beam number=\\\"1\\\">end</beam>\\n      </note>\\n      <note default-x=\\\"150.26\\\" default-y=\\\"-330\\\">\\n        <pitch>\\n          <step>C</step>\\n          <octave>4</octave>\\n        </pitch>\\n        <duration>5040</duration>\\n        <type>eighth</type>\\n        <stem>down</stem>\\n        <beam number=\\\"1\\\">begin</beam>\\n      </note>\\n      <note default-x=\\\"182.44\\\" default-y=\\\"-325\\\">\\n        <pitch>\\n          <step>D</step>\\n          <octave>4</octave>\\n        </pitch>\\n        <duration>5040</duration>\\n        <type>eighth</type>\\n        <stem>down</stem>\\n        <beam number=\\\"1\\\">continue</beam>\\n      </note>\\n      <note default-x=\\\"214.62\\\" default-y=\\\"-320\\\">\\n        <pitch>\\n          <step>E</step>\\n          <alter>0</alter>\\n          <octave>4</octave>\\n        </pitch>\\n        <duration>5040</duration>\\n        <type>eighth</type>\\n        <accidental>natural</accidental>\\n        <stem>down</stem>\\n        <beam number=\\\"1\\\">continue</beam>\\n      </note>\\n      <note default-x=\\\"246.79\\\" default-y=\\\"-315\\\">\\n        <pitch>\\n          <step>F</step>\\n          <octave>4</octave>\\n        </pitch>\\n        <duration>5040</duration>\\n        <type>eighth</type>\\n        <stem>down</stem>\\n        <beam number=\\\"1\\\">end</beam>\\n      </note>\\n    </measure>\\n    <!--========================= Measure 14 =========================-->\\n    <measure number=\\\"14\\\" width=\\\"280.86\\\">\\n      <note default-x=\\\"14.36\\\" default-y=\\\"-310\\\">\\n        <pitch>\\n          <step>G</step>\\n          <octave>4</octave>\\n        </pitch>\\n        <duration>10080</duration>\\n        <type>quarter</type>\\n        <stem>down</stem>\\n      </note>\\n      <note default-x=\\\"87.94\\\" default-y=\\\"-330\\\">\\n        <pitch>\\n          <step>C</step>\\n          <octave>4</octave>\\n        </pitch>\\n        <duration>10080</duration>\\n        <type>quarter</type>\\n        <stem>down</stem>\\n      </note>\\n      <note default-x=\\\"146.81\\\" default-y=\\\"-330\\\">\\n        <pitch>\\n          <step>C</step>\\n          <octave>4</octave>\\n        </pitch>\\n        <duration>10080</duration>\\n        <type>quarter</type>\\n        <stem>down</stem>\\n        <notations>\\n          <fermata type=\\\"upright\\\" />\\n        </notations>\\n      </note>\\n      <note default-x=\\\"205.68\\\" default-y=\\\"-340\\\">\\n        <pitch>\\n          <step>A</step>\\n          <alter>-1</alter>\\n          <octave>3</octave>\\n        </pitch>\\n        <duration>5040</duration>\\n        <type>eighth</type>\\n        <accidental>flat</accidental>\\n        <stem>down</stem>\\n        <beam number=\\\"1\\\">begin</beam>\\n      </note>\\n      <note default-x=\\\"242.47\\\" default-y=\\\"-345\\\">\\n        <pitch>\\n          <step>G</step>\\n          <octave>3</octave>\\n        </pitch>\\n        <duration>5040</duration>\\n        <type>eighth</type>\\n        <stem>down</stem>\\n        <beam number=\\\"1\\\">end</beam>\\n      </note>\\n    </measure>\\n    <!--========================= Measure 15 =========================-->\\n    <measure number=\\\"15\\\" width=\\\"280.9\\\">\\n      <note default-x=\\\"16.27\\\" default-y=\\\"-350\\\">\\n        <pitch>\\n          <step>F</step>\\n          <octave>3</octave>\\n        </pitch>\\n        <duration>5040</duration>\\n        <type>eighth</type>\\n        <stem>down</stem>\\n        <beam number=\\\"1\\\">begin</beam>\\n      </note>\\n      <note default-x=\\\"50.88\\\" default-y=\\\"-340\\\">\\n        <pitch>\\n          <step>A</step>\\n          <alter>-1</alter>\\n          <octave>3</octave>\\n        </pitch>\\n        <duration>5040</duration>\\n        <type>eighth</type>\\n        <accidental>flat</accidental>\\n        <stem>down</stem>\\n        <beam number=\\\"1\\\">end</beam>\\n      </note>\\n      <note default-x=\\\"85.49\\\" default-y=\\\"-325\\\">\\n        <pitch>\\n          <step>D</step>\\n          <alter>-1</alter>\\n          <octave>4</octave>\\n        </pitch>\\n        <duration>10080</duration>\\n        <type>quarter</type>\\n        <accidental>flat</accidental>\\n        <stem>down</stem>\\n      </note>\\n      <note default-x=\\\"140.86\\\" default-y=\\\"-330\\\">\\n        <pitch>\\n          <step>C</step>\\n          <octave>4</octave>\\n        </pitch>\\n        <duration>10080</duration>\\n        <type>quarter</type>\\n        <stem>down</stem>\\n      </note>\\n      <note default-x=\\\"210.08\\\" default-y=\\\"-325\\\">\\n        <pitch>\\n          <step>D</step>\\n          <alter>-1</alter>\\n          <octave>4</octave>\\n        </pitch>\\n        <duration>10080</duration>\\n        <type>quarter</type>\\n        <stem>down</stem>\\n      </note>\\n    </measure>\\n    <!--========================= Measure 16 =========================-->\\n    <measure number=\\\"16\\\" width=\\\"249.63\\\">\\n      <note default-x=\\\"18.27\\\" default-y=\\\"-325\\\">\\n        <pitch>\\n          <step>D</step>\\n          <alter>-1</alter>\\n          <octave>4</octave>\\n        </pitch>\\n        <duration>10080</duration>\\n        <type>quarter</type>\\n        <accidental>flat</accidental>\\n        <stem>down</stem>\\n      </note>\\n      <note default-x=\\\"114.76\\\" default-y=\\\"-345\\\">\\n        <pitch>\\n          <step>G</step>\\n          <octave>3</octave>\\n        </pitch>\\n        <duration>5040</duration>\\n        <type>eighth</type>\\n        <stem>down</stem>\\n        <beam number=\\\"1\\\">begin</beam>\\n      </note>\\n      <note default-x=\\\"151.52\\\" default-y=\\\"-340\\\">\\n        <pitch>\\n          <step>A</step>\\n          <alter>-1</alter>\\n          <octave>3</octave>\\n        </pitch>\\n        <duration>2520</duration>\\n        <type>16th</type>\\n        <accidental>flat</accidental>\\n        <stem>down</stem>\\n        <beam number=\\\"1\\\">continue</beam>\\n        <beam number=\\\"2\\\">begin</beam>\\n      </note>\\n      <note default-x=\\\"174.5\\\" default-y=\\\"-335\\\">\\n        <pitch>\\n          <step>B</step>\\n          <alter>-1</alter>\\n          <octave>3</octave>\\n        </pitch>\\n        <duration>2520</duration>\\n        <type>16th</type>\\n        <stem>down</stem>\\n        <beam number=\\\"1\\\">end</beam>\\n        <beam number=\\\"2\\\">end</beam>\\n      </note>\\n      <note default-x=\\\"197.48\\\" default-y=\\\"-340\\\">\\n        <pitch>\\n          <step>A</step>\\n          <alter>-1</alter>\\n          <octave>3</octave>\\n        </pitch>\\n        <duration>10080</duration>\\n        <type>quarter</type>\\n        <stem>down</stem>\\n        <notations>\\n          <fermata type=\\\"upright\\\" />\\n        </notations>\\n      </note>\\n    </measure>\\n    <!--========================= Measure 16 =========================-->\\n    <measure number=\\\"16a\\\" width=\\\"208.33\\\">\\n      <print new-page=\\\"yes\\\">\\n        <staff-layout number=\\\"1\\\">\\n          <staff-distance>130</staff-distance>\\n        </staff-layout>\\n      </print>\\n      <attributes>\\n        <staff-details print-object=\\\"yes\\\" />\\n      </attributes>\\n      <note default-x=\\\"86.71\\\" default-y=\\\"-350\\\">\\n        <pitch>\\n          <step>F</step>\\n          <octave>3</octave>\\n        </pitch>\\n        <duration>10080</duration>\\n        <type>quarter</type>\\n        <stem>down</stem>\\n      </note>\\n    </measure>\\n    <!--========================= Measure 17 =========================-->\\n    <measure number=\\\"17\\\" width=\\\"577.72\\\">\\n      <note default-x=\\\"23.57\\\" default-y=\\\"-325\\\">\\n        <pitch>\\n          <step>D</step>\\n          <alter>0</alter>\\n          <octave>4</octave>\\n        </pitch>\\n        <duration>5040</duration>\\n        <type>eighth</type>\\n        <accidental>natural</accidental>\\n        <stem>down</stem>\\n        <beam number=\\\"1\\\">begin</beam>\\n      </note>\\n      <note default-x=\\\"92.64\\\" default-y=\\\"-320\\\">\\n        <pitch>\\n          <step>E</step>\\n          <alter>-1</alter>\\n          <octave>4</octave>\\n        </pitch>\\n        <duration>5040</duration>\\n        <type>eighth</type>\\n        <stem>down</stem>\\n        <beam number=\\\"1\\\">continue</beam>\\n      </note>\\n      <note default-x=\\\"161.71\\\" default-y=\\\"-315\\\">\\n        <pitch>\\n          <step>F</step>\\n          <octave>4</octave>\\n        </pitch>\\n        <duration>5040</duration>\\n        <type>eighth</type>\\n        <stem>down</stem>\\n        <beam number=\\\"1\\\">continue</beam>\\n      </note>\\n      <note default-x=\\\"230.78\\\" default-y=\\\"-325\\\">\\n        <pitch>\\n          <step>D</step>\\n          <octave>4</octave>\\n        </pitch>\\n        <duration>5040</duration>\\n        <type>eighth</type>\\n        <stem>down</stem>\\n        <beam number=\\\"1\\\">end</beam>\\n      </note>\\n      <note default-x=\\\"299.84\\\" default-y=\\\"-320\\\">\\n        <pitch>\\n          <step>E</step>\\n          <alter>-1</alter>\\n          <octave>4</octave>\\n        </pitch>\\n        <duration>5040</duration>\\n        <type>eighth</type>\\n        <stem>down</stem>\\n        <beam number=\\\"1\\\">begin</beam>\\n      </note>\\n      <note default-x=\\\"368.91\\\" default-y=\\\"-325\\\">\\n        <pitch>\\n          <step>D</step>\\n          <octave>4</octave>\\n        </pitch>\\n        <duration>5040</duration>\\n        <type>eighth</type>\\n        <stem>down</stem>\\n        <beam number=\\\"1\\\">end</beam>\\n      </note>\\n      <note default-x=\\\"437.98\\\" default-y=\\\"-330\\\">\\n        <pitch>\\n          <step>C</step>\\n          <octave>4</octave>\\n        </pitch>\\n        <duration>10080</duration>\\n        <type>quarter</type>\\n        <stem>down</stem>\\n      </note>\\n    </measure>\\n    <!--========================= Measure 18 =========================-->\\n    <measure number=\\\"18\\\" width=\\\"432.46\\\">\\n      <note default-x=\\\"14.2\\\" default-y=\\\"-330\\\">\\n        <pitch>\\n          <step>C</step>\\n          <octave>4</octave>\\n        </pitch>\\n        <duration>10080</duration>\\n        <type>quarter</type>\\n        <stem>down</stem>\\n      </note>\\n      <note default-x=\\\"159.8\\\" default-y=\\\"-335\\\">\\n        <pitch>\\n          <step>B</step>\\n          <alter>0</alter>\\n          <octave>3</octave>\\n        </pitch>\\n        <duration>10080</duration>\\n        <type>quarter</type>\\n        <accidental>natural</accidental>\\n        <stem>down</stem>\\n      </note>\\n      <note default-x=\\\"305.39\\\" default-y=\\\"-345\\\">\\n        <pitch>\\n          <step>G</step>\\n          <octave>3</octave>\\n        </pitch>\\n        <duration>10080</duration>\\n        <type>quarter</type>\\n        <stem>down</stem>\\n        <notations>\\n          <fermata type=\\\"upright\\\" />\\n        </notations>\\n      </note>\\n      <barline location=\\\"right\\\">\\n        <bar-style>light-heavy</bar-style>\\n      </barline>\\n    </measure>\\n  </part>\\n  <!--=========================== Part 4 ===========================-->\\n  <part id=\\\"P4\\\">\\n    <!--========================= Measure 0 ==========================-->\\n    <measure number=\\\"0\\\" width=\\\"205.88\\\">\\n      <print>\\n        <staff-layout number=\\\"1\\\">\\n          <staff-distance>130</staff-distance>\\n        </staff-layout>\\n      </print>\\n      <attributes>\\n        <divisions>10080</divisions>\\n        <key>\\n          <fifths>-2</fifths>\\n          <mode>major</mode>\\n        </key>\\n        <time symbol=\\\"common\\\">\\n          <beats>4</beats>\\n          <beat-type>4</beat-type>\\n        </time>\\n        <clef>\\n          <sign>F</sign>\\n          <line>4</line>\\n        </clef>\\n        <staff-details print-object=\\\"yes\\\" />\\n      </attributes>\\n      <note default-x=\\\"121.78\\\" default-y=\\\"-540\\\">\\n        <pitch>\\n          <step>B</step>\\n          <alter>-1</alter>\\n          <octave>2</octave>\\n        </pitch>\\n        <duration>10080</duration>\\n        <type>quarter</type>\\n        <stem>up</stem>\\n      </note>\\n    </measure>\\n    <!--========================= Measure 1 ==========================-->\\n    <measure number=\\\"1\\\" width=\\\"258.8\\\">\\n      <note default-x=\\\"16.27\\\" default-y=\\\"-520\\\">\\n        <pitch>\\n          <step>F</step>\\n          <octave>3</octave>\\n        </pitch>\\n        <duration>10080</duration>\\n        <type>quarter</type>\\n        <stem>down</stem>\\n      </note>\\n      <note default-x=\\\"78.87\\\" default-y=\\\"-525\\\">\\n        <pitch>\\n          <step>E</step>\\n          <alter>-1</alter>\\n          <octave>3</octave>\\n        </pitch>\\n        <duration>10080</duration>\\n        <type>quarter</type>\\n        <stem>down</stem>\\n      </note>\\n      <note default-x=\\\"128.94\\\" default-y=\\\"-510\\\">\\n        <pitch>\\n          <step>A</step>\\n          <alter>-1</alter>\\n          <octave>3</octave>\\n        </pitch>\\n        <duration>10080</duration>\\n        <type>quarter</type>\\n        <accidental>flat</accidental>\\n        <stem>down</stem>\\n      </note>\\n      <note default-x=\\\"194.6\\\" default-y=\\\"-515\\\">\\n        <pitch>\\n          <step>G</step>\\n          <octave>3</octave>\\n        </pitch>\\n        <duration>5040</duration>\\n        <type>eighth</type>\\n        <stem>down</stem>\\n        <beam number=\\\"1\\\">begin</beam>\\n      </note>\\n      <note default-x=\\\"225.9\\\" default-y=\\\"-520\\\">\\n        <pitch>\\n          <step>F</step>\\n          <octave>3</octave>\\n        </pitch>\\n        <duration>5040</duration>\\n        <type>eighth</type>\\n        <stem>down</stem>\\n        <beam number=\\\"1\\\">end</beam>\\n      </note>\\n    </measure>\\n    <!--========================= Measure 2 ==========================-->\\n    <measure number=\\\"2\\\" width=\\\"268.22\\\">\\n      <note default-x=\\\"20.21\\\" default-y=\\\"-525\\\">\\n        <pitch>\\n          <step>E</step>\\n          <alter>-1</alter>\\n          <octave>3</octave>\\n        </pitch>\\n        <duration>5040</duration>\\n        <type>eighth</type>\\n        <stem>down</stem>\\n        <beam number=\\\"1\\\">begin</beam>\\n      </note>\\n      <note default-x=\\\"54.44\\\" default-y=\\\"-520\\\">\\n        <pitch>\\n          <step>F</step>\\n          <octave>3</octave>\\n        </pitch>\\n        <duration>5040</duration>\\n        <type>eighth</type>\\n        <stem>down</stem>\\n        <beam number=\\\"1\\\">end</beam>\\n      </note>\\n      <note default-x=\\\"88.66\\\" default-y=\\\"-515\\\">\\n        <pitch>\\n          <step>G</step>\\n          <octave>3</octave>\\n        </pitch>\\n        <duration>10080</duration>\\n        <type>quarter</type>\\n        <stem>down</stem>\\n      </note>\\n      <note default-x=\\\"157.1\\\" default-y=\\\"-535\\\">\\n        <pitch>\\n          <step>C</step>\\n          <octave>3</octave>\\n        </pitch>\\n        <duration>10080</duration>\\n        <type>quarter</type>\\n        <stem>up</stem>\\n        <notations>\\n          <fermata type=\\\"upright\\\" />\\n        </notations>\\n      </note>\\n      <note default-x=\\\"211.86\\\" default-y=\\\"-515\\\">\\n        <pitch>\\n          <step>G</step>\\n          <octave>3</octave>\\n        </pitch>\\n        <duration>10080</duration>\\n        <type>quarter</type>\\n        <stem>down</stem>\\n      </note>\\n    </measure>\\n    <!--========================= Measure 3 ==========================-->\\n    <measure number=\\\"3\\\" width=\\\"258.9\\\">\\n      <note default-x=\\\"18.85\\\" default-y=\\\"-500\\\">\\n        <pitch>\\n          <step>C</step>\\n          <octave>4</octave>\\n        </pitch>\\n        <duration>10080</duration>\\n        <type>quarter</type>\\n        <stem>down</stem>\\n      </note>\\n      <note default-x=\\\"69.05\\\" default-y=\\\"-505\\\">\\n        <pitch>\\n          <step>B</step>\\n          <alter>-1</alter>\\n          <octave>3</octave>\\n        </pitch>\\n        <duration>10080</duration>\\n        <type>quarter</type>\\n        <accidental>flat</accidental>\\n        <stem>down</stem>\\n      </note>\\n      <note default-x=\\\"131.8\\\" default-y=\\\"-510\\\">\\n        <pitch>\\n          <step>A</step>\\n          <alter>-1</alter>\\n          <octave>3</octave>\\n        </pitch>\\n        <duration>10080</duration>\\n        <type>quarter</type>\\n        <accidental>flat</accidental>\\n        <stem>down</stem>\\n      </note>\\n      <note default-x=\\\"194.55\\\" default-y=\\\"-530\\\">\\n        <pitch>\\n          <step>D</step>\\n          <octave>3</octave>\\n        </pitch>\\n        <duration>5040</duration>\\n        <type>eighth</type>\\n        <stem>down</stem>\\n        <beam number=\\\"1\\\">begin</beam>\\n      </note>\\n      <note default-x=\\\"225.92\\\" default-y=\\\"-525\\\">\\n        <pitch>\\n          <step>E</step>\\n          <alter>0</alter>\\n          <octave>3</octave>\\n        </pitch>\\n        <duration>5040</duration>\\n        <type>eighth</type>\\n        <accidental>natural</accidental>\\n        <stem>down</stem>\\n        <beam number=\\\"1\\\">end</beam>\\n      </note>\\n    </measure>\\n    <!--========================= Measure 4 ==========================-->\\n    <measure number=\\\"4\\\" width=\\\"190.31\\\">\\n      <note default-x=\\\"16.27\\\" default-y=\\\"-520\\\">\\n        <pitch>\\n          <step>F</step>\\n          <octave>3</octave>\\n        </pitch>\\n        <duration>10080</duration>\\n        <type>quarter</type>\\n        <stem>down</stem>\\n      </note>\\n      <note default-x=\\\"77.85\\\" default-y=\\\"-535\\\">\\n        <pitch>\\n          <step>C</step>\\n          <octave>3</octave>\\n        </pitch>\\n        <duration>10080</duration>\\n        <type>quarter</type>\\n        <stem>up</stem>\\n      </note>\\n      <note default-x=\\\"139.44\\\" default-y=\\\"-555\\\">\\n        <pitch>\\n          <step>F</step>\\n          <octave>2</octave>\\n        </pitch>\\n        <duration>10080</duration>\\n        <type>quarter</type>\\n        <stem>up</stem>\\n        <notations>\\n          <fermata type=\\\"upright\\\" />\\n        </notations>\\n      </note>\\n    </measure>\\n    <!--========================= Measure 4 ==========================-->\\n    <measure number=\\\"4a\\\" width=\\\"158.12\\\">\\n      <print new-system=\\\"yes\\\">\\n        <staff-layout number=\\\"1\\\">\\n          <staff-distance>130</staff-distance>\\n        </staff-layout>\\n      </print>\\n      <attributes>\\n        <staff-details print-object=\\\"yes\\\" />\\n      </attributes>\\n      <note default-x=\\\"88.63\\\" default-y=\\\"-520\\\">\\n        <pitch>\\n          <step>F</step>\\n          <octave>3</octave>\\n        </pitch>\\n        <duration>5040</duration>\\n        <type>eighth</type>\\n        <stem>down</stem>\\n        <beam number=\\\"1\\\">begin</beam>\\n      </note>\\n      <note default-x=\\\"122.57\\\" default-y=\\\"-525\\\">\\n        <pitch>\\n          <step>E</step>\\n          <alter>-1</alter>\\n          <octave>3</octave>\\n        </pitch>\\n        <duration>5040</duration>\\n        <type>eighth</type>\\n        <accidental>flat</accidental>\\n        <stem>down</stem>\\n        <beam number=\\\"1\\\">end</beam>\\n      </note>\\n    </measure>\\n    <!--========================= Measure 5 ==========================-->\\n    <measure number=\\\"5\\\" width=\\\"296.69\\\">\\n      <note default-x=\\\"24.01\\\" default-y=\\\"-530\\\">\\n        <pitch>\\n          <step>D</step>\\n          <alter>-1</alter>\\n          <octave>3</octave>\\n        </pitch>\\n        <duration>5040</duration>\\n        <type>eighth</type>\\n        <accidental>flat</accidental>\\n        <stem>up</stem>\\n        <beam number=\\\"1\\\">begin</beam>\\n      </note>\\n      <note default-x=\\\"61.66\\\" default-y=\\\"-535\\\">\\n        <pitch>\\n          <step>C</step>\\n          <octave>3</octave>\\n        </pitch>\\n        <duration>5040</duration>\\n        <type>eighth</type>\\n        <stem>up</stem>\\n        <beam number=\\\"1\\\">end</beam>\\n      </note>\\n      <note default-x=\\\"99.31\\\" default-y=\\\"-540\\\">\\n        <pitch>\\n          <step>B</step>\\n          <alter>-1</alter>\\n          <octave>2</octave>\\n        </pitch>\\n        <duration>10080</duration>\\n        <type>quarter</type>\\n        <stem>up</stem>\\n      </note>\\n      <note default-x=\\\"159.55\\\" default-y=\\\"-545\\\">\\n        <pitch>\\n          <step>A</step>\\n          <alter>-1</alter>\\n          <octave>2</octave>\\n        </pitch>\\n        <duration>10080</duration>\\n        <type>quarter</type>\\n        <accidental>flat</accidental>\\n        <stem>up</stem>\\n      </note>\\n      <note default-x=\\\"219.79\\\" default-y=\\\"-525\\\">\\n        <pitch>\\n          <step>E</step>\\n          <alter>-1</alter>\\n          <octave>3</octave>\\n        </pitch>\\n        <duration>5040</duration>\\n        <type>eighth</type>\\n        <stem>down</stem>\\n        <beam number=\\\"1\\\">begin</beam>\\n      </note>\\n      <note default-x=\\\"257.44\\\" default-y=\\\"-530\\\">\\n        <pitch>\\n          <step>D</step>\\n          <alter>0</alter>\\n          <octave>3</octave>\\n        </pitch>\\n        <duration>5040</duration>\\n        <type>eighth</type>\\n        <accidental>natural</accidental>\\n        <stem>down</stem>\\n        <beam number=\\\"1\\\">end</beam>\\n      </note>\\n    </measure>\\n    <!--========================= Measure 6 ==========================-->\\n    <measure number=\\\"6\\\" width=\\\"270.42\\\">\\n      <note default-x=\\\"23.42\\\" default-y=\\\"-535\\\">\\n        <pitch>\\n          <step>C</step>\\n          <octave>3</octave>\\n        </pitch>\\n        <duration>10080</duration>\\n        <type>quarter</type>\\n        <stem>up</stem>\\n      </note>\\n      <note default-x=\\\"80.88\\\" default-y=\\\"-515\\\">\\n        <pitch>\\n          <step>G</step>\\n          <octave>3</octave>\\n        </pitch>\\n        <duration>10080</duration>\\n        <type>quarter</type>\\n        <stem>down</stem>\\n      </note>\\n      <note default-x=\\\"153.9\\\" default-y=\\\"-500\\\">\\n        <pitch>\\n          <step>C</step>\\n          <octave>4</octave>\\n        </pitch>\\n        <duration>10080</duration>\\n        <type>quarter</type>\\n        <stem>down</stem>\\n        <notations>\\n          <fermata type=\\\"upright\\\" />\\n        </notations>\\n      </note>\\n      <note default-x=\\\"211.36\\\" default-y=\\\"-515\\\">\\n        <pitch>\\n          <step>G</step>\\n          <octave>3</octave>\\n        </pitch>\\n        <duration>10080</duration>\\n        <type>quarter</type>\\n        <stem>down</stem>\\n      </note>\\n    </measure>\\n    <!--========================= Measure 7 ==========================-->\\n    <measure number=\\\"7\\\" width=\\\"300.02\\\">\\n      <note default-x=\\\"31.36\\\" default-y=\\\"-535\\\">\\n        <pitch>\\n          <step>C</step>\\n          <octave>3</octave>\\n        </pitch>\\n        <duration>10080</duration>\\n        <type>quarter</type>\\n        <stem>up</stem>\\n      </note>\\n      <note default-x=\\\"98.12\\\" default-y=\\\"-530\\\">\\n        <pitch>\\n          <step>D</step>\\n          <octave>3</octave>\\n        </pitch>\\n        <duration>5040</duration>\\n        <type>eighth</type>\\n        <stem>down</stem>\\n        <beam number=\\\"1\\\">begin</beam>\\n      </note>\\n      <note default-x=\\\"131.51\\\" default-y=\\\"-525\\\">\\n        <pitch>\\n          <step>E</step>\\n          <alter>0</alter>\\n          <octave>3</octave>\\n        </pitch>\\n        <duration>5040</duration>\\n        <type>eighth</type>\\n        <accidental>natural</accidental>\\n        <stem>down</stem>\\n        <beam number=\\\"1\\\">end</beam>\\n      </note>\\n      <note default-x=\\\"164.89\\\" default-y=\\\"-520\\\">\\n        <pitch>\\n          <step>F</step>\\n          <octave>3</octave>\\n        </pitch>\\n        <duration>10080</duration>\\n        <type>quarter</type>\\n        <stem>down</stem>\\n      </note>\\n      <note default-x=\\\"231.66\\\" default-y=\\\"-530\\\">\\n        <pitch>\\n          <step>D</step>\\n          <alter>-1</alter>\\n          <octave>3</octave>\\n        </pitch>\\n        <duration>10080</duration>\\n        <type>quarter</type>\\n        <accidental>flat</accidental>\\n        <stem>down</stem>\\n      </note>\\n    </measure>\\n    <!--========================= Measure 8 ==========================-->\\n    <measure number=\\\"8\\\" width=\\\"193.25\\\">\\n      <note default-x=\\\"16.27\\\" default-y=\\\"-535\\\">\\n        <pitch>\\n          <step>C</step>\\n          <octave>3</octave>\\n        </pitch>\\n        <duration>5040</duration>\\n        <type>eighth</type>\\n        <stem>up</stem>\\n        <beam number=\\\"1\\\">begin</beam>\\n      </note>\\n      <note default-x=\\\"47.59\\\" default-y=\\\"-540\\\">\\n        <pitch>\\n          <step>B</step>\\n          <alter>-1</alter>\\n          <octave>2</octave>\\n        </pitch>\\n        <duration>5040</duration>\\n        <type>eighth</type>\\n        <stem>up</stem>\\n        <beam number=\\\"1\\\">end</beam>\\n      </note>\\n      <note default-x=\\\"78.91\\\" default-y=\\\"-535\\\">\\n        <pitch>\\n          <step>C</step>\\n          <octave>3</octave>\\n        </pitch>\\n        <duration>10080</duration>\\n        <type>quarter</type>\\n        <stem>up</stem>\\n      </note>\\n      <note default-x=\\\"141.54\\\" default-y=\\\"-555\\\">\\n        <pitch>\\n          <step>F</step>\\n          <octave>2</octave>\\n        </pitch>\\n        <duration>10080</duration>\\n        <type>quarter</type>\\n        <stem>up</stem>\\n        <notations>\\n          <fermata type=\\\"upright\\\" />\\n        </notations>\\n      </note>\\n    </measure>\\n    <!--========================= Measure 8 ==========================-->\\n    <measure number=\\\"8a\\\" width=\\\"161.86\\\">\\n      <print new-page=\\\"yes\\\">\\n        <staff-layout number=\\\"1\\\">\\n          <staff-distance>130</staff-distance>\\n        </staff-layout>\\n      </print>\\n      <attributes>\\n        <staff-details print-object=\\\"yes\\\" />\\n      </attributes>\\n      <note default-x=\\\"88.63\\\" default-y=\\\"-520\\\">\\n        <pitch>\\n          <step>F</step>\\n          <octave>3</octave>\\n        </pitch>\\n        <duration>5040</duration>\\n        <type>eighth</type>\\n        <stem>down</stem>\\n        <beam number=\\\"1\\\">begin</beam>\\n      </note>\\n      <note default-x=\\\"124.44\\\" default-y=\\\"-525\\\">\\n        <pitch>\\n          <step>E</step>\\n          <alter>-1</alter>\\n          <octave>3</octave>\\n        </pitch>\\n        <duration>5040</duration>\\n        <type>eighth</type>\\n        <accidental>flat</accidental>\\n        <stem>down</stem>\\n        <beam number=\\\"1\\\">end</beam>\\n      </note>\\n    </measure>\\n    <!--========================= Measure 9 ==========================-->\\n    <measure number=\\\"9\\\" width=\\\"260.49\\\">\\n      <note default-x=\\\"31.41\\\" default-y=\\\"-530\\\">\\n        <pitch>\\n          <step>D</step>\\n          <alter>0</alter>\\n          <octave>3</octave>\\n        </pitch>\\n        <duration>5040</duration>\\n        <type>eighth</type>\\n        <accidental>natural</accidental>\\n        <stem>up</stem>\\n        <beam number=\\\"1\\\">begin</beam>\\n      </note>\\n      <note default-x=\\\"59.85\\\" default-y=\\\"-535\\\">\\n        <pitch>\\n          <step>C</step>\\n          <octave>3</octave>\\n        </pitch>\\n        <duration>5040</duration>\\n        <type>eighth</type>\\n        <stem>up</stem>\\n        <beam number=\\\"1\\\">end</beam>\\n      </note>\\n      <note default-x=\\\"88.28\\\" default-y=\\\"-540\\\">\\n        <pitch>\\n          <step>B</step>\\n          <alter>-1</alter>\\n          <octave>2</octave>\\n        </pitch>\\n        <duration>10080</duration>\\n        <type>quarter</type>\\n        <stem>up</stem>\\n      </note>\\n      <note default-x=\\\"145.15\\\" default-y=\\\"-525\\\">\\n        <pitch>\\n          <step>E</step>\\n          <alter>-1</alter>\\n          <octave>3</octave>\\n        </pitch>\\n        <duration>10080</duration>\\n        <type>quarter</type>\\n        <stem>down</stem>\\n      </note>\\n      <note default-x=\\\"202.02\\\" default-y=\\\"-530\\\">\\n        <pitch>\\n          <step>D</step>\\n          <octave>3</octave>\\n        </pitch>\\n        <duration>5040</duration>\\n        <type>eighth</type>\\n        <stem>up</stem>\\n        <beam number=\\\"1\\\">begin</beam>\\n      </note>\\n      <note default-x=\\\"230.46\\\" default-y=\\\"-535\\\">\\n        <pitch>\\n          <step>C</step>\\n          <octave>3</octave>\\n        </pitch>\\n        <duration>5040</duration>\\n        <type>eighth</type>\\n        <stem>up</stem>\\n        <beam number=\\\"1\\\">end</beam>\\n      </note>\\n    </measure>\\n    <!--========================= Measure 10 =========================-->\\n    <measure number=\\\"10\\\" width=\\\"270.88\\\">\\n      <note default-x=\\\"22.25\\\" default-y=\\\"-515\\\">\\n        <pitch>\\n          <step>G</step>\\n          <octave>3</octave>\\n        </pitch>\\n        <duration>10080</duration>\\n        <type>quarter</type>\\n        <stem>down</stem>\\n      </note>\\n      <note default-x=\\\"90.87\\\" default-y=\\\"-550\\\">\\n        <pitch>\\n          <step>G</step>\\n          <octave>2</octave>\\n        </pitch>\\n        <duration>10080</duration>\\n        <type>quarter</type>\\n        <stem>up</stem>\\n      </note>\\n      <note default-x=\\\"145.76\\\" default-y=\\\"-535\\\">\\n        <pitch>\\n          <step>C</step>\\n          <octave>3</octave>\\n        </pitch>\\n        <duration>10080</duration>\\n        <type>quarter</type>\\n        <stem>up</stem>\\n        <notations>\\n          <fermata type=\\\"upright\\\" />\\n        </notations>\\n      </note>\\n      <note default-x=\\\"200.66\\\" default-y=\\\"-500\\\">\\n        <pitch>\\n          <step>C</step>\\n          <octave>4</octave>\\n        </pitch>\\n        <duration>5040</duration>\\n        <type>eighth</type>\\n        <stem>down</stem>\\n        <beam number=\\\"1\\\">begin</beam>\\n      </note>\\n      <note default-x=\\\"234.97\\\" default-y=\\\"-505\\\">\\n        <pitch>\\n          <step>B</step>\\n          <alter>-1</alter>\\n          <octave>3</octave>\\n        </pitch>\\n        <duration>5040</duration>\\n        <type>eighth</type>\\n        <stem>down</stem>\\n        <beam number=\\\"1\\\">end</beam>\\n      </note>\\n    </measure>\\n    <!--========================= Measure 11 =========================-->\\n    <measure number=\\\"11\\\" width=\\\"288.8\\\">\\n      <note default-x=\\\"35.68\\\" default-y=\\\"-510\\\">\\n        <pitch>\\n          <step>A</step>\\n          <alter>0</alter>\\n          <octave>3</octave>\\n        </pitch>\\n        <duration>10080</duration>\\n        <type>quarter</type>\\n        <accidental>natural</accidental>\\n        <stem>down</stem>\\n      </note>\\n      <note default-x=\\\"91.58\\\" default-y=\\\"-505\\\">\\n        <pitch>\\n          <step>B</step>\\n          <alter>-1</alter>\\n          <octave>3</octave>\\n        </pitch>\\n        <duration>10080</duration>\\n        <type>quarter</type>\\n        <stem>down</stem>\\n      </note>\\n      <note default-x=\\\"147.47\\\" default-y=\\\"-525\\\">\\n        <pitch>\\n          <step>E</step>\\n          <alter>-1</alter>\\n          <octave>3</octave>\\n        </pitch>\\n        <duration>10080</duration>\\n        <type>quarter</type>\\n        <stem>down</stem>\\n      </note>\\n      <note default-x=\\\"217.34\\\" default-y=\\\"-510\\\">\\n        <pitch>\\n          <step>A</step>\\n          <alter>-1</alter>\\n          <octave>3</octave>\\n        </pitch>\\n        <duration>5040</duration>\\n        <type>eighth</type>\\n        <accidental>flat</accidental>\\n        <stem>down</stem>\\n        <beam number=\\\"1\\\">begin</beam>\\n      </note>\\n      <note default-x=\\\"252.27\\\" default-y=\\\"-515\\\">\\n        <pitch>\\n          <step>G</step>\\n          <octave>3</octave>\\n        </pitch>\\n        <duration>5040</duration>\\n        <type>eighth</type>\\n        <stem>down</stem>\\n        <beam number=\\\"1\\\">end</beam>\\n      </note>\\n    </measure>\\n    <!--========================= Measure 12 =========================-->\\n    <measure number=\\\"12\\\" width=\\\"236.48\\\">\\n      <note default-x=\\\"16.27\\\" default-y=\\\"-520\\\">\\n        <pitch>\\n          <step>F</step>\\n          <octave>3</octave>\\n        </pitch>\\n        <duration>10080</duration>\\n        <type>quarter</type>\\n        <stem>down</stem>\\n      </note>\\n      <note default-x=\\\"94\\\" default-y=\\\"-515\\\">\\n        <pitch>\\n          <step>G</step>\\n          <octave>3</octave>\\n        </pitch>\\n        <duration>10080</duration>\\n        <type>quarter</type>\\n        <stem>down</stem>\\n      </note>\\n      <note default-x=\\\"181.44\\\" default-y=\\\"-535\\\">\\n        <pitch>\\n          <step>C</step>\\n          <octave>3</octave>\\n        </pitch>\\n        <duration>10080</duration>\\n        <type>quarter</type>\\n        <stem>up</stem>\\n        <notations>\\n          <fermata type=\\\"upright\\\" />\\n        </notations>\\n      </note>\\n    </measure>\\n    <!--========================= Measure 12 =========================-->\\n    <measure number=\\\"12a\\\" width=\\\"126.56\\\">\\n      <print new-system=\\\"yes\\\">\\n        <staff-layout number=\\\"1\\\">\\n          <staff-distance>130</staff-distance>\\n        </staff-layout>\\n      </print>\\n      <attributes>\\n        <staff-details print-object=\\\"yes\\\" />\\n      </attributes>\\n      <note default-x=\\\"86.71\\\" default-y=\\\"-515\\\">\\n        <pitch>\\n          <step>G</step>\\n          <octave>3</octave>\\n        </pitch>\\n        <duration>10080</duration>\\n        <type>quarter</type>\\n        <stem>down</stem>\\n      </note>\\n    </measure>\\n    <!--========================= Measure 13 =========================-->\\n    <measure number=\\\"13\\\" width=\\\"280.57\\\">\\n      <note default-x=\\\"21.56\\\" default-y=\\\"-535\\\">\\n        <pitch>\\n          <step>C</step>\\n          <octave>3</octave>\\n        </pitch>\\n        <duration>10080</duration>\\n        <type>quarter</type>\\n        <stem>up</stem>\\n      </note>\\n      <note default-x=\\\"85.91\\\" default-y=\\\"-520\\\">\\n        <pitch>\\n          <step>F</step>\\n          <octave>3</octave>\\n        </pitch>\\n        <duration>5040</duration>\\n        <type>eighth</type>\\n        <stem>down</stem>\\n        <beam number=\\\"1\\\">begin</beam>\\n      </note>\\n      <note default-x=\\\"118.09\\\" default-y=\\\"-515\\\">\\n        <pitch>\\n          <step>G</step>\\n          <octave>3</octave>\\n        </pitch>\\n        <duration>5040</duration>\\n        <type>eighth</type>\\n        <stem>down</stem>\\n        <beam number=\\\"1\\\">end</beam>\\n      </note>\\n      <note default-x=\\\"150.26\\\" default-y=\\\"-510\\\">\\n        <pitch>\\n          <step>A</step>\\n          <alter>-1</alter>\\n          <octave>3</octave>\\n        </pitch>\\n        <duration>10080</duration>\\n        <type>quarter</type>\\n        <accidental>flat</accidental>\\n        <stem>down</stem>\\n      </note>\\n      <note default-x=\\\"214.62\\\" default-y=\\\"-515\\\">\\n        <pitch>\\n          <step>G</step>\\n          <octave>3</octave>\\n        </pitch>\\n        <duration>5040</duration>\\n        <type>eighth</type>\\n        <stem>down</stem>\\n        <beam number=\\\"1\\\">begin</beam>\\n      </note>\\n      <note default-x=\\\"246.79\\\" default-y=\\\"-520\\\">\\n        <pitch>\\n          <step>F</step>\\n          <octave>3</octave>\\n        </pitch>\\n        <duration>5040</duration>\\n        <type>eighth</type>\\n        <stem>down</stem>\\n        <beam number=\\\"1\\\">end</beam>\\n      </note>\\n    </measure>\\n    <!--========================= Measure 14 =========================-->\\n    <measure number=\\\"14\\\" width=\\\"280.86\\\">\\n      <note default-x=\\\"14.36\\\" default-y=\\\"-525\\\">\\n        <pitch>\\n          <step>E</step>\\n          <alter>0</alter>\\n          <octave>3</octave>\\n        </pitch>\\n        <duration>10080</duration>\\n        <type>quarter</type>\\n        <accidental>natural</accidental>\\n        <stem>down</stem>\\n      </note>\\n      <note default-x=\\\"87.94\\\" default-y=\\\"-520\\\">\\n        <pitch>\\n          <step>F</step>\\n          <octave>3</octave>\\n        </pitch>\\n        <duration>10080</duration>\\n        <type>quarter</type>\\n        <stem>down</stem>\\n      </note>\\n      <note default-x=\\\"146.81\\\" default-y=\\\"-535\\\">\\n        <pitch>\\n          <step>C</step>\\n          <octave>3</octave>\\n        </pitch>\\n        <duration>10080</duration>\\n        <type>quarter</type>\\n        <stem>up</stem>\\n        <notations>\\n          <fermata type=\\\"upright\\\" />\\n        </notations>\\n      </note>\\n      <note default-x=\\\"205.68\\\" default-y=\\\"-520\\\">\\n        <pitch>\\n          <step>F</step>\\n          <octave>3</octave>\\n        </pitch>\\n        <duration>5040</duration>\\n        <type>eighth</type>\\n        <stem>down</stem>\\n        <beam number=\\\"1\\\">begin</beam>\\n      </note>\\n      <note default-x=\\\"242.47\\\" default-y=\\\"-525\\\">\\n        <pitch>\\n          <step>E</step>\\n          <alter>-1</alter>\\n          <octave>3</octave>\\n        </pitch>\\n        <duration>5040</duration>\\n        <type>eighth</type>\\n        <accidental>flat</accidental>\\n        <stem>down</stem>\\n        <beam number=\\\"1\\\">end</beam>\\n      </note>\\n    </measure>\\n    <!--========================= Measure 15 =========================-->\\n    <measure number=\\\"15\\\" width=\\\"280.9\\\">\\n      <note default-x=\\\"16.27\\\" default-y=\\\"-530\\\">\\n        <pitch>\\n          <step>D</step>\\n          <alter>-1</alter>\\n          <octave>3</octave>\\n        </pitch>\\n        <duration>5040</duration>\\n        <type>eighth</type>\\n        <accidental>flat</accidental>\\n        <stem>up</stem>\\n        <beam number=\\\"1\\\">begin</beam>\\n      </note>\\n      <note default-x=\\\"50.88\\\" default-y=\\\"-535\\\">\\n        <pitch>\\n          <step>C</step>\\n          <octave>3</octave>\\n        </pitch>\\n        <duration>5040</duration>\\n        <type>eighth</type>\\n        <stem>up</stem>\\n        <beam number=\\\"1\\\">end</beam>\\n      </note>\\n      <note default-x=\\\"85.49\\\" default-y=\\\"-540\\\">\\n        <pitch>\\n          <step>B</step>\\n          <alter>-1</alter>\\n          <octave>2</octave>\\n        </pitch>\\n        <duration>10080</duration>\\n        <type>quarter</type>\\n        <stem>up</stem>\\n      </note>\\n      <note default-x=\\\"140.86\\\" default-y=\\\"-545\\\">\\n        <pitch>\\n          <step>A</step>\\n          <alter>-1</alter>\\n          <octave>2</octave>\\n        </pitch>\\n        <duration>10080</duration>\\n        <type>quarter</type>\\n        <accidental>flat</accidental>\\n        <stem>up</stem>\\n      </note>\\n      <note default-x=\\\"210.08\\\" default-y=\\\"-530\\\">\\n        <pitch>\\n          <step>D</step>\\n          <alter>-1</alter>\\n          <octave>3</octave>\\n        </pitch>\\n        <duration>5040</duration>\\n        <type>eighth</type>\\n        <stem>up</stem>\\n        <beam number=\\\"1\\\">begin</beam>\\n      </note>\\n      <note default-x=\\\"244.69\\\" default-y=\\\"-535\\\">\\n        <pitch>\\n          <step>C</step>\\n          <octave>3</octave>\\n        </pitch>\\n        <duration>5040</duration>\\n        <type>eighth</type>\\n        <stem>up</stem>\\n        <beam number=\\\"1\\\">end</beam>\\n      </note>\\n    </measure>\\n    <!--========================= Measure 16 =========================-->\\n    <measure number=\\\"16\\\" width=\\\"249.63\\\">\\n      <note default-x=\\\"18.27\\\" default-y=\\\"-540\\\">\\n        <pitch>\\n          <step>B</step>\\n          <alter>-1</alter>\\n          <octave>2</octave>\\n        </pitch>\\n        <duration>10080</duration>\\n        <type>quarter</type>\\n        <stem>up</stem>\\n      </note>\\n      <note default-x=\\\"114.76\\\" default-y=\\\"-535\\\">\\n        <pitch>\\n          <step>C</step>\\n          <octave>3</octave>\\n        </pitch>\\n        <duration>10080</duration>\\n        <type>quarter</type>\\n        <stem>up</stem>\\n      </note>\\n      <note default-x=\\\"197.48\\\" default-y=\\\"-555\\\">\\n        <pitch>\\n          <step>F</step>\\n          <octave>2</octave>\\n        </pitch>\\n        <duration>10080</duration>\\n        <type>quarter</type>\\n        <stem>up</stem>\\n        <notations>\\n          <fermata type=\\\"upright\\\" />\\n        </notations>\\n      </note>\\n    </measure>\\n    <!--========================= Measure 16 =========================-->\\n    <measure number=\\\"16a\\\" width=\\\"208.33\\\">\\n      <print new-page=\\\"yes\\\">\\n        <staff-layout number=\\\"1\\\">\\n          <staff-distance>130</staff-distance>\\n        </staff-layout>\\n      </print>\\n      <attributes>\\n        <staff-details print-object=\\\"yes\\\" />\\n      </attributes>\\n      <note default-x=\\\"86.71\\\" default-y=\\\"-510\\\">\\n        <pitch>\\n          <step>A</step>\\n          <alter>0</alter>\\n          <octave>3</octave>\\n        </pitch>\\n        <duration>10080</duration>\\n        <type>quarter</type>\\n        <accidental>natural</accidental>\\n        <stem>down</stem>\\n      </note>\\n    </measure>\\n    <!--========================= Measure 17 =========================-->\\n    <measure number=\\\"17\\\" width=\\\"577.72\\\">\\n      <note default-x=\\\"23.57\\\" default-y=\\\"-505\\\">\\n        <pitch>\\n          <step>B</step>\\n          <alter>-1</alter>\\n          <octave>3</octave>\\n        </pitch>\\n        <duration>5040</duration>\\n        <type>eighth</type>\\n        <stem>down</stem>\\n        <beam number=\\\"1\\\">begin</beam>\\n      </note>\\n      <note default-x=\\\"92.64\\\" default-y=\\\"-500\\\">\\n        <pitch>\\n          <step>C</step>\\n          <octave>4</octave>\\n        </pitch>\\n        <duration>5040</duration>\\n        <type>eighth</type>\\n        <stem>down</stem>\\n        <beam number=\\\"1\\\">continue</beam>\\n      </note>\\n      <note default-x=\\\"161.71\\\" default-y=\\\"-495\\\">\\n        <pitch>\\n          <step>D</step>\\n          <octave>4</octave>\\n        </pitch>\\n        <duration>5040</duration>\\n        <type>eighth</type>\\n        <stem>down</stem>\\n        <beam number=\\\"1\\\">continue</beam>\\n      </note>\\n      <note default-x=\\\"230.78\\\" default-y=\\\"-505\\\">\\n        <pitch>\\n          <step>B</step>\\n          <alter>-1</alter>\\n          <octave>3</octave>\\n        </pitch>\\n        <duration>5040</duration>\\n        <type>eighth</type>\\n        <stem>down</stem>\\n        <beam number=\\\"1\\\">end</beam>\\n      </note>\\n      <note default-x=\\\"299.84\\\" default-y=\\\"-525\\\">\\n        <pitch>\\n          <step>E</step>\\n          <alter>-1</alter>\\n          <octave>3</octave>\\n        </pitch>\\n        <duration>10080</duration>\\n        <type>quarter</type>\\n        <stem>down</stem>\\n      </note>\\n      <note default-x=\\\"437.98\\\" default-y=\\\"-510\\\">\\n        <pitch>\\n          <step>A</step>\\n          <alter>-1</alter>\\n          <octave>3</octave>\\n        </pitch>\\n        <duration>10080</duration>\\n        <type>quarter</type>\\n        <accidental>flat</accidental>\\n        <stem>down</stem>\\n      </note>\\n    </measure>\\n    <!--========================= Measure 18 =========================-->\\n    <measure number=\\\"18\\\" width=\\\"432.46\\\">\\n      <note default-x=\\\"14.2\\\" default-y=\\\"-515\\\">\\n        <pitch>\\n          <step>G</step>\\n          <octave>3</octave>\\n        </pitch>\\n        <duration>5040</duration>\\n        <type>eighth</type>\\n        <stem>up</stem>\\n        <beam number=\\\"1\\\">begin</beam>\\n      </note>\\n      <note default-x=\\\"87\\\" default-y=\\\"-520\\\">\\n        <pitch>\\n          <step>F</step>\\n          <octave>3</octave>\\n        </pitch>\\n        <duration>5040</duration>\\n        <type>eighth</type>\\n        <stem>up</stem>\\n        <beam number=\\\"1\\\">continue</beam>\\n      </note>\\n      <note default-x=\\\"159.8\\\" default-y=\\\"-515\\\">\\n        <pitch>\\n          <step>G</step>\\n          <octave>3</octave>\\n        </pitch>\\n        <duration>5040</duration>\\n        <type>eighth</type>\\n        <stem>up</stem>\\n        <beam number=\\\"1\\\">continue</beam>\\n      </note>\\n      <note default-x=\\\"232.59\\\" default-y=\\\"-550\\\">\\n        <pitch>\\n          <step>G</step>\\n          <octave>2</octave>\\n        </pitch>\\n        <duration>5040</duration>\\n        <type>eighth</type>\\n        <stem>up</stem>\\n        <beam number=\\\"1\\\">end</beam>\\n      </note>\\n      <note default-x=\\\"305.39\\\" default-y=\\\"-535\\\">\\n        <pitch>\\n          <step>C</step>\\n          <octave>3</octave>\\n        </pitch>\\n        <duration>10080</duration>\\n        <type>quarter</type>\\n        <stem>up</stem>\\n        <notations>\\n          <fermata type=\\\"upright\\\" />\\n        </notations>\\n      </note>\\n      <barline location=\\\"right\\\">\\n        <bar-style>light-heavy</bar-style>\\n      </barline>\\n    </measure>\\n  </part>\\n</score-partwise>\\n\")\n",
       "            .then(\n",
       "              function() {\n",
       "                console.log(\"rendering data\")\n",
       "                openSheetMusicDisplay.render();\n",
       "              }\n",
       "            );\n",
       "    })\n",
       "    "
      ],
      "text/plain": [
       "<IPython.core.display.Javascript object>"
      ]
     },
     "metadata": {},
     "output_type": "display_data"
    }
   ],
   "source": [
    "showScore(score)"
   ]
  },
  {
   "cell_type": "code",
   "execution_count": 18,
   "metadata": {},
   "outputs": [
    {
     "data": {
      "text/html": [
       "\n",
       "                <div id='midiPlayerDiv10960'></div>\n",
       "                <link rel=\"stylesheet\" href=\"//cuthbertLab.github.io/music21j/css/m21.css\"\n",
       "                    type=\"text/css\" />\n",
       "                <script>\n",
       "                require.config({\n",
       "                    paths: {'music21': '//cuthbertLab.github.io/music21j/src/music21'}\n",
       "                });\n",
       "                require(['music21'], function() {\n",
       "                               mp = new music21.miditools.MidiPlayer();\n",
       "                               mp.addPlayer('#midiPlayerDiv10960');\n",
       "                               mp.base64Load('data:audio/midi;base64,TVRoZAAAAAYAAQAEBABNVHJrAAADBwD/AwdTb3ByYW5vAOAAQADAAAD/WQL+AQD/WAQEAhgIAJBBWoQAgEEAAJBDWoQAgEMAAJBEWogAgEQAAJBGWogAgEYAAJBIWogAgEgAAJBGWogAgEYAAJBLWogAgEsAAJBKWoQAgEoAAJBIWoQAgEgAAJBIWogAgEgAAJBGWogAgEYAAJBLWogAgEsAAJBKWogAgEoAAJBIWogAgEgAAJBGWogAgEYAAJBEWogAgEQAAJBDWogAgEMAAJBBWogAgEEAAJBBWoQAgEEAAJBDWoQAgEMAAJBEWogAgEQAAJBGWogAgEYAAJBIWogAgEgAAJBGWogAgEYAAJBLWogAgEsAAJBKWoQAgEoAAJBIWoQAgEgAAJBIWogAgEgAAJBGWogAgEYAAJBLWogAgEsAAJBKWogAgEoAAJBIWogAgEgAAJBGWogAgEYAAJBEWogAgEQAAJBDWogAgEMAAJBBWogAgEEAAJBBWogAgEEAAJBGWogAgEYAAJBGWogAgEYAAJBDWogAgEMAAJBIWogAgEgAAJBIWogAgEgAAJBHWogAgEcAAJBIWogAgEgAAJBIWogAgEgAAJBNWogAgE0AAJBNWogAgE0AAJBPWoQAgE8AAJBNWoQAgE0AAJBLWogAgEsAAJBNWoQAgE0AAJBLWoQAgEsAAJBKWogAgEoAAJBIWogAgEgAAJBKWogAgEoAAJBLWogAgEsAAJBKWogAgEoAAJBIWogAgEgAAJBGWogAgEYAAJBIWoQAgEgAAJBGWoQAgEYAAJBEWogAgEQAAJBDWogAgEMAAJBBWoQAgEEAAJBDWoQAgEMAAJBEWogAgEQAAJBGWogAgEYAAJBIWoQAgEgAAJBGWoQAgEYAAJBEWogAgEQAAJBGWoQAgEYAAJBEWoQAgEQAAJBDWogAgEMAAJBBWogAgEEAAJBNWogAgE0AAJBNWogAgE0AAJBNWogAgE0AAJBPWogAgE8AAJBNWogAgE0AAJBLWogAgEsAAJBKWogAgEoAAJBIWogAgEgAiAD/LwBNVHJrAAADQwD/AwRBbHRvAOAAQADAAAD/WQL+AAD/WAQEAhgIAJA+WogAgD4AAJA8WoQAgDwAAJA+WoQAgD4AAJA/WogAgD8AAJA/WoQAgD8AAJBBWoQAgEEAAJBDWogAgEMAAJBDWogAgEMAAJBDWogAgEMAAJBDWogAgEMAAJBDWogAgEMAAJBDWogAgEMAAJBDWogAgEMAAJBEWoQAgEQAAJBDWoQAgEMAAJBBWogAgEEAAJA8WoQAgDwAAJBBWogAgEEAAJBAWoQAgEAAAJA8WogAgDwAAJA8WogAgDwAAJBBWogAgEEAAJBDWogAgEMAAJBEWogAgEQAAJBDWogAgEMAAJBIWogAgEgAAJBHWogAgEcAAJBDWogAgEMAAJBDWogAgEMAAJBDWoQAgEMAAJBIWoQAgEgAAJBIWoQAgEgAAJBGWoQAgEYAAJBGWoQAgEYAAJBEWoQAgEQAAJBDWoQAgEMAAJBAWoQAgEAAAJBBWogAgEEAAJBAWogAgEAAAJA8WogAgDwAAJA8WogAgDwAAJBBWogAgEEAAJA/WoQAgD8AAJA+WoQAgD4AAJA/WoQAgD8AAJBBWoQAgEEAAJBDWogAgEMAAJBDWogAgEMAAJBDWogAgEMAAJBDWogAgEMAAJBDWogAgEMAAJBIWogAgEgAAJBGWogAgEYAAJBGWogAgEYAAJBIWoQAgEgAAJBGWoQAgEYAAJBEWogAgEQAAJA+WoQAgD4AAJA/WoIAgD8AAJBBWoIAgEEAAJA/WogAgD8AAJBDWogAgEMAAJBDWogAgEMAAJBBWogAgEEAAJA/WoQAgD8AAJBBWoQAgEEAAJBDWogAgEMAAJA8WogAgDwAAJBBWogAgEEAAJBAWogAgEAAAJA8WogAgDwAAJBBWogAgEEAAJBDWogAgEMAAJBDWoQAgEMAAJBAWoQAgEAAAJBBWogAgEEAAJBDWoQAgEMAAJBBWoQAgEEAAJBAWogAgEAAAJA8WogAgDwAAJBIWogAgEgAAJBGWogAgEYAAJBGWogAgEYAAJBGWogAgEYAAJBIWoQAgEgAAJBBWoQAgEEAAJBDWowAgEMAAJBBWoQAgEEAAJBAWogAgEAAiAD/LwBNVHJrAAADgwD/AwVUZW5vcgDgAEAAwAAA/1kC/gAA/1gEBAIYCACQOlqIAIA6AACQOFqIAIA4AACQN1qIAIA3AACQOFqIAIA4AACQP1qEAIA/AACQPlqEAIA+AACQPFqIAIA8AACQO1qIAIA7AACQP1qIAIA/AACQPlqIAIA+AACQPFqIAIA8AACQPlqEAIA+AACQQFqEAIBAAACQQVqIAIBBAACQNVqEAIA1AACQN1qEAIA3AACQOFqEAIA4AACQOlqEAIA6AACQPFqIAIA8AACQOFqIAIA4AACQOFqEAIA4AACQN1qEAIA3AACQNVqEAIA1AACQOFqEAIA4AACQPVqIAIA9AACQP1qIAIA/AACQP1qEAIA/AACQQVqEAIBBAACQQ1qIAIBDAACQQ1qIAIBDAACQP1qIAIA/AACQPlqIAIA+AACQPFqIAIA8AACQNVqEAIA1AACQN1qEAIA3AACQOFqIAIA4AACQOlqIAIA6AACQPFqIAIA8AACQOlqEAIA6AACQOFqEAIA4AACQOFqIAIA4AACQOFqEAIA4AACQN1qEAIA3AACQNVqIAIA1AACQOlqIAIA6AACQOlqIAIA6AACQP1qIAIA/AACQPlqEAIA+AACQPFqEAIA8AACQPlqIAIA+AACQP1qIAIA/AACQP1qIAIA/AACQP1qIAIA/AACQPlqIAIA+AACQP1qEAIA/AACQPlqEAIA+AACQPFqIAIA8AACQPlqEAIA+AACQPFqEAIA8AACQO1qIAIA7AACQN1qIAIA3AACQO1qIAIA7AACQPFqEAIA8AACQOlqEAIA6AACQOFqEAIA4AACQOlqEAIA6AACQPFqEAIA8AACQPlqEAIA+AACQQFqEAIBAAACQQVqEAIBBAACQQ1qIAIBDAACQPFqIAIA8AACQPFqIAIA8AACQOFqEAIA4AACQN1qEAIA3AACQNVqEAIA1AACQOFqEAIA4AACQPVqIAIA9AACQPFqIAIA8AACQPVqIAIA9AACQPVqIAIA9AACQN1qEAIA3AACQOFqCAIA4AACQOlqCAIA6AACQOFqIAIA4AACQNVqIAIA1AACQPlqEAIA+AACQP1qEAIA/AACQQVqEAIBBAACQPlqEAIA+AACQP1qEAIA/AACQPlqEAIA+AACQPFqIAIA8AACQPFqIAIA8AACQO1qIAIA7AACQN1qIAIA3AIgA/y8ATVRyawAAA3AA/wMEQmFzcwDgAEAAwAAA/1kC/gAA/1gEBAIYCACQLlqIAIAuAACQNVqIAIA1AACQM1qIAIAzAACQOFqIAIA4AACQN1qEAIA3AACQNVqEAIA1AACQM1qEAIAzAACQNVqEAIA1AACQN1qIAIA3AACQMFqIAIAwAACQN1qIAIA3AACQPFqIAIA8AACQOlqIAIA6AACQOFqIAIA4AACQMlqEAIAyAACQNFqEAIA0AACQNVqIAIA1AACQMFqIAIAwAACQKVqIAIApAACQNVqEAIA1AACQM1qEAIAzAACQMVqEAIAxAACQMFqEAIAwAACQLlqIAIAuAACQLFqIAIAsAACQM1qEAIAzAACQMlqEAIAyAACQMFqIAIAwAACQN1qIAIA3AACQPFqIAIA8AACQN1qIAIA3AACQMFqIAIAwAACQMlqEAIAyAACQNFqEAIA0AACQNVqIAIA1AACQMVqIAIAxAACQMFqEAIAwAACQLlqEAIAuAACQMFqIAIAwAACQKVqIAIApAACQNVqEAIA1AACQM1qEAIAzAACQMlqEAIAyAACQMFqEAIAwAACQLlqIAIAuAACQM1qIAIAzAACQMlqEAIAyAACQMFqEAIAwAACQN1qIAIA3AACQK1qIAIArAACQMFqIAIAwAACQPFqEAIA8AACQOlqEAIA6AACQOVqIAIA5AACQOlqIAIA6AACQM1qIAIAzAACQOFqEAIA4AACQN1qEAIA3AACQNVqIAIA1AACQN1qIAIA3AACQMFqIAIAwAACQN1qIAIA3AACQMFqIAIAwAACQNVqEAIA1AACQN1qEAIA3AACQOFqIAIA4AACQN1qEAIA3AACQNVqEAIA1AACQNFqIAIA0AACQNVqIAIA1AACQMFqIAIAwAACQNVqEAIA1AACQM1qEAIAzAACQMVqEAIAxAACQMFqEAIAwAACQLlqIAIAuAACQLFqIAIAsAACQMVqEAIAxAACQMFqEAIAwAACQLlqIAIAuAACQMFqIAIAwAACQKVqIAIApAACQOVqIAIA5AACQOlqEAIA6AACQPFqEAIA8AACQPlqEAIA+AACQOlqEAIA6AACQM1qIAIAzAACQOFqIAIA4AACQN1qEAIA3AACQNVqEAIA1AACQN1qEAIA3AACQK1qEAIArAACQMFqIAIAwAIgA/y8A');\n",
       "                        });\n",
       "                </script>"
      ],
      "text/plain": [
       "<IPython.core.display.HTML object>"
      ]
     },
     "metadata": {},
     "output_type": "display_data"
    }
   ],
   "source": [
    "score.show('midi')"
   ]
  },
  {
   "cell_type": "markdown",
   "metadata": {},
   "source": [
    "### Searching for Scores in the `music21` Corpora\n",
    "\n",
    "One of the advantages of using `music21` is that it bundles bundles a large corpus of musical scores. We can search through these scores to find a piece of music that we can then use within the notebook.\n",
    "\n",
    "For example, we can search by composer:"
   ]
  },
  {
   "cell_type": "code",
   "execution_count": 60,
   "metadata": {},
   "outputs": [
    {
     "data": {
      "text/plain": [
       "[('ambitus',\n",
       "  \"AmbitusShort(semitones=17, diatonic='P4', pitchLowest='G4', pitchHighest='C6')\"),\n",
       " ('composer', \"O'Carolan\"),\n",
       " ('keySignatureFirst', '<music21.key.KeySignature of 1 sharp>'),\n",
       " ('keySignatures', \"['<music21.key.KeySignature of 1 sharp>']\"),\n",
       " ('noteCount', '167'),\n",
       " ('number', '661'),\n",
       " ('numberOfParts', '1'),\n",
       " ('pitchHighest', 'C6'),\n",
       " ('pitchLowest', 'G4'),\n",
       " ('quarterLength', '144.0'),\n",
       " ('timeSignatureFirst', '3/4'),\n",
       " ('timeSignatures', \"['3/4']\"),\n",
       " ('title', 'Planxty Dobbins')]"
      ]
     },
     "execution_count": 60,
     "metadata": {},
     "output_type": "execute_result"
    }
   ],
   "source": [
    "a=[c for c in corpus.search('carolan', 'composer')]\n",
    "a[0].metadata.all()"
   ]
  },
  {
   "cell_type": "markdown",
   "metadata": {},
   "source": [
    "Searches return a metadata bundle, which cas also be search within by chaining the search queries:"
   ]
  },
  {
   "cell_type": "code",
   "execution_count": 91,
   "metadata": {},
   "outputs": [
    {
     "data": {
      "text/plain": [
       "<music21.metadata.bundles.MetadataBundle {1 entry}>"
      ]
     },
     "execution_count": 91,
     "metadata": {},
     "output_type": "execute_result"
    }
   ],
   "source": [
    "c = corpus.search('carolan', 'composer').search('Princess Royal', 'title')\n",
    "c"
   ]
  },
  {
   "cell_type": "code",
   "execution_count": 100,
   "metadata": {},
   "outputs": [
    {
     "data": {
      "text/html": [
       "<div id=\"OSMD-div-213710\"></div>"
      ],
      "text/plain": [
       "<IPython.core.display.HTML object>"
      ]
     },
     "metadata": {},
     "output_type": "display_data"
    },
    {
     "data": {
      "application/javascript": [
       "\n",
       "    console.log(\"loadOSMD()\");\n",
       "    function loadOSMD() { \n",
       "        return new Promise(function(resolve, reject){\n",
       "\n",
       "            if (window.opensheetmusicdisplay) {\n",
       "                console.log(\"already loaded\")\n",
       "                return resolve(window.opensheetmusicdisplay)\n",
       "            }\n",
       "            console.log(\"loading osmd for the first time\")\n",
       "            // OSMD script has a 'define' call which conflicts with requirejs\n",
       "            var _define = window.define // save the define object \n",
       "            window.define = undefined // now the loaded script will ignore requirejs\n",
       "            var s = document.createElement( 'script' );\n",
       "            s.setAttribute( 'src', \"https://cdn.jsdelivr.net/npm/opensheetmusicdisplay@0.3.1/build/opensheetmusicdisplay.min.js\" );\n",
       "            //s.setAttribute( 'src', \"/custom/opensheetmusicdisplay.js\" );\n",
       "            s.onload=function(){\n",
       "                window.define = _define\n",
       "                console.log(\"loaded OSMD for the first time\",opensheetmusicdisplay)\n",
       "                resolve(opensheetmusicdisplay);\n",
       "            };\n",
       "            document.body.appendChild( s ); // browser will try to load the new script tag\n",
       "        }) \n",
       "    }\n",
       "    loadOSMD().then((OSMD)=>{\n",
       "        console.log(\"loaded OSMD\",OSMD)\n",
       "        var div_id = \"OSMD-div-213710\";\n",
       "            console.log(div_id)\n",
       "        window.openSheetMusicDisplay = new OSMD.OpenSheetMusicDisplay(div_id);\n",
       "        openSheetMusicDisplay\n",
       "            .load(\"<?xml version=\\\"1.0\\\" encoding=\\\"utf-8\\\"?>\\n<!DOCTYPE score-partwise  PUBLIC \\\"-//Recordare//DTD MusicXML 3.0 Partwise//EN\\\" \\\"http://www.musicxml.org/dtds/partwise.dtd\\\">\\n<score-partwise version=\\\"3.0\\\">\\n  <work>\\n    <work-title>Princess Royal</work-title>\\n  </work>\\n  <movement-title>Princess Royal</movement-title>\\n  <identification>\\n    <creator type=\\\"composer\\\">O'Carolan</creator>\\n    <encoding>\\n      <encoding-date>2018-08-30</encoding-date>\\n      <software>music21 v.5.3.0</software>\\n    </encoding>\\n    <miscellaneous>\\n      <miscellaneous-field name=\\\"number\\\">641</miscellaneous-field>\\n    </miscellaneous>\\n  </identification>\\n  <defaults>\\n    <scaling>\\n      <millimeters>7</millimeters>\\n      <tenths>40</tenths>\\n    </scaling>\\n  </defaults>\\n  <part-list>\\n    <score-part id=\\\"P4bbbec6cb27584dc210be1a75a88275c\\\">\\n      <part-name />\\n    </score-part>\\n  </part-list>\\n  <!--=========================== Part 1 ===========================-->\\n  <part id=\\\"P4bbbec6cb27584dc210be1a75a88275c\\\">\\n    <!--========================= Measure 0 ==========================-->\\n    <measure number=\\\"0\\\">\\n      <attributes>\\n        <divisions>10080</divisions>\\n        <key>\\n          <fifths>-2</fifths>\\n          <mode>minor</mode>\\n        </key>\\n        <time>\\n          <beats>2</beats>\\n          <beat-type>4</beat-type>\\n        </time>\\n        <clef>\\n          <sign>G</sign>\\n          <line>2</line>\\n        </clef>\\n      </attributes>\\n      <note>\\n        <pitch>\\n          <step>D</step>\\n          <octave>5</octave>\\n        </pitch>\\n        <duration>2520</duration>\\n        <type>16th</type>\\n        <beam number=\\\"1\\\">begin</beam>\\n        <beam number=\\\"2\\\">begin</beam>\\n      </note>\\n      <note>\\n        <pitch>\\n          <step>C</step>\\n          <octave>5</octave>\\n        </pitch>\\n        <duration>2520</duration>\\n        <type>16th</type>\\n        <beam number=\\\"1\\\">end</beam>\\n        <beam number=\\\"2\\\">end</beam>\\n      </note>\\n    </measure>\\n    <!--========================= Measure 1 ==========================-->\\n    <measure number=\\\"1\\\">\\n      <note>\\n        <pitch>\\n          <step>B</step>\\n          <alter>-1</alter>\\n          <octave>4</octave>\\n        </pitch>\\n        <duration>5040</duration>\\n        <type>eighth</type>\\n        <beam number=\\\"1\\\">begin</beam>\\n        <notations>\\n          <slur number=\\\"1\\\" type=\\\"start\\\" />\\n        </notations>\\n      </note>\\n      <note>\\n        <pitch>\\n          <step>A</step>\\n          <octave>4</octave>\\n        </pitch>\\n        <duration>5040</duration>\\n        <type>eighth</type>\\n        <beam number=\\\"1\\\">end</beam>\\n        <notations>\\n          <slur number=\\\"1\\\" type=\\\"stop\\\" />\\n        </notations>\\n      </note>\\n      <note>\\n        <pitch>\\n          <step>G</step>\\n          <octave>4</octave>\\n        </pitch>\\n        <duration>5040</duration>\\n        <type>eighth</type>\\n        <beam number=\\\"1\\\">begin</beam>\\n      </note>\\n      <note>\\n        <pitch>\\n          <step>D</step>\\n          <octave>5</octave>\\n        </pitch>\\n        <duration>2520</duration>\\n        <type>16th</type>\\n        <beam number=\\\"1\\\">continue</beam>\\n        <beam number=\\\"2\\\">begin</beam>\\n        <notations>\\n          <slur number=\\\"2\\\" type=\\\"start\\\" />\\n        </notations>\\n      </note>\\n      <note>\\n        <pitch>\\n          <step>C</step>\\n          <octave>5</octave>\\n        </pitch>\\n        <duration>2520</duration>\\n        <type>16th</type>\\n        <beam number=\\\"1\\\">end</beam>\\n        <beam number=\\\"2\\\">end</beam>\\n        <notations>\\n          <slur number=\\\"2\\\" type=\\\"stop\\\" />\\n        </notations>\\n      </note>\\n    </measure>\\n    <!--========================= Measure 2 ==========================-->\\n    <measure number=\\\"2\\\">\\n      <note>\\n        <pitch>\\n          <step>B</step>\\n          <alter>-1</alter>\\n          <octave>4</octave>\\n        </pitch>\\n        <duration>5040</duration>\\n        <type>eighth</type>\\n        <beam number=\\\"1\\\">begin</beam>\\n        <notations>\\n          <slur number=\\\"3\\\" type=\\\"start\\\" />\\n        </notations>\\n      </note>\\n      <note>\\n        <pitch>\\n          <step>A</step>\\n          <octave>4</octave>\\n        </pitch>\\n        <duration>5040</duration>\\n        <type>eighth</type>\\n        <beam number=\\\"1\\\">end</beam>\\n        <notations>\\n          <slur number=\\\"3\\\" type=\\\"stop\\\" />\\n        </notations>\\n      </note>\\n      <note>\\n        <pitch>\\n          <step>G</step>\\n          <octave>4</octave>\\n        </pitch>\\n        <duration>5040</duration>\\n        <type>eighth</type>\\n        <beam number=\\\"1\\\">begin</beam>\\n        <notations>\\n          <slur number=\\\"4\\\" type=\\\"start\\\" />\\n        </notations>\\n      </note>\\n      <note>\\n        <pitch>\\n          <step>D</step>\\n          <octave>5</octave>\\n        </pitch>\\n        <duration>5040</duration>\\n        <type>eighth</type>\\n        <beam number=\\\"1\\\">end</beam>\\n        <notations>\\n          <slur number=\\\"4\\\" type=\\\"stop\\\" />\\n        </notations>\\n      </note>\\n    </measure>\\n    <!--========================= Measure 3 ==========================-->\\n    <measure number=\\\"3\\\">\\n      <note>\\n        <pitch>\\n          <step>E</step>\\n          <alter>-1</alter>\\n          <octave>5</octave>\\n        </pitch>\\n        <duration>5040</duration>\\n        <type>eighth</type>\\n        <beam number=\\\"1\\\">begin</beam>\\n        <notations>\\n          <slur number=\\\"5\\\" type=\\\"start\\\" />\\n        </notations>\\n      </note>\\n      <note>\\n        <pitch>\\n          <step>D</step>\\n          <octave>5</octave>\\n        </pitch>\\n        <duration>5040</duration>\\n        <type>eighth</type>\\n        <beam number=\\\"1\\\">end</beam>\\n        <notations>\\n          <slur number=\\\"5\\\" type=\\\"stop\\\" />\\n        </notations>\\n      </note>\\n      <note>\\n        <pitch>\\n          <step>C</step>\\n          <octave>5</octave>\\n        </pitch>\\n        <duration>5040</duration>\\n        <type>eighth</type>\\n        <beam number=\\\"1\\\">begin</beam>\\n      </note>\\n      <note>\\n        <pitch>\\n          <step>F</step>\\n          <octave>5</octave>\\n        </pitch>\\n        <duration>2520</duration>\\n        <type>16th</type>\\n        <beam number=\\\"1\\\">continue</beam>\\n        <beam number=\\\"2\\\">begin</beam>\\n        <notations>\\n          <slur number=\\\"6\\\" type=\\\"start\\\" />\\n        </notations>\\n      </note>\\n      <note>\\n        <pitch>\\n          <step>E</step>\\n          <alter>-1</alter>\\n          <octave>5</octave>\\n        </pitch>\\n        <duration>2520</duration>\\n        <type>16th</type>\\n        <beam number=\\\"1\\\">end</beam>\\n        <beam number=\\\"2\\\">end</beam>\\n        <notations>\\n          <slur number=\\\"6\\\" type=\\\"stop\\\" />\\n        </notations>\\n      </note>\\n    </measure>\\n    <!--========================= Measure 4 ==========================-->\\n    <measure number=\\\"4\\\">\\n      <note>\\n        <pitch>\\n          <step>D</step>\\n          <octave>5</octave>\\n        </pitch>\\n        <duration>2520</duration>\\n        <type>16th</type>\\n        <beam number=\\\"1\\\">begin</beam>\\n        <beam number=\\\"2\\\">begin</beam>\\n        <notations>\\n          <slur number=\\\"1\\\" type=\\\"start\\\" />\\n        </notations>\\n      </note>\\n      <note>\\n        <pitch>\\n          <step>E</step>\\n          <alter>-1</alter>\\n          <octave>5</octave>\\n        </pitch>\\n        <duration>2520</duration>\\n        <type>16th</type>\\n        <beam number=\\\"1\\\">continue</beam>\\n        <beam number=\\\"2\\\">end</beam>\\n      </note>\\n      <note>\\n        <pitch>\\n          <step>D</step>\\n          <octave>5</octave>\\n        </pitch>\\n        <duration>2520</duration>\\n        <type>16th</type>\\n        <beam number=\\\"1\\\">continue</beam>\\n        <beam number=\\\"2\\\">begin</beam>\\n      </note>\\n      <note>\\n        <pitch>\\n          <step>C</step>\\n          <octave>5</octave>\\n        </pitch>\\n        <duration>2520</duration>\\n        <type>16th</type>\\n        <beam number=\\\"1\\\">end</beam>\\n        <beam number=\\\"2\\\">end</beam>\\n        <notations>\\n          <slur number=\\\"1\\\" type=\\\"stop\\\" />\\n        </notations>\\n      </note>\\n      <note>\\n        <pitch>\\n          <step>B</step>\\n          <alter>-1</alter>\\n          <octave>4</octave>\\n        </pitch>\\n        <duration>5040</duration>\\n        <type>eighth</type>\\n        <beam number=\\\"1\\\">begin</beam>\\n      </note>\\n      <note>\\n        <pitch>\\n          <step>D</step>\\n          <octave>5</octave>\\n        </pitch>\\n        <duration>5040</duration>\\n        <type>eighth</type>\\n        <beam number=\\\"1\\\">end</beam>\\n      </note>\\n    </measure>\\n    <!--========================= Measure 5 ==========================-->\\n    <measure number=\\\"5\\\">\\n      <note>\\n        <pitch>\\n          <step>C</step>\\n          <octave>5</octave>\\n        </pitch>\\n        <duration>2520</duration>\\n        <type>16th</type>\\n        <beam number=\\\"1\\\">begin</beam>\\n        <beam number=\\\"2\\\">begin</beam>\\n        <notations>\\n          <slur number=\\\"2\\\" type=\\\"start\\\" />\\n        </notations>\\n      </note>\\n      <note>\\n        <pitch>\\n          <step>D</step>\\n          <octave>5</octave>\\n        </pitch>\\n        <duration>2520</duration>\\n        <type>16th</type>\\n        <beam number=\\\"1\\\">continue</beam>\\n        <beam number=\\\"2\\\">end</beam>\\n      </note>\\n      <note>\\n        <pitch>\\n          <step>C</step>\\n          <octave>5</octave>\\n        </pitch>\\n        <duration>2520</duration>\\n        <type>16th</type>\\n        <beam number=\\\"1\\\">continue</beam>\\n        <beam number=\\\"2\\\">begin</beam>\\n      </note>\\n      <note>\\n        <pitch>\\n          <step>B</step>\\n          <alter>-1</alter>\\n          <octave>4</octave>\\n        </pitch>\\n        <duration>2520</duration>\\n        <type>16th</type>\\n        <beam number=\\\"1\\\">end</beam>\\n        <beam number=\\\"2\\\">end</beam>\\n        <notations>\\n          <slur number=\\\"2\\\" type=\\\"stop\\\" />\\n        </notations>\\n      </note>\\n      <note>\\n        <pitch>\\n          <step>A</step>\\n          <octave>4</octave>\\n        </pitch>\\n        <duration>2520</duration>\\n        <type>16th</type>\\n        <beam number=\\\"1\\\">begin</beam>\\n        <beam number=\\\"2\\\">begin</beam>\\n        <notations>\\n          <slur number=\\\"3\\\" type=\\\"start\\\" />\\n        </notations>\\n      </note>\\n      <note>\\n        <pitch>\\n          <step>B</step>\\n          <alter>-1</alter>\\n          <octave>4</octave>\\n        </pitch>\\n        <duration>2520</duration>\\n        <type>16th</type>\\n        <beam number=\\\"1\\\">continue</beam>\\n        <beam number=\\\"2\\\">end</beam>\\n      </note>\\n      <note>\\n        <pitch>\\n          <step>A</step>\\n          <octave>4</octave>\\n        </pitch>\\n        <duration>2520</duration>\\n        <type>16th</type>\\n        <beam number=\\\"1\\\">continue</beam>\\n        <beam number=\\\"2\\\">begin</beam>\\n      </note>\\n      <note>\\n        <pitch>\\n          <step>G</step>\\n          <octave>4</octave>\\n        </pitch>\\n        <duration>2520</duration>\\n        <type>16th</type>\\n        <beam number=\\\"1\\\">end</beam>\\n        <beam number=\\\"2\\\">end</beam>\\n        <notations>\\n          <slur number=\\\"3\\\" type=\\\"stop\\\" />\\n        </notations>\\n      </note>\\n    </measure>\\n    <!--========================= Measure 6 ==========================-->\\n    <measure number=\\\"6\\\">\\n      <note>\\n        <pitch>\\n          <step>F</step>\\n          <alter>1</alter>\\n          <octave>4</octave>\\n        </pitch>\\n        <duration>5040</duration>\\n        <type>eighth</type>\\n        <accidental>sharp</accidental>\\n        <beam number=\\\"1\\\">begin</beam>\\n      </note>\\n      <note>\\n        <pitch>\\n          <step>E</step>\\n          <alter>0</alter>\\n          <octave>4</octave>\\n        </pitch>\\n        <duration>5040</duration>\\n        <type>eighth</type>\\n        <accidental>natural</accidental>\\n        <beam number=\\\"1\\\">end</beam>\\n      </note>\\n      <note>\\n        <pitch>\\n          <step>D</step>\\n          <octave>4</octave>\\n        </pitch>\\n        <duration>5040</duration>\\n        <type>eighth</type>\\n        <beam number=\\\"1\\\">begin</beam>\\n      </note>\\n      <note>\\n        <pitch>\\n          <step>D</step>\\n          <octave>5</octave>\\n        </pitch>\\n        <duration>2520</duration>\\n        <type>16th</type>\\n        <beam number=\\\"1\\\">continue</beam>\\n        <beam number=\\\"2\\\">begin</beam>\\n        <notations>\\n          <slur number=\\\"4\\\" type=\\\"start\\\" />\\n        </notations>\\n      </note>\\n      <note>\\n        <pitch>\\n          <step>C</step>\\n          <octave>5</octave>\\n        </pitch>\\n        <duration>2520</duration>\\n        <type>16th</type>\\n        <beam number=\\\"1\\\">end</beam>\\n        <beam number=\\\"2\\\">end</beam>\\n        <notations>\\n          <slur number=\\\"4\\\" type=\\\"stop\\\" />\\n        </notations>\\n      </note>\\n    </measure>\\n    <!--========================= Measure 7 ==========================-->\\n    <measure number=\\\"7\\\">\\n      <note>\\n        <pitch>\\n          <step>B</step>\\n          <alter>-1</alter>\\n          <octave>4</octave>\\n        </pitch>\\n        <duration>5040</duration>\\n        <type>eighth</type>\\n        <beam number=\\\"1\\\">begin</beam>\\n      </note>\\n      <note>\\n        <pitch>\\n          <step>A</step>\\n          <octave>4</octave>\\n        </pitch>\\n        <duration>2520</duration>\\n        <type>16th</type>\\n        <beam number=\\\"1\\\">continue</beam>\\n        <beam number=\\\"2\\\">begin</beam>\\n        <notations>\\n          <slur number=\\\"5\\\" type=\\\"start\\\" />\\n        </notations>\\n      </note>\\n      <note>\\n        <pitch>\\n          <step>G</step>\\n          <octave>4</octave>\\n        </pitch>\\n        <duration>2520</duration>\\n        <type>16th</type>\\n        <beam number=\\\"1\\\">end</beam>\\n        <beam number=\\\"2\\\">end</beam>\\n        <notations>\\n          <slur number=\\\"5\\\" type=\\\"stop\\\" />\\n        </notations>\\n      </note>\\n      <note>\\n        <pitch>\\n          <step>B</step>\\n          <alter>-1</alter>\\n          <octave>4</octave>\\n        </pitch>\\n        <duration>2520</duration>\\n        <type>16th</type>\\n        <beam number=\\\"1\\\">begin</beam>\\n        <beam number=\\\"2\\\">begin</beam>\\n        <notations>\\n          <slur number=\\\"6\\\" type=\\\"start\\\" />\\n        </notations>\\n      </note>\\n      <note>\\n        <pitch>\\n          <step>A</step>\\n          <octave>4</octave>\\n        </pitch>\\n        <duration>2520</duration>\\n        <type>16th</type>\\n        <beam number=\\\"1\\\">continue</beam>\\n        <beam number=\\\"2\\\">end</beam>\\n      </note>\\n      <note>\\n        <pitch>\\n          <step>G</step>\\n          <octave>4</octave>\\n        </pitch>\\n        <duration>2520</duration>\\n        <type>16th</type>\\n        <beam number=\\\"1\\\">continue</beam>\\n        <beam number=\\\"2\\\">begin</beam>\\n      </note>\\n      <note>\\n        <pitch>\\n          <step>F</step>\\n          <alter>1</alter>\\n          <octave>4</octave>\\n        </pitch>\\n        <duration>2520</duration>\\n        <type>16th</type>\\n        <accidental>sharp</accidental>\\n        <beam number=\\\"1\\\">end</beam>\\n        <beam number=\\\"2\\\">end</beam>\\n        <notations>\\n          <slur number=\\\"6\\\" type=\\\"stop\\\" />\\n        </notations>\\n      </note>\\n    </measure>\\n    <!--========================= Measure 8 ==========================-->\\n    <measure number=\\\"8\\\">\\n      <note>\\n        <pitch>\\n          <step>G</step>\\n          <octave>4</octave>\\n        </pitch>\\n        <duration>10080</duration>\\n        <type>quarter</type>\\n      </note>\\n      <note>\\n        <pitch>\\n          <step>G</step>\\n          <octave>4</octave>\\n        </pitch>\\n        <duration>5040</duration>\\n        <type>eighth</type>\\n      </note>\\n      <barline location=\\\"right\\\">\\n        <bar-style>light-light</bar-style>\\n      </barline>\\n    </measure>\\n    <!--========================= Measure 9 ==========================-->\\n    <measure number=\\\"9\\\">\\n      <barline location=\\\"left\\\">\\n        <bar-style>light-light</bar-style>\\n      </barline>\\n      <note>\\n        <pitch>\\n          <step>D</step>\\n          <octave>5</octave>\\n        </pitch>\\n        <duration>5040</duration>\\n        <type>eighth</type>\\n      </note>\\n    </measure>\\n    <!--========================= Measure 10 =========================-->\\n    <measure number=\\\"10\\\">\\n      <note>\\n        <pitch>\\n          <step>G</step>\\n          <octave>5</octave>\\n        </pitch>\\n        <duration>7560</duration>\\n        <type>eighth</type>\\n        <dot />\\n        <beam number=\\\"1\\\">begin</beam>\\n        <notations>\\n          <slur number=\\\"1\\\" type=\\\"start\\\" />\\n        </notations>\\n      </note>\\n      <note>\\n        <pitch>\\n          <step>F</step>\\n          <alter>1</alter>\\n          <octave>5</octave>\\n        </pitch>\\n        <duration>2520</duration>\\n        <type>16th</type>\\n        <accidental>sharp</accidental>\\n        <beam number=\\\"1\\\">continue</beam>\\n        <beam number=\\\"2\\\">forward hook</beam>\\n        <notations>\\n          <slur number=\\\"1\\\" type=\\\"stop\\\" />\\n        </notations>\\n      </note>\\n      <note>\\n        <pitch>\\n          <step>G</step>\\n          <octave>5</octave>\\n        </pitch>\\n        <duration>5040</duration>\\n        <type>eighth</type>\\n        <beam number=\\\"1\\\">continue</beam>\\n        <notations>\\n          <slur number=\\\"2\\\" type=\\\"start\\\" />\\n        </notations>\\n      </note>\\n      <note>\\n        <pitch>\\n          <step>A</step>\\n          <octave>5</octave>\\n        </pitch>\\n        <duration>2520</duration>\\n        <type>16th</type>\\n        <beam number=\\\"1\\\">end</beam>\\n        <beam number=\\\"2\\\">backward hook</beam>\\n        <notations>\\n          <slur number=\\\"2\\\" type=\\\"stop\\\" />\\n        </notations>\\n      </note>\\n    </measure>\\n    <!--========================= Measure 11 =========================-->\\n    <measure number=\\\"11\\\">\\n      <note>\\n        <pitch>\\n          <step>B</step>\\n          <alter>-1</alter>\\n          <octave>5</octave>\\n        </pitch>\\n        <duration>5040</duration>\\n        <type>eighth</type>\\n        <beam number=\\\"1\\\">begin</beam>\\n      </note>\\n      <note>\\n        <pitch>\\n          <step>B</step>\\n          <alter>-1</alter>\\n          <octave>4</octave>\\n        </pitch>\\n        <duration>5040</duration>\\n        <type>eighth</type>\\n        <beam number=\\\"1\\\">end</beam>\\n        <notations>\\n          <slur number=\\\"3\\\" type=\\\"start\\\" />\\n          <articulations>\\n            <staccato />\\n          </articulations>\\n        </notations>\\n      </note>\\n      <note>\\n        <pitch>\\n          <step>B</step>\\n          <alter>-1</alter>\\n          <octave>4</octave>\\n        </pitch>\\n        <duration>5040</duration>\\n        <type>eighth</type>\\n        <beam number=\\\"1\\\">begin</beam>\\n        <notations>\\n          <slur number=\\\"3\\\" type=\\\"stop\\\" />\\n          <articulations>\\n            <staccato />\\n          </articulations>\\n        </notations>\\n      </note>\\n      <note>\\n        <pitch>\\n          <step>B</step>\\n          <alter>-1</alter>\\n          <octave>5</octave>\\n        </pitch>\\n        <duration>5040</duration>\\n        <type>eighth</type>\\n        <beam number=\\\"1\\\">end</beam>\\n      </note>\\n    </measure>\\n    <!--========================= Measure 12 =========================-->\\n    <measure number=\\\"12\\\">\\n      <note>\\n        <pitch>\\n          <step>B</step>\\n          <alter>-1</alter>\\n          <octave>5</octave>\\n        </pitch>\\n        <duration>2520</duration>\\n        <type>16th</type>\\n        <beam number=\\\"1\\\">begin</beam>\\n        <beam number=\\\"2\\\">begin</beam>\\n        <notations>\\n          <slur number=\\\"4\\\" type=\\\"start\\\" />\\n        </notations>\\n      </note>\\n      <note>\\n        <pitch>\\n          <step>A</step>\\n          <octave>5</octave>\\n        </pitch>\\n        <duration>2520</duration>\\n        <type>16th</type>\\n        <beam number=\\\"1\\\">continue</beam>\\n        <beam number=\\\"2\\\">end</beam>\\n      </note>\\n      <note>\\n        <pitch>\\n          <step>G</step>\\n          <octave>5</octave>\\n        </pitch>\\n        <duration>2520</duration>\\n        <type>16th</type>\\n        <beam number=\\\"1\\\">continue</beam>\\n        <beam number=\\\"2\\\">begin</beam>\\n      </note>\\n      <note>\\n        <pitch>\\n          <step>F</step>\\n          <octave>5</octave>\\n        </pitch>\\n        <duration>2520</duration>\\n        <type>16th</type>\\n        <beam number=\\\"1\\\">end</beam>\\n        <beam number=\\\"2\\\">end</beam>\\n        <notations>\\n          <slur number=\\\"4\\\" type=\\\"stop\\\" />\\n        </notations>\\n      </note>\\n      <note>\\n        <pitch>\\n          <step>E</step>\\n          <alter>-1</alter>\\n          <octave>5</octave>\\n        </pitch>\\n        <duration>2520</duration>\\n        <type>16th</type>\\n        <beam number=\\\"1\\\">begin</beam>\\n        <beam number=\\\"2\\\">begin</beam>\\n        <notations>\\n          <slur number=\\\"5\\\" type=\\\"start\\\" />\\n        </notations>\\n      </note>\\n      <note>\\n        <pitch>\\n          <step>D</step>\\n          <octave>5</octave>\\n        </pitch>\\n        <duration>2520</duration>\\n        <type>16th</type>\\n        <beam number=\\\"1\\\">continue</beam>\\n        <beam number=\\\"2\\\">end</beam>\\n      </note>\\n      <note>\\n        <pitch>\\n          <step>C</step>\\n          <octave>5</octave>\\n        </pitch>\\n        <duration>2520</duration>\\n        <type>16th</type>\\n        <beam number=\\\"1\\\">continue</beam>\\n        <beam number=\\\"2\\\">begin</beam>\\n      </note>\\n      <note>\\n        <pitch>\\n          <step>B</step>\\n          <alter>-1</alter>\\n          <octave>4</octave>\\n        </pitch>\\n        <duration>2520</duration>\\n        <type>16th</type>\\n        <beam number=\\\"1\\\">end</beam>\\n        <beam number=\\\"2\\\">end</beam>\\n        <notations>\\n          <slur number=\\\"5\\\" type=\\\"stop\\\" />\\n        </notations>\\n      </note>\\n    </measure>\\n    <!--========================= Measure 13 =========================-->\\n    <measure number=\\\"13\\\">\\n      <note>\\n        <pitch>\\n          <step>A</step>\\n          <octave>4</octave>\\n        </pitch>\\n        <duration>2520</duration>\\n        <type>16th</type>\\n        <beam number=\\\"1\\\">begin</beam>\\n        <beam number=\\\"2\\\">begin</beam>\\n        <notations>\\n          <slur number=\\\"6\\\" type=\\\"start\\\" />\\n        </notations>\\n      </note>\\n      <note>\\n        <pitch>\\n          <step>B</step>\\n          <alter>-1</alter>\\n          <octave>4</octave>\\n        </pitch>\\n        <duration>2520</duration>\\n        <type>16th</type>\\n        <beam number=\\\"1\\\">continue</beam>\\n        <beam number=\\\"2\\\">end</beam>\\n      </note>\\n      <note>\\n        <pitch>\\n          <step>C</step>\\n          <octave>5</octave>\\n        </pitch>\\n        <duration>2520</duration>\\n        <type>16th</type>\\n        <beam number=\\\"1\\\">continue</beam>\\n        <beam number=\\\"2\\\">begin</beam>\\n      </note>\\n      <note>\\n        <pitch>\\n          <step>A</step>\\n          <octave>4</octave>\\n        </pitch>\\n        <duration>2520</duration>\\n        <type>16th</type>\\n        <beam number=\\\"1\\\">end</beam>\\n        <beam number=\\\"2\\\">end</beam>\\n        <notations>\\n          <slur number=\\\"6\\\" type=\\\"stop\\\" />\\n        </notations>\\n      </note>\\n      <note>\\n        <pitch>\\n          <step>F</step>\\n          <octave>4</octave>\\n        </pitch>\\n        <duration>5040</duration>\\n        <type>eighth</type>\\n        <beam number=\\\"1\\\">begin</beam>\\n      </note>\\n      <note>\\n        <pitch>\\n          <step>G</step>\\n          <octave>4</octave>\\n        </pitch>\\n        <duration>2520</duration>\\n        <type>16th</type>\\n        <beam number=\\\"1\\\">continue</beam>\\n        <beam number=\\\"2\\\">begin</beam>\\n        <notations>\\n          <slur number=\\\"1\\\" type=\\\"start\\\" />\\n        </notations>\\n      </note>\\n      <note>\\n        <pitch>\\n          <step>A</step>\\n          <octave>4</octave>\\n        </pitch>\\n        <duration>2520</duration>\\n        <type>16th</type>\\n        <beam number=\\\"1\\\">end</beam>\\n        <beam number=\\\"2\\\">end</beam>\\n        <notations>\\n          <slur number=\\\"1\\\" type=\\\"stop\\\" />\\n        </notations>\\n      </note>\\n    </measure>\\n    <!--========================= Measure 14 =========================-->\\n    <measure number=\\\"14\\\">\\n      <note>\\n        <pitch>\\n          <step>B</step>\\n          <alter>-1</alter>\\n          <octave>4</octave>\\n        </pitch>\\n        <duration>5040</duration>\\n        <type>eighth</type>\\n        <beam number=\\\"1\\\">begin</beam>\\n      </note>\\n      <note>\\n        <pitch>\\n          <step>A</step>\\n          <octave>4</octave>\\n        </pitch>\\n        <duration>2520</duration>\\n        <type>16th</type>\\n        <beam number=\\\"1\\\">continue</beam>\\n        <beam number=\\\"2\\\">begin</beam>\\n        <notations>\\n          <slur number=\\\"2\\\" type=\\\"start\\\" />\\n        </notations>\\n      </note>\\n      <note>\\n        <pitch>\\n          <step>B</step>\\n          <alter>-1</alter>\\n          <octave>4</octave>\\n        </pitch>\\n        <duration>2520</duration>\\n        <type>16th</type>\\n        <beam number=\\\"1\\\">end</beam>\\n        <beam number=\\\"2\\\">end</beam>\\n        <notations>\\n          <slur number=\\\"2\\\" type=\\\"stop\\\" />\\n        </notations>\\n      </note>\\n      <note>\\n        <pitch>\\n          <step>C</step>\\n          <octave>5</octave>\\n        </pitch>\\n        <duration>5040</duration>\\n        <type>eighth</type>\\n        <beam number=\\\"1\\\">begin</beam>\\n      </note>\\n      <note>\\n        <pitch>\\n          <step>B</step>\\n          <alter>-1</alter>\\n          <octave>4</octave>\\n        </pitch>\\n        <duration>2520</duration>\\n        <type>16th</type>\\n        <beam number=\\\"1\\\">continue</beam>\\n        <beam number=\\\"2\\\">begin</beam>\\n        <notations>\\n          <slur number=\\\"3\\\" type=\\\"start\\\" />\\n        </notations>\\n      </note>\\n      <note>\\n        <pitch>\\n          <step>C</step>\\n          <octave>5</octave>\\n        </pitch>\\n        <duration>2520</duration>\\n        <type>16th</type>\\n        <beam number=\\\"1\\\">end</beam>\\n        <beam number=\\\"2\\\">end</beam>\\n        <notations>\\n          <slur number=\\\"3\\\" type=\\\"stop\\\" />\\n        </notations>\\n      </note>\\n    </measure>\\n    <!--========================= Measure 15 =========================-->\\n    <measure number=\\\"15\\\">\\n      <note>\\n        <pitch>\\n          <step>D</step>\\n          <octave>5</octave>\\n        </pitch>\\n        <duration>5040</duration>\\n        <type>eighth</type>\\n        <beam number=\\\"1\\\">begin</beam>\\n      </note>\\n      <note>\\n        <pitch>\\n          <step>D</step>\\n          <octave>5</octave>\\n        </pitch>\\n        <duration>5040</duration>\\n        <type>eighth</type>\\n        <beam number=\\\"1\\\">end</beam>\\n      </note>\\n      <note>\\n        <pitch>\\n          <step>G</step>\\n          <octave>5</octave>\\n        </pitch>\\n        <duration>10080</duration>\\n        <type>quarter</type>\\n      </note>\\n    </measure>\\n    <!--========================= Measure 16 =========================-->\\n    <measure number=\\\"16\\\">\\n      <note>\\n        <pitch>\\n          <step>F</step>\\n          <octave>5</octave>\\n        </pitch>\\n        <duration>10080</duration>\\n        <type>quarter</type>\\n      </note>\\n      <note>\\n        <pitch>\\n          <step>E</step>\\n          <alter>-1</alter>\\n          <octave>5</octave>\\n        </pitch>\\n        <duration>5040</duration>\\n        <type>eighth</type>\\n        <beam number=\\\"1\\\">begin</beam>\\n      </note>\\n      <note>\\n        <pitch>\\n          <step>F</step>\\n          <octave>5</octave>\\n        </pitch>\\n        <duration>2520</duration>\\n        <type>16th</type>\\n        <beam number=\\\"1\\\">continue</beam>\\n        <beam number=\\\"2\\\">begin</beam>\\n        <notations>\\n          <slur number=\\\"4\\\" type=\\\"start\\\" />\\n        </notations>\\n      </note>\\n      <note>\\n        <pitch>\\n          <step>E</step>\\n          <alter>-1</alter>\\n          <octave>5</octave>\\n        </pitch>\\n        <duration>2520</duration>\\n        <type>16th</type>\\n        <beam number=\\\"1\\\">end</beam>\\n        <beam number=\\\"2\\\">end</beam>\\n        <notations>\\n          <slur number=\\\"4\\\" type=\\\"stop\\\" />\\n        </notations>\\n      </note>\\n    </measure>\\n    <!--========================= Measure 17 =========================-->\\n    <measure number=\\\"17\\\">\\n      <note>\\n        <pitch>\\n          <step>D</step>\\n          <octave>5</octave>\\n        </pitch>\\n        <duration>10080</duration>\\n        <type>quarter</type>\\n      </note>\\n      <note>\\n        <pitch>\\n          <step>C</step>\\n          <octave>5</octave>\\n        </pitch>\\n        <duration>5040</duration>\\n        <type>eighth</type>\\n        <beam number=\\\"1\\\">begin</beam>\\n      </note>\\n      <note>\\n        <pitch>\\n          <step>D</step>\\n          <octave>5</octave>\\n        </pitch>\\n        <duration>2520</duration>\\n        <type>16th</type>\\n        <beam number=\\\"1\\\">continue</beam>\\n        <beam number=\\\"2\\\">begin</beam>\\n        <notations>\\n          <slur number=\\\"5\\\" type=\\\"start\\\" />\\n        </notations>\\n      </note>\\n      <note>\\n        <pitch>\\n          <step>C</step>\\n          <octave>5</octave>\\n        </pitch>\\n        <duration>2520</duration>\\n        <type>16th</type>\\n        <beam number=\\\"1\\\">end</beam>\\n        <beam number=\\\"2\\\">end</beam>\\n        <notations>\\n          <slur number=\\\"5\\\" type=\\\"stop\\\" />\\n        </notations>\\n      </note>\\n    </measure>\\n    <!--========================= Measure 18 =========================-->\\n    <measure number=\\\"18\\\">\\n      <note>\\n        <pitch>\\n          <step>C</step>\\n          <octave>5</octave>\\n        </pitch>\\n        <duration>2520</duration>\\n        <type>16th</type>\\n        <beam number=\\\"1\\\">begin</beam>\\n        <beam number=\\\"2\\\">begin</beam>\\n        <notations>\\n          <slur number=\\\"6\\\" type=\\\"start\\\" />\\n        </notations>\\n      </note>\\n      <note>\\n        <pitch>\\n          <step>B</step>\\n          <alter>-1</alter>\\n          <octave>4</octave>\\n        </pitch>\\n        <duration>2520</duration>\\n        <type>16th</type>\\n        <beam number=\\\"1\\\">continue</beam>\\n        <beam number=\\\"2\\\">end</beam>\\n        <notations>\\n          <slur number=\\\"6\\\" type=\\\"stop\\\" />\\n        </notations>\\n      </note>\\n      <note>\\n        <pitch>\\n          <step>B</step>\\n          <alter>-1</alter>\\n          <octave>4</octave>\\n        </pitch>\\n        <duration>2520</duration>\\n        <type>16th</type>\\n        <beam number=\\\"1\\\">continue</beam>\\n        <beam number=\\\"2\\\">begin</beam>\\n        <notations>\\n          <slur number=\\\"1\\\" type=\\\"start\\\" />\\n        </notations>\\n      </note>\\n      <note>\\n        <pitch>\\n          <step>A</step>\\n          <octave>4</octave>\\n        </pitch>\\n        <duration>2520</duration>\\n        <type>16th</type>\\n        <beam number=\\\"1\\\">end</beam>\\n        <beam number=\\\"2\\\">end</beam>\\n        <notations>\\n          <slur number=\\\"1\\\" type=\\\"stop\\\" />\\n        </notations>\\n      </note>\\n      <note>\\n        <pitch>\\n          <step>G</step>\\n          <octave>4</octave>\\n        </pitch>\\n        <duration>2520</duration>\\n        <type>16th</type>\\n        <beam number=\\\"1\\\">begin</beam>\\n        <beam number=\\\"2\\\">begin</beam>\\n        <notations>\\n          <slur number=\\\"2\\\" type=\\\"start\\\" />\\n        </notations>\\n      </note>\\n      <note>\\n        <pitch>\\n          <step>B</step>\\n          <alter>-1</alter>\\n          <octave>4</octave>\\n        </pitch>\\n        <duration>2520</duration>\\n        <type>16th</type>\\n        <beam number=\\\"1\\\">continue</beam>\\n        <beam number=\\\"2\\\">end</beam>\\n        <notations>\\n          <slur number=\\\"2\\\" type=\\\"stop\\\" />\\n        </notations>\\n      </note>\\n      <note>\\n        <pitch>\\n          <step>A</step>\\n          <octave>4</octave>\\n        </pitch>\\n        <duration>2520</duration>\\n        <type>16th</type>\\n        <beam number=\\\"1\\\">continue</beam>\\n        <beam number=\\\"2\\\">begin</beam>\\n        <notations>\\n          <slur number=\\\"3\\\" type=\\\"start\\\" />\\n        </notations>\\n      </note>\\n      <note>\\n        <pitch>\\n          <step>G</step>\\n          <octave>4</octave>\\n        </pitch>\\n        <duration>2520</duration>\\n        <type>16th</type>\\n        <beam number=\\\"1\\\">end</beam>\\n        <beam number=\\\"2\\\">end</beam>\\n        <notations>\\n          <slur number=\\\"3\\\" type=\\\"stop\\\" />\\n        </notations>\\n      </note>\\n    </measure>\\n    <!--========================= Measure 19 =========================-->\\n    <measure number=\\\"19\\\">\\n      <note>\\n        <pitch>\\n          <step>F</step>\\n          <alter>1</alter>\\n          <octave>4</octave>\\n        </pitch>\\n        <duration>2520</duration>\\n        <type>16th</type>\\n        <accidental>sharp</accidental>\\n        <beam number=\\\"1\\\">begin</beam>\\n        <beam number=\\\"2\\\">begin</beam>\\n        <notations>\\n          <slur number=\\\"4\\\" type=\\\"start\\\" />\\n        </notations>\\n      </note>\\n      <note>\\n        <pitch>\\n          <step>G</step>\\n          <octave>4</octave>\\n        </pitch>\\n        <duration>2520</duration>\\n        <type>16th</type>\\n        <beam number=\\\"1\\\">continue</beam>\\n        <beam number=\\\"2\\\">end</beam>\\n      </note>\\n      <note>\\n        <pitch>\\n          <step>F</step>\\n          <octave>4</octave>\\n        </pitch>\\n        <duration>2520</duration>\\n        <type>16th</type>\\n        <beam number=\\\"1\\\">continue</beam>\\n        <beam number=\\\"2\\\">begin</beam>\\n      </note>\\n      <note>\\n        <pitch>\\n          <step>E</step>\\n          <alter>0</alter>\\n          <octave>4</octave>\\n        </pitch>\\n        <duration>2520</duration>\\n        <type>16th</type>\\n        <accidental>natural</accidental>\\n        <beam number=\\\"1\\\">end</beam>\\n        <beam number=\\\"2\\\">end</beam>\\n        <notations>\\n          <slur number=\\\"4\\\" type=\\\"stop\\\" />\\n        </notations>\\n      </note>\\n      <note>\\n        <pitch>\\n          <step>D</step>\\n          <octave>4</octave>\\n        </pitch>\\n        <duration>5040</duration>\\n        <type>eighth</type>\\n        <beam number=\\\"1\\\">begin</beam>\\n      </note>\\n      <note>\\n        <pitch>\\n          <step>D</step>\\n          <octave>5</octave>\\n        </pitch>\\n        <duration>2520</duration>\\n        <type>16th</type>\\n        <beam number=\\\"1\\\">continue</beam>\\n        <beam number=\\\"2\\\">begin</beam>\\n        <notations>\\n          <slur number=\\\"5\\\" type=\\\"start\\\" />\\n        </notations>\\n      </note>\\n      <note>\\n        <pitch>\\n          <step>C</step>\\n          <octave>5</octave>\\n        </pitch>\\n        <duration>2520</duration>\\n        <type>16th</type>\\n        <beam number=\\\"1\\\">end</beam>\\n        <beam number=\\\"2\\\">end</beam>\\n        <notations>\\n          <slur number=\\\"5\\\" type=\\\"stop\\\" />\\n        </notations>\\n      </note>\\n    </measure>\\n    <!--========================= Measure 20 =========================-->\\n    <measure number=\\\"20\\\">\\n      <note>\\n        <pitch>\\n          <step>B</step>\\n          <alter>-1</alter>\\n          <octave>4</octave>\\n        </pitch>\\n        <duration>5040</duration>\\n        <type>eighth</type>\\n        <beam number=\\\"1\\\">begin</beam>\\n      </note>\\n      <note>\\n        <pitch>\\n          <step>A</step>\\n          <octave>4</octave>\\n        </pitch>\\n        <duration>2520</duration>\\n        <type>16th</type>\\n        <beam number=\\\"1\\\">continue</beam>\\n        <beam number=\\\"2\\\">begin</beam>\\n        <notations>\\n          <slur number=\\\"6\\\" type=\\\"start\\\" />\\n        </notations>\\n      </note>\\n      <note>\\n        <pitch>\\n          <step>G</step>\\n          <octave>4</octave>\\n        </pitch>\\n        <duration>2520</duration>\\n        <type>16th</type>\\n        <beam number=\\\"1\\\">end</beam>\\n        <beam number=\\\"2\\\">end</beam>\\n        <notations>\\n          <slur number=\\\"6\\\" type=\\\"stop\\\" />\\n        </notations>\\n      </note>\\n      <note>\\n        <pitch>\\n          <step>B</step>\\n          <alter>-1</alter>\\n          <octave>4</octave>\\n        </pitch>\\n        <duration>2520</duration>\\n        <type>16th</type>\\n        <beam number=\\\"1\\\">begin</beam>\\n        <beam number=\\\"2\\\">begin</beam>\\n        <notations>\\n          <slur number=\\\"1\\\" type=\\\"start\\\" />\\n        </notations>\\n      </note>\\n      <note>\\n        <pitch>\\n          <step>A</step>\\n          <octave>4</octave>\\n        </pitch>\\n        <duration>2520</duration>\\n        <type>16th</type>\\n        <beam number=\\\"1\\\">continue</beam>\\n        <beam number=\\\"2\\\">end</beam>\\n      </note>\\n      <note>\\n        <pitch>\\n          <step>G</step>\\n          <octave>4</octave>\\n        </pitch>\\n        <duration>2520</duration>\\n        <type>16th</type>\\n        <beam number=\\\"1\\\">continue</beam>\\n        <beam number=\\\"2\\\">begin</beam>\\n      </note>\\n      <note>\\n        <pitch>\\n          <step>F</step>\\n          <alter>1</alter>\\n          <octave>4</octave>\\n        </pitch>\\n        <duration>2520</duration>\\n        <type>16th</type>\\n        <accidental>sharp</accidental>\\n        <beam number=\\\"1\\\">end</beam>\\n        <beam number=\\\"2\\\">end</beam>\\n        <notations>\\n          <slur number=\\\"1\\\" type=\\\"stop\\\" />\\n        </notations>\\n      </note>\\n    </measure>\\n    <!--========================= Measure 21 =========================-->\\n    <measure number=\\\"21\\\">\\n      <note>\\n        <pitch>\\n          <step>G</step>\\n          <octave>4</octave>\\n        </pitch>\\n        <duration>10080</duration>\\n        <type>quarter</type>\\n      </note>\\n      <note>\\n        <pitch>\\n          <step>G</step>\\n          <octave>4</octave>\\n        </pitch>\\n        <duration>5040</duration>\\n        <type>eighth</type>\\n      </note>\\n      <barline location=\\\"right\\\">\\n        <bar-style>light-heavy</bar-style>\\n      </barline>\\n    </measure>\\n  </part>\\n</score-partwise>\\n\")\n",
       "            .then(\n",
       "              function() {\n",
       "                console.log(\"rendering data\")\n",
       "                openSheetMusicDisplay.render();\n",
       "              }\n",
       "            );\n",
       "    })\n",
       "    "
      ],
      "text/plain": [
       "<IPython.core.display.Javascript object>"
      ]
     },
     "metadata": {},
     "output_type": "display_data"
    }
   ],
   "source": [
    "#We can now parse the score and start to work with it\n",
    "showScore(c[0].parse())"
   ]
  },
  {
   "cell_type": "code",
   "execution_count": 93,
   "metadata": {},
   "outputs": [
    {
     "data": {
      "text/html": [
       "\n",
       "                <div id='midiPlayerDiv35450'></div>\n",
       "                <link rel=\"stylesheet\" href=\"//cuthbertLab.github.io/music21j/css/m21.css\"\n",
       "                    type=\"text/css\" />\n",
       "                <script>\n",
       "                require.config({\n",
       "                    paths: {'music21': '//cuthbertLab.github.io/music21j/src/music21'}\n",
       "                });\n",
       "                require(['music21'], function() {\n",
       "                               mp = new music21.miditools.MidiPlayer();\n",
       "                               mp.addPlayer('#midiPlayerDiv35450');\n",
       "                               mp.base64Load('data:audio/midi;base64,TVRoZAAAAAYAAQABBABNVHJrAAAD8AD/AwAA4ABAAP9ZAv4BAP9YBAICGAgAkEpaggCASgAAkEhaggCASAAAkEZahACARgAAkEVahACARQAAkENahACAQwAAkEpaggCASgAAkEhaggCASAAAkEZahACARgAAkEVahACARQAAkENahACAQwAAkEpahACASgAAkEtahACASwAAkEpahACASgAAkEhahACASAAAkE1aggCATQAAkEtaggCASwAAkEpaggCASgAAkEtaggCASwAAkEpaggCASgAAkEhaggCASAAAkEZahACARgAAkEpahACASgAAkEhaggCASAAAkEpaggCASgAAkEhaggCASAAAkEZaggCARgAAkEVaggCARQAAkEZaggCARgAAkEVaggCARQAAkENaggCAQwAAkEJahACAQgAAkEBahACAQAAAkD5ahACAPgAAkEpaggCASgAAkEhaggCASAAAkEZahACARgAAkEVaggCARQAAkENaggCAQwAAkEZaggCARgAAkEVaggCARQAAkENaggCAQwAAkEJaggCAQgAAkENaiACAQwAAkENahACAQwAAkEpahACASgAAkE9ahgCATwAAkE5aggCATgAAkE9ahACATwAAkFFaggCAUQAAkFJahACAUgAAkEZghACARgAAkEZghACARgAAkFJahACAUgAAkFJaggCAUgAAkFFaggCAUQAAkE9aggCATwAAkE1aggCATQAAkEtaggCASwAAkEpaggCASgAAkEhaggCASAAAkEZaggCARgAAkEVaggCARQAAkEZaggCARgAAkEhaggCASAAAkEVaggCARQAAkEFahACAQQAAkENaggCAQwAAkEVaggCARQAAkEZahACARgAAkEVaggCARQAAkEZaggCARgAAkEhahACASAAAkEZaggCARgAAkEhaggCASAAAkEpahACASgAAkEpahACASgAAkE9aiACATwAAkE1aiACATQAAkEtahACASwAAkE1aggCATQAAkEtaggCASwAAkEpaiACASgAAkEhahACASAAAkEpaggCASgAAkEhaggCASAAAkEhaggCASAAAkEZaggCARgAAkEZaggCARgAAkEVaggCARQAAkENaggCAQwAAkEZaggCARgAAkEVaggCARQAAkENaggCAQwAAkEJaggCAQgAAkENaggCAQwAAkEFaggCAQQAAkEBaggCAQAAAkD5ahACAPgAAkEpaggCASgAAkEhaggCASAAAkEZahACARgAAkEVaggCARQAAkENaggCAQwAAkEZaggCARgAAkEVaggCARQAAkENaggCAQwAAkEJaggCAQgAAkENaiACAQwAAkENahACAQwCIAP8vAA==');\n",
       "                        });\n",
       "                </script>"
      ],
      "text/plain": [
       "<IPython.core.display.HTML object>"
      ]
     },
     "metadata": {},
     "output_type": "display_data"
    }
   ],
   "source": [
    "c[0].show('midi')"
   ]
  },
  {
   "cell_type": "markdown",
   "metadata": {},
   "source": [
    "When discussing a particular piece, we may want to focus on particular parts of it. We can reference into particular measures and just focus on those. For example:"
   ]
  },
  {
   "cell_type": "code",
   "execution_count": 105,
   "metadata": {},
   "outputs": [
    {
     "data": {
      "text/html": [
       "<div id=\"OSMD-div-886932\"></div>"
      ],
      "text/plain": [
       "<IPython.core.display.HTML object>"
      ]
     },
     "metadata": {},
     "output_type": "display_data"
    },
    {
     "data": {
      "application/javascript": [
       "\n",
       "    console.log(\"loadOSMD()\");\n",
       "    function loadOSMD() { \n",
       "        return new Promise(function(resolve, reject){\n",
       "\n",
       "            if (window.opensheetmusicdisplay) {\n",
       "                console.log(\"already loaded\")\n",
       "                return resolve(window.opensheetmusicdisplay)\n",
       "            }\n",
       "            console.log(\"loading osmd for the first time\")\n",
       "            // OSMD script has a 'define' call which conflicts with requirejs\n",
       "            var _define = window.define // save the define object \n",
       "            window.define = undefined // now the loaded script will ignore requirejs\n",
       "            var s = document.createElement( 'script' );\n",
       "            s.setAttribute( 'src', \"https://cdn.jsdelivr.net/npm/opensheetmusicdisplay@0.3.1/build/opensheetmusicdisplay.min.js\" );\n",
       "            //s.setAttribute( 'src', \"/custom/opensheetmusicdisplay.js\" );\n",
       "            s.onload=function(){\n",
       "                window.define = _define\n",
       "                console.log(\"loaded OSMD for the first time\",opensheetmusicdisplay)\n",
       "                resolve(opensheetmusicdisplay);\n",
       "            };\n",
       "            document.body.appendChild( s ); // browser will try to load the new script tag\n",
       "        }) \n",
       "    }\n",
       "    loadOSMD().then((OSMD)=>{\n",
       "        console.log(\"loaded OSMD\",OSMD)\n",
       "        var div_id = \"OSMD-div-886932\";\n",
       "            console.log(div_id)\n",
       "        window.openSheetMusicDisplay = new OSMD.OpenSheetMusicDisplay(div_id);\n",
       "        openSheetMusicDisplay\n",
       "            .load(\"<?xml version=\\\"1.0\\\" encoding=\\\"utf-8\\\"?>\\n<!DOCTYPE score-partwise  PUBLIC \\\"-//Recordare//DTD MusicXML 3.0 Partwise//EN\\\" \\\"http://www.musicxml.org/dtds/partwise.dtd\\\">\\n<score-partwise version=\\\"3.0\\\">\\n  <work>\\n    <work-title>Princess Royal</work-title>\\n  </work>\\n  <movement-title>Princess Royal</movement-title>\\n  <identification>\\n    <creator type=\\\"composer\\\">O'Carolan</creator>\\n    <encoding>\\n      <encoding-date>2018-08-30</encoding-date>\\n      <software>music21 v.5.3.0</software>\\n    </encoding>\\n    <miscellaneous>\\n      <miscellaneous-field name=\\\"number\\\">641</miscellaneous-field>\\n    </miscellaneous>\\n  </identification>\\n  <defaults>\\n    <scaling>\\n      <millimeters>7</millimeters>\\n      <tenths>40</tenths>\\n    </scaling>\\n  </defaults>\\n  <part-list>\\n    <score-part id=\\\"Pa65051265497a453803e136f5a5fa81e\\\">\\n      <part-name />\\n    </score-part>\\n  </part-list>\\n  <!--=========================== Part 1 ===========================-->\\n  <part id=\\\"Pa65051265497a453803e136f5a5fa81e\\\">\\n    <!--========================= Measure 0 ==========================-->\\n    <measure number=\\\"0\\\">\\n      <attributes>\\n        <divisions>10080</divisions>\\n        <key>\\n          <fifths>-2</fifths>\\n          <mode>minor</mode>\\n        </key>\\n        <time>\\n          <beats>2</beats>\\n          <beat-type>4</beat-type>\\n        </time>\\n        <clef>\\n          <sign>G</sign>\\n          <line>2</line>\\n        </clef>\\n      </attributes>\\n      <note>\\n        <pitch>\\n          <step>D</step>\\n          <octave>5</octave>\\n        </pitch>\\n        <duration>2520</duration>\\n        <type>16th</type>\\n        <beam number=\\\"1\\\">begin</beam>\\n        <beam number=\\\"2\\\">begin</beam>\\n      </note>\\n      <note>\\n        <pitch>\\n          <step>C</step>\\n          <octave>5</octave>\\n        </pitch>\\n        <duration>2520</duration>\\n        <type>16th</type>\\n        <beam number=\\\"1\\\">end</beam>\\n        <beam number=\\\"2\\\">end</beam>\\n      </note>\\n    </measure>\\n    <!--========================= Measure 1 ==========================-->\\n    <measure number=\\\"1\\\">\\n      <note>\\n        <pitch>\\n          <step>B</step>\\n          <alter>-1</alter>\\n          <octave>4</octave>\\n        </pitch>\\n        <duration>5040</duration>\\n        <type>eighth</type>\\n        <beam number=\\\"1\\\">begin</beam>\\n        <notations>\\n          <slur number=\\\"1\\\" type=\\\"start\\\" />\\n        </notations>\\n      </note>\\n      <note>\\n        <pitch>\\n          <step>A</step>\\n          <octave>4</octave>\\n        </pitch>\\n        <duration>5040</duration>\\n        <type>eighth</type>\\n        <beam number=\\\"1\\\">end</beam>\\n        <notations>\\n          <slur number=\\\"1\\\" type=\\\"stop\\\" />\\n        </notations>\\n      </note>\\n      <note>\\n        <pitch>\\n          <step>G</step>\\n          <octave>4</octave>\\n        </pitch>\\n        <duration>5040</duration>\\n        <type>eighth</type>\\n        <beam number=\\\"1\\\">begin</beam>\\n      </note>\\n      <note>\\n        <pitch>\\n          <step>D</step>\\n          <octave>5</octave>\\n        </pitch>\\n        <duration>2520</duration>\\n        <type>16th</type>\\n        <beam number=\\\"1\\\">continue</beam>\\n        <beam number=\\\"2\\\">begin</beam>\\n        <notations>\\n          <slur number=\\\"2\\\" type=\\\"start\\\" />\\n        </notations>\\n      </note>\\n      <note>\\n        <pitch>\\n          <step>C</step>\\n          <octave>5</octave>\\n        </pitch>\\n        <duration>2520</duration>\\n        <type>16th</type>\\n        <beam number=\\\"1\\\">end</beam>\\n        <beam number=\\\"2\\\">end</beam>\\n        <notations>\\n          <slur number=\\\"2\\\" type=\\\"stop\\\" />\\n        </notations>\\n      </note>\\n    </measure>\\n    <!--========================= Measure 2 ==========================-->\\n    <measure number=\\\"2\\\">\\n      <note>\\n        <pitch>\\n          <step>B</step>\\n          <alter>-1</alter>\\n          <octave>4</octave>\\n        </pitch>\\n        <duration>5040</duration>\\n        <type>eighth</type>\\n        <beam number=\\\"1\\\">begin</beam>\\n        <notations>\\n          <slur number=\\\"3\\\" type=\\\"start\\\" />\\n        </notations>\\n      </note>\\n      <note>\\n        <pitch>\\n          <step>A</step>\\n          <octave>4</octave>\\n        </pitch>\\n        <duration>5040</duration>\\n        <type>eighth</type>\\n        <beam number=\\\"1\\\">end</beam>\\n        <notations>\\n          <slur number=\\\"3\\\" type=\\\"stop\\\" />\\n        </notations>\\n      </note>\\n      <note>\\n        <pitch>\\n          <step>G</step>\\n          <octave>4</octave>\\n        </pitch>\\n        <duration>5040</duration>\\n        <type>eighth</type>\\n        <beam number=\\\"1\\\">begin</beam>\\n        <notations>\\n          <slur number=\\\"4\\\" type=\\\"start\\\" />\\n        </notations>\\n      </note>\\n      <note>\\n        <pitch>\\n          <step>D</step>\\n          <octave>5</octave>\\n        </pitch>\\n        <duration>5040</duration>\\n        <type>eighth</type>\\n        <beam number=\\\"1\\\">end</beam>\\n        <notations>\\n          <slur number=\\\"4\\\" type=\\\"stop\\\" />\\n        </notations>\\n      </note>\\n    </measure>\\n    <!--========================= Measure 3 ==========================-->\\n    <measure number=\\\"3\\\">\\n      <note>\\n        <pitch>\\n          <step>E</step>\\n          <alter>-1</alter>\\n          <octave>5</octave>\\n        </pitch>\\n        <duration>5040</duration>\\n        <type>eighth</type>\\n        <beam number=\\\"1\\\">begin</beam>\\n        <notations>\\n          <slur number=\\\"5\\\" type=\\\"start\\\" />\\n        </notations>\\n      </note>\\n      <note>\\n        <pitch>\\n          <step>D</step>\\n          <octave>5</octave>\\n        </pitch>\\n        <duration>5040</duration>\\n        <type>eighth</type>\\n        <beam number=\\\"1\\\">end</beam>\\n        <notations>\\n          <slur number=\\\"5\\\" type=\\\"stop\\\" />\\n        </notations>\\n      </note>\\n      <note>\\n        <pitch>\\n          <step>C</step>\\n          <octave>5</octave>\\n        </pitch>\\n        <duration>5040</duration>\\n        <type>eighth</type>\\n        <beam number=\\\"1\\\">begin</beam>\\n      </note>\\n      <note>\\n        <pitch>\\n          <step>F</step>\\n          <octave>5</octave>\\n        </pitch>\\n        <duration>2520</duration>\\n        <type>16th</type>\\n        <beam number=\\\"1\\\">continue</beam>\\n        <beam number=\\\"2\\\">begin</beam>\\n        <notations>\\n          <slur number=\\\"6\\\" type=\\\"start\\\" />\\n        </notations>\\n      </note>\\n      <note>\\n        <pitch>\\n          <step>E</step>\\n          <alter>-1</alter>\\n          <octave>5</octave>\\n        </pitch>\\n        <duration>2520</duration>\\n        <type>16th</type>\\n        <beam number=\\\"1\\\">end</beam>\\n        <beam number=\\\"2\\\">end</beam>\\n        <notations>\\n          <slur number=\\\"6\\\" type=\\\"stop\\\" />\\n        </notations>\\n      </note>\\n    </measure>\\n    <!--========================= Measure 4 ==========================-->\\n    <measure number=\\\"4\\\">\\n      <note>\\n        <pitch>\\n          <step>D</step>\\n          <octave>5</octave>\\n        </pitch>\\n        <duration>2520</duration>\\n        <type>16th</type>\\n        <beam number=\\\"1\\\">begin</beam>\\n        <beam number=\\\"2\\\">begin</beam>\\n        <notations>\\n          <slur number=\\\"1\\\" type=\\\"start\\\" />\\n        </notations>\\n      </note>\\n      <note>\\n        <pitch>\\n          <step>E</step>\\n          <alter>-1</alter>\\n          <octave>5</octave>\\n        </pitch>\\n        <duration>2520</duration>\\n        <type>16th</type>\\n        <beam number=\\\"1\\\">continue</beam>\\n        <beam number=\\\"2\\\">end</beam>\\n      </note>\\n      <note>\\n        <pitch>\\n          <step>D</step>\\n          <octave>5</octave>\\n        </pitch>\\n        <duration>2520</duration>\\n        <type>16th</type>\\n        <beam number=\\\"1\\\">continue</beam>\\n        <beam number=\\\"2\\\">begin</beam>\\n      </note>\\n      <note>\\n        <pitch>\\n          <step>C</step>\\n          <octave>5</octave>\\n        </pitch>\\n        <duration>2520</duration>\\n        <type>16th</type>\\n        <beam number=\\\"1\\\">end</beam>\\n        <beam number=\\\"2\\\">end</beam>\\n        <notations>\\n          <slur number=\\\"1\\\" type=\\\"stop\\\" />\\n        </notations>\\n      </note>\\n      <note>\\n        <pitch>\\n          <step>B</step>\\n          <alter>-1</alter>\\n          <octave>4</octave>\\n        </pitch>\\n        <duration>5040</duration>\\n        <type>eighth</type>\\n        <beam number=\\\"1\\\">begin</beam>\\n      </note>\\n      <note>\\n        <pitch>\\n          <step>D</step>\\n          <octave>5</octave>\\n        </pitch>\\n        <duration>5040</duration>\\n        <type>eighth</type>\\n        <beam number=\\\"1\\\">end</beam>\\n      </note>\\n    </measure>\\n  </part>\\n</score-partwise>\\n\")\n",
       "            .then(\n",
       "              function() {\n",
       "                console.log(\"rendering data\")\n",
       "                openSheetMusicDisplay.render();\n",
       "              }\n",
       "            );\n",
       "    })\n",
       "    "
      ],
      "text/plain": [
       "<IPython.core.display.Javascript object>"
      ]
     },
     "metadata": {},
     "output_type": "display_data"
    }
   ],
   "source": [
    "showScore(c[0].parse().measures(0,4))"
   ]
  },
  {
   "cell_type": "code",
   "execution_count": 102,
   "metadata": {},
   "outputs": [
    {
     "data": {
      "image/png": "[encoded data removed]",
      "text/plain": [
       "<matplotlib.figure.Figure at 0x7f4c0e328278>"
      ]
     },
     "metadata": {
      "image/png": {
       "height": 382,
       "width": 586
      }
     },
     "output_type": "display_data"
    }
   ],
   "source": [
    "c[0].parse().measures(0,4).plot()"
   ]
  },
  {
   "cell_type": "markdown",
   "metadata": {},
   "source": [
    "It's easy enough to just listen to particular measures:"
   ]
  },
  {
   "cell_type": "code",
   "execution_count": 104,
   "metadata": {},
   "outputs": [
    {
     "data": {
      "text/html": [
       "\n",
       "                <div id='midiPlayerDiv41756'></div>\n",
       "                <link rel=\"stylesheet\" href=\"//cuthbertLab.github.io/music21j/css/m21.css\"\n",
       "                    type=\"text/css\" />\n",
       "                <script>\n",
       "                require.config({\n",
       "                    paths: {'music21': '//cuthbertLab.github.io/music21j/src/music21'}\n",
       "                });\n",
       "                require(['music21'], function() {\n",
       "                               mp = new music21.miditools.MidiPlayer();\n",
       "                               mp.addPlayer('#midiPlayerDiv41756');\n",
       "                               mp.base64Load('data:audio/midi;base64,TVRoZAAAAAYAAQABBABNVHJrAAAAfgD/AwAA4ABAAP9ZAv4BAP9YBAICGAgAkEpaggCASgAAkEhaggCASAAAkEZahACARgAAkEVahACARQAAkENahACAQwAAkEpaggCASgAAkEhaggCASAAAkEZahACARgAAkEVahACARQAAkENahACAQwAAkEpahACASgCIAP8vAA==');\n",
       "                        });\n",
       "                </script>"
      ],
      "text/plain": [
       "<IPython.core.display.HTML object>"
      ]
     },
     "metadata": {},
     "output_type": "display_data"
    }
   ],
   "source": [
    "c[0].parse().measures(0,2).show('midi')"
   ]
  },
  {
   "cell_type": "markdown",
   "metadata": {},
   "source": [
    "## lilypond\n",
    "\n",
    "`Lilypond` is a pwerful framework for creating sheet music. See http://lilybin.com/ for a handy online editor."
   ]
  },
  {
   "cell_type": "code",
   "execution_count": null,
   "metadata": {},
   "outputs": [],
   "source": [
    "%%capture\n",
    "\n",
    "import os\n",
    "cwd = os.getcwd()\n",
    "\n",
    "if cwd == '/home/nbuser/library':\n",
    "    #Azure notebook maybe?\n",
    "    #Install lilypond - used to render notation\n",
    "    ! wget http://lilypond.org/download/binaries/linux-64/lilypond-2.18.2-1.linux-64.sh\n",
    "    #then for forced (no prompts) install:\n",
    "    !sh lilypond-2.18.2-1.linux-64.sh --batch\n",
    "    #\n",
    "    #Making /home/nbuser/lilypond\n",
    "    #Making /home/nbuser/bin\n",
    "    #Creating script /home/nbuser/bin/lilypond\n",
    "    #Creating script /home/nbuser/bin/lilypond-wrapper.python\n",
    "    #Creating script /home/nbuser/bin/lilypond-wrapper.guile\n",
    "    #Creating script /home/nbuser/bin/uninstall-lilypond\n",
    "    #To uninstall lilypond, run\n",
    "    # !    /home/nbuser/bin/uninstall-lilypond\n",
    "    LILYPOND_PATH = '/home/nbuser/bin/lilypond'"
   ]
  },
  {
   "cell_type": "code",
   "execution_count": null,
   "metadata": {},
   "outputs": [],
   "source": [
    "import os\n",
    "from IPython.display import Image\n",
    "\n",
    "def lp(score):\n",
    "    score='''\\version \"2.18.2\"\n",
    "    \\header {{ \n",
    "    tagline = \"\"  % removed \n",
    "    }} {}'''.format(score)\n",
    "    with open(\"test.ly\", \"w\") as out_file:\n",
    "        out_file.write(score)\n",
    "    os.system( \"{} -dbackend=eps -dno-gs-load-fonts -dinclude-eps-fonts --png test.ly\".format(LILYPOND_PATH) )\n",
    "    return Image(filename='test.png')"
   ]
  },
  {
   "cell_type": "code",
   "execution_count": null,
   "metadata": {},
   "outputs": [],
   "source": [
    "empty=r'''\n",
    "#(set-global-staff-size 20)\n",
    "\n",
    "\\score {\n",
    "  {\n",
    "    \\repeat unfold 2 { s1 \\break }\n",
    "  }\n",
    "  \\layout {\n",
    "    indent = 0\\in\n",
    "    \\context {\n",
    "      \\Staff\n",
    "      \\remove \"Time_signature_engraver\"\n",
    "      \\remove \"Clef_engraver\"\n",
    "      \\remove \"Bar_engraver\"\n",
    "    }\n",
    "    \\context {\n",
    "      \\Score\n",
    "      \\remove \"Bar_number_engraver\"\n",
    "    }\n",
    "  }\n",
    "}\n",
    "\n",
    "'''\n",
    "\n",
    "try:\n",
    "    lp(empty)\n",
    "except:\n",
    "    pass"
   ]
  },
  {
   "cell_type": "code",
   "execution_count": null,
   "metadata": {},
   "outputs": [],
   "source": [
    "#Some handy layout hints here: http://lilypond.org/doc/v2.19/Documentation/snippets/paper-and-layout"
   ]
  },
  {
   "cell_type": "markdown",
   "metadata": {},
   "source": [
    "#### Using `lilypond` with `music21`\n",
    "\n",
    "A wide range of examples can be picked up from the [MusicXML test suite](http://web.mit.edu/music21/doc/developerReference/musicxmlTest.html)."
   ]
  },
  {
   "cell_type": "code",
   "execution_count": null,
   "metadata": {},
   "outputs": [],
   "source": [
    "#The setting of environment variables and the display of notation is borked on Linux\n",
    "#Use crappy workarounds for now - or perhaps try a conda install?\n",
    "\n",
    "\n",
    "from music21 import *\n",
    "\n",
    "\n",
    "import os\n",
    "cwd = os.getcwd()\n",
    "\n",
    "#Hacky test\n",
    "if cwd == \"/home/jovyan\":\n",
    "    #Binderhub maybe?\n",
    "    environment.UserSettings()['lilypondPath']='/usr/bin/lilypond'\n",
    "    environment.set('pdfPath', '/usr/bin/musescore')\n",
    "    environment.set('graphicsPath', '/usr/bin/musescore')\n",
    "    environment.set(\"musescoreDirectPNGPath\", \"/usr/bin/musescore\")\n",
    "    environment.set(\"musicxmlPath\", \"/usr/bin/musescore\")   \n",
    "elif cwd == '/home/nbuser/library':\n",
    "    #Azure notebook maybe?\n",
    "    environment.UserSettings()['lilypondPath']= LILYPOND_PATH\n",
    "    \n",
    "%load_ext music21.ipython21\n",
    "\n",
    "from IPython.display import Image\n",
    "\n",
    "def render(s):\n",
    "    s.show('lily.png')\n",
    "    return Image(filename=str(s.write('lily.png')))"
   ]
  },
  {
   "cell_type": "code",
   "execution_count": null,
   "metadata": {},
   "outputs": [],
   "source": [
    "from IPython.display import Image\n",
    "\n",
    "\n",
    "def render(s):\n",
    "    #s.show('lily.png')\n",
    "    return Image(filename=str(s.write(fmt='lily.png')))"
   ]
  },
  {
   "cell_type": "code",
   "execution_count": 49,
   "metadata": {},
   "outputs": [
    {
     "data": {
      "image/png": "[encoded data removed]",
      "text/plain": [
       "<IPython.core.display.Image object>"
      ]
     },
     "execution_count": 49,
     "metadata": {},
     "output_type": "execute_result"
    }
   ],
   "source": [
    "noteC = note.Note(\"C4\", type=\"half\")\n",
    "noteD = note.Note(\"D4\", type=\"quarter\")\n",
    "noteE = note.Note(\"E4\", type=\"quarter\")\n",
    "noteF = note.Note(\"F4\", type=\"half\")\n",
    "\n",
    "tsThreeFour = meter.TimeSignature('3/4')\n",
    "\n",
    "stream1 = stream.Stream()\n",
    "\n",
    "for thisThing in [tsThreeFour, noteC, noteD, noteE, noteF]:\n",
    "    stream1.append(thisThing)\n",
    "\n",
    "render(stream1)\n",
    "#native display requires musescore to be installed using default setups...\n",
    "#stream1.show()"
   ]
  },
  {
   "cell_type": "code",
   "execution_count": 77,
   "metadata": {},
   "outputs": [],
   "source": [
    "#Can we render using vexflow?\n",
    "#HTML is rendered but assets don't load - need new template?\n",
    "#from IPython.display import display, HTML, IFrame \n",
    "#display(HTML(vexflow.toMusic21j.fromObject(stream1).replace('http:','https:'),200,200))"
   ]
  },
  {
   "cell_type": "code",
   "execution_count": 50,
   "metadata": {},
   "outputs": [],
   "source": [
    "def tiny(t):\n",
    "    return render( converter.parse('tinyNotation: {}'.format(t)) )"
   ]
  },
  {
   "cell_type": "code",
   "execution_count": 51,
   "metadata": {},
   "outputs": [
    {
     "data": {
      "image/png": "[encoded data removed]",
      "text/plain": [
       "<IPython.core.display.Image object>"
      ]
     },
     "execution_count": 51,
     "metadata": {},
     "output_type": "execute_result"
    }
   ],
   "source": [
    "c = chord.Chord(\"C4 E4 G4\")\n",
    "c.isConsonant()\n",
    "render(c)"
   ]
  },
  {
   "cell_type": "code",
   "execution_count": 52,
   "metadata": {},
   "outputs": [
    {
     "data": {
      "image/png": "[encoded data removed]",
      "text/plain": [
       "<IPython.core.display.Image object>"
      ]
     },
     "execution_count": 52,
     "metadata": {},
     "output_type": "execute_result"
    }
   ],
   "source": [
    "from music21 import converter\n",
    "s = converter.parse('tinyNotation: 4/4 C4 D4 E4 F4 G4 A4 B4 c4')\n",
    "render(s)"
   ]
  },
  {
   "cell_type": "code",
   "execution_count": 53,
   "metadata": {},
   "outputs": [
    {
     "data": {
      "image/png": "[encoded data removed]",
      "text/plain": [
       "<IPython.core.display.Image object>"
      ]
     },
     "execution_count": 53,
     "metadata": {},
     "output_type": "execute_result"
    }
   ],
   "source": [
    "tiny(\"3/4 c4 c'4 c''4\")"
   ]
  },
  {
   "cell_type": "code",
   "execution_count": 54,
   "metadata": {},
   "outputs": [
    {
     "data": {
      "image/png": "[encoded data removed]",
      "text/plain": [
       "<IPython.core.display.Image object>"
      ]
     },
     "execution_count": 54,
     "metadata": {},
     "output_type": "execute_result"
    }
   ],
   "source": [
    "myBach = corpus.parse('bach/bwv57.8')\n",
    "alto = myBach.parts['Alto']\n",
    "\n",
    "render(alto)"
   ]
  },
  {
   "cell_type": "code",
   "execution_count": null,
   "metadata": {},
   "outputs": [],
   "source": [
    "#music21 .write() formats - http://web.mit.edu/music21/doc/moduleReference/moduleCommonFormats.html"
   ]
  },
  {
   "cell_type": "code",
   "execution_count": null,
   "metadata": {},
   "outputs": [],
   "source": [
    "#see also: https://www.python-course.eu/python_scores.php"
   ]
  },
  {
   "cell_type": "code",
   "execution_count": 122,
   "metadata": {},
   "outputs": [],
   "source": [
    "#Guitar tablature in music21\n",
    "fn1 = tablature.FretNote(string=3, fret=2, fingering=1)\n",
    "fn2 = tablature.FretNote(string=2, fret=3, fingering=3)\n",
    "fn3 = tablature.FretNote(string=1, fret=2, fingering=2)\n",
    "fb = tablature.FretBoard(6, fretNotes=[fn1, fn2, fn3], displayFrets=5)\n",
    "#How do we display this?\n",
    "#render(fb)"
   ]
  },
  {
   "cell_type": "markdown",
   "metadata": {},
   "source": [
    "### Rendering scale tables from `music21`\n",
    "\n",
    "Via https://iacchus.github.io/jupyter-notebooks/html/music21-scale-tables-013.html\n"
   ]
  },
  {
   "cell_type": "code",
   "execution_count": 7,
   "metadata": {},
   "outputs": [],
   "source": [
    "%%capture\n",
    "try:\n",
    "    import svgwrite\n",
    "except:\n",
    "    ! pip3.6 install svgwrite"
   ]
  },
  {
   "cell_type": "code",
   "execution_count": 8,
   "metadata": {},
   "outputs": [],
   "source": [
    "from IPython.display import display, HTML #, Image, Audio\n",
    "#import plim\n",
    "import base64\n",
    "#from music21.common.pathTools import relativepath as m21_jupyter_relpath\n",
    "from PIL import Image as PILImage\n",
    "import svgwrite as sw\n",
    "import seaborn"
   ]
  },
  {
   "cell_type": "code",
   "execution_count": 27,
   "metadata": {},
   "outputs": [],
   "source": [
    "def returnScale(tonic='c', mode='major', ownKey=False):\n",
    "    \n",
    "    modes = [ 'ionian','dorian','phrygian',\n",
    "              'lydian','mixolydian','aeolian',\n",
    "              'locrian','major','minor']\n",
    "    \n",
    "    if not mode in modes: mode = 'major'\n",
    "        \n",
    "    if mode == 'ionian': mode = 'major'\n",
    "    if mode == 'aeolian': mode = 'minor'\n",
    "\n",
    "    tonic_pitch = pitch.Pitch(tonic)\n",
    "    scale_sharps = key.pitchToSharps(tonic_pitch, mode)\n",
    "\n",
    "    scale_func = getattr(scale, \"{0}Scale\".format(mode.capitalize()))\n",
    "    real_scale = scale_func(tonic_pitch)\n",
    "    pitches = real_scale.getPitches()\n",
    "\n",
    "    scale_name = real_scale.name\n",
    "    absolute_intervals = []\n",
    "    relative_intervals = []\n",
    "    note_names = []\n",
    "    myKeySig = key.KeySignature(scale_sharps)\n",
    "    \n",
    "    mystream = stream.Stream()\n",
    "    \n",
    "    if ownKey:\n",
    "        mystream.append(myKeySig)\n",
    "\n",
    "    for idx,cur_pitch in enumerate(pitches):\n",
    "        mynote = note.Note(cur_pitch)\n",
    "\n",
    "        cur_degree = real_scale.getScaleDegreeFromPitch(cur_pitch)\n",
    "        past_degree_or_tonic = cur_degree-1 if cur_degree>1 else 1\n",
    "        \n",
    "        absolute_interval = real_scale.intervalBetweenDegrees(1,cur_degree).name\n",
    "        #relative_interval_semitones = real_scale.intervalBetweenDegrees(past_degree_or_tonic, cur_degree).semitones\n",
    "        try:\n",
    "            relative_interval_semitones = interval.notesToChromatic(cur_pitch, pitches[idx+1]).semitones\n",
    "        except:\n",
    "            #pass\n",
    "            relative_interval_semitones = 'None'\n",
    "        #relative_interval = real_scale.intervalBetweenDegrees(past_degree_or_tonic, cur_degree).name\n",
    "        \n",
    "        absolute_intervals.append(absolute_interval)\n",
    "        relative_intervals.append(relative_interval_semitones)\n",
    "        note_names.append(cur_pitch.unicodeName)\n",
    "        #mynote.addLyric(absolute_interval)\n",
    "        #mynote.addLyric(relative_interval_semitones)\n",
    "        \n",
    "        mystream.append(mynote)\n",
    "        \n",
    "    filename = mystream.write(fmt='lily.png')\n",
    "        \n",
    "    return {\n",
    "        'scalename': scale_name,\n",
    "        'stream' : mystream,\n",
    "        'filename': filename,\n",
    "        'ai' : absolute_intervals,\n",
    "        'ri' : relative_intervals,\n",
    "        'nn' : note_names,\n",
    "    }"
   ]
  },
  {
   "cell_type": "code",
   "execution_count": 28,
   "metadata": {},
   "outputs": [],
   "source": [
    "def svg_table2(sc):\n",
    "    #print(sc)\n",
    "    img_w, img_h = PILImage.open(sc['filename']).size\n",
    "\n",
    "    with open(sc['filename'],'rb') as image_file:\n",
    "        b64_scale = base64.b64encode(image_file.read()).decode('utf8')\n",
    "        image_data = \"data:image/png;base64,{}\".format(b64_scale)\n",
    "\n",
    "    def y_by_line(line_num, line_height):\n",
    "        return (line_num-1) * line_height\n",
    "\n",
    "    svg_attrs = {\n",
    "        'font-family': 'Inconsolata, monospace',\n",
    "    #    'shape-rendering':'optimizeQuality',\n",
    "\n",
    "    }\n",
    "\n",
    "    title_text_attrs = {\n",
    "        'fill':'#fff',\n",
    "        'alignment-baseline' : 'middle',\n",
    "        'text-anchor' : 'middle',\n",
    "        'font-weight' : 'bold',\n",
    "    }\n",
    "\n",
    "    image_attrs = {\n",
    "        'stroke' : '#666',\n",
    "    }\n",
    "    img_rect_attrs = {\n",
    "        'fill':'none',\n",
    "        'stroke':'#000',\n",
    "        'stroke-width':'1',\n",
    "    }\n",
    "\n",
    "    background_attrs = {\n",
    "        'stroke':'#000',\n",
    "        'fill':'#fff',\n",
    "        'stroke-width':'1',\n",
    "    }\n",
    "\n",
    "    title_attrs = {\n",
    "        'color': '#fff',\n",
    "        'fill':'#336',\n",
    "        'stroke':'#000',\n",
    "        'stroke-width':'1',\n",
    "    }\n",
    "\n",
    "    cell_rect_attrs = {\n",
    "        'fill':'#fff',\n",
    "        'stroke':'#666',\n",
    "        'stroke-width':'1',\n",
    "    }\n",
    "    cell_path_attrs = {\n",
    "        'fill':'none',\n",
    "        'stroke':'#000',\n",
    "        'stroke-width':'1',\n",
    "    }\n",
    "    cell_text_attrs = {\n",
    "        #'fill':'#fff',\n",
    "        #'stroke':'#333',\n",
    "        #'stroke-width':'1',\n",
    "        'alignment-baseline' : 'middle',\n",
    "        'text-anchor' : 'middle',\n",
    "        'font-weight' : 'bold',\n",
    "    }\n",
    "    # sizes in px\n",
    "\n",
    "    #line_height = 32\n",
    "\n",
    "    #table_width = 440\n",
    "    table_width = img_w\n",
    "    line_height = img_h/3\n",
    "\n",
    "    table_height = line_height*7\n",
    "\n",
    "    cell_width = table_width/8\n",
    "\n",
    "    # SVG\n",
    "\n",
    "    dwg = sw.Drawing(profile='full', size=(\"{}\".format(table_width),\"{}\".format(table_height)), **svg_attrs)\n",
    "\n",
    "    # BACKGROUND\n",
    "\n",
    "    # why not beutiful background right now;\n",
    "    background = sw.shapes.Rect(insert=(0,0), size=(table_width, table_height), **background_attrs)\n",
    "    dwg.add(background)\n",
    "\n",
    "    # TITLE\n",
    "    \n",
    "    cell_group = sw.container.Group()\n",
    "\n",
    "    group_els = [\n",
    "        sw.shapes.Rect(insert=(0,0), size=(table_width, line_height), **title_attrs),\n",
    "        sw.text.Text(sc['scalename'], insert=(table_width/2, line_height/2), **title_text_attrs)\n",
    "    ]\n",
    "\n",
    "    for element in group_els:\n",
    "        cell_group.add(element)\n",
    "\n",
    "    dwg.add(cell_group)\n",
    "\n",
    "    # IMAGE\n",
    "\n",
    "    table_image = sw.image.Image(href=image_data, insert=(0,line_height), size=(img_w, img_h))\n",
    "    dwg.add(table_image)\n",
    "    #array = [1,2,3,4,5,6,7,8]\n",
    "    #array2 = [\"I\",\"II\",\"III\",\"IV\",\"V\",\"VI\",\"VII\",\"VIII\"]\n",
    "    cell_group = sw.container.Group()\n",
    "\n",
    "    group_els = [\n",
    "        sw.image.Image(href=image_data, insert=(0,line_height), size=(img_w, img_h)),\n",
    "        sw.shapes.Rect(insert=(0,line_height), size=(img_w, img_h), **img_rect_attrs),\n",
    "    ]\n",
    "\n",
    "    for element in group_els:\n",
    "        cell_group.add(element)\n",
    "\n",
    "    dwg.add(cell_group)\n",
    "    \n",
    "    # ABSOLUTE\n",
    "\n",
    "    for idx,item in enumerate(sc['ai']):\n",
    "\n",
    "        x = idx * cell_width\n",
    "        y = y_by_line(line_num=5, line_height=line_height)\n",
    "\n",
    "        v_center = (line_height/2) + y\n",
    "        h_center = (cell_width/2) + x\n",
    "\n",
    "        cell_group = sw.container.Group()\n",
    "\n",
    "        group_els = [\n",
    "            sw.shapes.Rect(insert=(x, y), size=(cell_width, line_height), **cell_rect_attrs),\n",
    "            sw.text.Text(item, insert=(h_center, v_center), **cell_text_attrs)\n",
    "        ]\n",
    "\n",
    "        for element in group_els:\n",
    "            cell_group.add(element)\n",
    "\n",
    "        dwg.add(cell_group)\n",
    "\n",
    "    # NOTE NAMES\n",
    "    for idx,item in enumerate(sc['nn']):\n",
    "\n",
    "        x = idx * cell_width\n",
    "        y = y_by_line(line_num=6, line_height=line_height)\n",
    "\n",
    "        v_center = (line_height/2) + y\n",
    "        h_center = (cell_width/2) + x\n",
    "\n",
    "        cell_group = sw.container.Group()\n",
    "\n",
    "        group_els = [\n",
    "            sw.shapes.Rect(insert=(x, y), size=(cell_width, line_height), **cell_rect_attrs),\n",
    "            sw.text.Text(item, insert=(h_center, v_center), **cell_text_attrs)\n",
    "        ]\n",
    "\n",
    "        for element in group_els:\n",
    "            cell_group.add(element)\n",
    "\n",
    "        dwg.add(cell_group)\n",
    "        \n",
    "    # INTERVALS\n",
    "    for idx,item in enumerate(sc['ri']):\n",
    "        v_center = (line_height/2) + idx * y_by_line(line_num=7, line_height=line_height)\n",
    "        h_center = (cell_width/2) + y_by_line(line_num=7, line_height=line_height)\n",
    "\n",
    "        x = idx * cell_width + (cell_width/2)\n",
    "        y = y_by_line(line_num=7, line_height=line_height) + (line_height/2)\n",
    "        \n",
    "        path_h_pad = cell_width /10\n",
    "        path_width = cell_width - path_h_pad\n",
    "        path_height = (line_height/3)\n",
    "        path_v_pad = -(path_height/2)\n",
    "        cell_group = sw.container.Group()\n",
    "        \n",
    "        # minor second\n",
    "        if item == 1:\n",
    "            path_commands = [\n",
    "                'M{0} {1}'.format(x,y-path_height/2),\n",
    "                'l {0} {1}'.format(path_width/2, path_height),\n",
    "                'l {0} -{1}'.format(path_width/2, path_height),\n",
    "            ]\n",
    "\n",
    "\n",
    "        # major second\n",
    "        elif item == 2:\n",
    "            path_commands = [\n",
    "                'M{0} {1}'.format(x,y-path_height/2),\n",
    "                'v {0}'.format(path_height),\n",
    "                'h {0}'.format(path_width),\n",
    "                'v -{0}'.format(path_height),\n",
    "            ]\n",
    "            \n",
    "        group_els = [\n",
    "            sw.path.Path(d=path_commands, **cell_path_attrs),\n",
    "            #sw.shapes.Rect(insert=(x, y), size=(cell_width, line_height), **cell_rect_attrs),\n",
    "            #sw.text.Text(item, insert=(x, y), **cell_text_attrs)\n",
    "        ]\n",
    "\n",
    "        for element in group_els:\n",
    "            cell_group.add(element)\n",
    "\n",
    "        dwg.add(cell_group)\n",
    "\n",
    "    # returns <svg/> table:\n",
    "    return dwg.tostring()"
   ]
  },
  {
   "cell_type": "code",
   "execution_count": 36,
   "metadata": {},
   "outputs": [
    {
     "name": "stdout",
     "output_type": "stream",
     "text": [
      "{'scalename': 'G mixolydian', 'stream': <music21.stream.Stream 0x7f88a5d1fc50>, 'filename': PosixPath('/tmp/music21/tmpipn3y_om.ly.png'), 'ai': ['P1', 'M2', 'M3', 'P4', 'P5', 'M6', 'm7', 'P1'], 'ri': [2, 2, 1, 2, 2, 1, 2, 'None'], 'nn': ['G', 'A', 'B', 'C', 'D', 'E', 'F', 'G']}\n"
     ]
    },
    {
     "data": {
      "text/html": [
       "<svg baseProfile=\"full\" font-family=\"Inconsolata, monospace\" height=\"170.33333333333331\" version=\"1.1\" width=\"258\" xmlns=\"http://www.w3.org/2000/svg\" xmlns:ev=\"http://www.w3.org/2001/xml-events\" xmlns:xlink=\"http://www.w3.org/1999/xlink\"><defs /><rect fill=\"#fff\" height=\"170.33333333333331\" stroke=\"#000\" stroke-width=\"1\" width=\"258\" x=\"0\" y=\"0\" /><g><rect color=\"#fff\" fill=\"#336\" height=\"24.333333333333332\" stroke=\"#000\" stroke-width=\"1\" width=\"258\" x=\"0\" y=\"0\" /><text alignment-baseline=\"middle\" fill=\"#fff\" font-weight=\"bold\" text-anchor=\"middle\" x=\"129.0\" y=\"12.166666666666666\">G mixolydian</text></g><image height=\"73\" width=\"258\" x=\"0\" xlink:href=\"data:image/png;base64,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\" y=\"24.333333333333332\" /><g><image height=\"73\" width=\"258\" x=\"0\" xlink:href=\"data:image/png;base64,iVBORw0KGgoAAAANSUhEUgAAAQIAAABJCAIAAABZxb8cAAAF8ElEQVR4nO2dMU/rPBSGTz/djYmlGViROrUSYkRiCnsZkr9SJmb+A/8gWdgbCYm9INERFoYOdKiEkGDsHXy/IxMnaWI7tRPeZ2rcODGpj8/x6+Mw2G63BMDv5j/XDQDAPTADAGAGAMAMACCYAQAEMwCAYAYAEMwAAIIZAEB2zSBNU4tXA2BvWDODNE3jOB4MBrYuCMDesGMGwgbEZ/4AQFcYWEmtyzkBpOuBbmHBG6jDPxwC6BYWvIHsCpIkIaI4juEQQIcw9QayOpQkSRRFURRRf1Wjq6sr100A/+aicRxb62ZbM0SnJ6IkSbiQiKIoMryyh8zn8zAMXbfiVyPCDRkrPe2PHWMiYnsAoCUKh38rDsGOYKraaF+DIuAKmyGQgh0zkF2BzwaQZdnFxYXrVgCd4L7sTCthiLWgiPHZDIBz5JVWcRhFkRpN5Li8vCz7amfdOph6A9UWYQagDOEBcoV1OsxoNFILxeTYSsN2rBssFotqiXC9Xj8/P4dhKB8SURAE4/HYShMtstls3t7eTk5OnFTfA9/f36vV6vj4uO0brdfr9/d3IgqCYDgc1qmyXC5FFRXuP2W8vr5+fX2t12txGARB/fuuVquzs7Pb29uqk8zFJpLUUr6srJ/6g6Hi6b9gOp/PrfymFWhLlmU9sE712Ww2m830GhyG4c66FqbIURQJvyb7O+invUQ7qmk7uDfEjhkQUZqm/Dh8+MNANRpajYlk2XZwb4gFpSiKotwDgivwGT2thowly+l0end3x1U478YH7Aumntg3KER7IdY8qhmNRt72DcuJ1giHfKbHUY0hpoKprILZFUmXyyVftqY0tpMuCqaNpMnNZvP4+FimP2ZZVlhe54czkSxFdSLSVnJNqj89PY3H4/v7+6qT9EQoQS62syWSisvy1cShlSt3SzDVkCYrBNMKR12nMSaSpdvqdQRT/bmB7GFZLDKc9PDsbftzCSJN08HAzn7RrmA9m3KxWKiFNSfHvUdzbiDLo+JR8uqBCYW7N9k2Orq3c8/SZAXT6ZQ/i18NNiDQ9AbqtNhc/Mr5FvVenctWciVNluGzVuMWHW8g/7TyYzV0CJ3r5dVoL7heX1+XfYXBuyV0zKBitbgNM+C7dKgTmEQ15+fnamFvpEk/aSyYskIqq2ycWMo0FdRIkvPay07VUzxZsjw4OPj4+KhT3USa3Gw2Ly8vn5+fXKX+k6wQTB1Klm6rtyKYcniqlqg02i6tV6sRTRVP1f8EQaBRq9HTNpFlKwTT7iqehtVbyTAVvp67viwZFZ5sUd7Zs1JUGNyXZczLHB4eqoWIanxGUzCVzUB8EKtdIl9qK7mI+iHyThlEO9pmyfLh4aFmFUPJcjKZ8GdIk/6jKZjmejmPcywWiTUv1vvrdIIkSSpeiK23Nqe6oyAIalYsLK/ZhuFwiLG/Q1jbb8DI8n/TN9hVnJ+madMBVTuqqWgwBvVe0tgMqofD3LdNx2+xGk3KNCCO46aXMolqCu+F4L7HNBZMc3vwhX4qK3TL5VIW+IR0uHPPde4WuTFbI8nURLKknxJwU/HXYR5rXwXT1WpFREdHRxp128owpZ+aZu6QZ8n8rd5dTDCULA1xmMfaV8HUhLa25Ivpr9yxRAaoemZOXd0biGpAI3TMQIz3ucwi7nnqixydTCvlm0KyBNVoCqZJkoh/+MeTWrmTid4vVtZcbbvG2O8VNzc3rptQhb5gKsZXNZOepR4h72AMBv5jtG7AI67wDAz9L/PDBkAnMN2SX0iWZZPJxNY++s7hUDCteIepQ8nSLXt6h6kK+foO0/3g58Z/h5Kl/9j5Nx8AdBp9M+D5QEd3ygPA6G/JZ3XIrTAKauK5ZOkW/Re0lB26WjkGQBvMDQAw3n0mkNcHam6yAWWEYXh6euq6Fb8LTTPgjp7LWRDTZUREhiCO3zNGyRS5EjFv3iKTB3QNfTPgfCE5hwI2QERhGIq8f9AVftdrogEoBEoRADADAGAGABDMAACCGQBAMAMACGYAAMEMACCYAQAEMwCAiP4CuTnr3GRA0HQAAAAASUVORK5CYII=\" y=\"24.333333333333332\" /><rect fill=\"none\" height=\"73\" stroke=\"#000\" stroke-width=\"1\" width=\"258\" x=\"0\" y=\"24.333333333333332\" /></g><g><rect fill=\"#fff\" height=\"24.333333333333332\" stroke=\"#666\" stroke-width=\"1\" width=\"32.25\" x=\"0.0\" y=\"97.33333333333333\" /><text alignment-baseline=\"middle\" font-weight=\"bold\" text-anchor=\"middle\" x=\"16.125\" y=\"109.5\">P1</text></g><g><rect fill=\"#fff\" height=\"24.333333333333332\" stroke=\"#666\" stroke-width=\"1\" width=\"32.25\" x=\"32.25\" y=\"97.33333333333333\" /><text alignment-baseline=\"middle\" font-weight=\"bold\" text-anchor=\"middle\" x=\"48.375\" y=\"109.5\">M2</text></g><g><rect fill=\"#fff\" height=\"24.333333333333332\" stroke=\"#666\" stroke-width=\"1\" width=\"32.25\" x=\"64.5\" y=\"97.33333333333333\" /><text alignment-baseline=\"middle\" font-weight=\"bold\" text-anchor=\"middle\" x=\"80.625\" y=\"109.5\">M3</text></g><g><rect fill=\"#fff\" height=\"24.333333333333332\" stroke=\"#666\" stroke-width=\"1\" width=\"32.25\" x=\"96.75\" y=\"97.33333333333333\" /><text alignment-baseline=\"middle\" font-weight=\"bold\" text-anchor=\"middle\" x=\"112.875\" y=\"109.5\">P4</text></g><g><rect fill=\"#fff\" height=\"24.333333333333332\" stroke=\"#666\" stroke-width=\"1\" width=\"32.25\" x=\"129.0\" y=\"97.33333333333333\" /><text alignment-baseline=\"middle\" font-weight=\"bold\" text-anchor=\"middle\" x=\"145.125\" y=\"109.5\">P5</text></g><g><rect fill=\"#fff\" height=\"24.333333333333332\" stroke=\"#666\" stroke-width=\"1\" width=\"32.25\" x=\"161.25\" y=\"97.33333333333333\" /><text alignment-baseline=\"middle\" font-weight=\"bold\" text-anchor=\"middle\" x=\"177.375\" y=\"109.5\">M6</text></g><g><rect fill=\"#fff\" height=\"24.333333333333332\" stroke=\"#666\" stroke-width=\"1\" width=\"32.25\" x=\"193.5\" y=\"97.33333333333333\" /><text alignment-baseline=\"middle\" font-weight=\"bold\" text-anchor=\"middle\" x=\"209.625\" y=\"109.5\">m7</text></g><g><rect fill=\"#fff\" height=\"24.333333333333332\" stroke=\"#666\" stroke-width=\"1\" width=\"32.25\" x=\"225.75\" y=\"97.33333333333333\" /><text alignment-baseline=\"middle\" font-weight=\"bold\" text-anchor=\"middle\" x=\"241.875\" y=\"109.5\">P1</text></g><g><rect fill=\"#fff\" height=\"24.333333333333332\" stroke=\"#666\" stroke-width=\"1\" width=\"32.25\" x=\"0.0\" y=\"121.66666666666666\" /><text alignment-baseline=\"middle\" font-weight=\"bold\" text-anchor=\"middle\" x=\"16.125\" y=\"133.83333333333331\">G</text></g><g><rect fill=\"#fff\" height=\"24.333333333333332\" stroke=\"#666\" stroke-width=\"1\" width=\"32.25\" x=\"32.25\" y=\"121.66666666666666\" /><text alignment-baseline=\"middle\" font-weight=\"bold\" text-anchor=\"middle\" x=\"48.375\" y=\"133.83333333333331\">A</text></g><g><rect fill=\"#fff\" height=\"24.333333333333332\" stroke=\"#666\" stroke-width=\"1\" width=\"32.25\" x=\"64.5\" y=\"121.66666666666666\" /><text alignment-baseline=\"middle\" font-weight=\"bold\" text-anchor=\"middle\" x=\"80.625\" y=\"133.83333333333331\">B</text></g><g><rect fill=\"#fff\" height=\"24.333333333333332\" stroke=\"#666\" stroke-width=\"1\" width=\"32.25\" x=\"96.75\" y=\"121.66666666666666\" /><text alignment-baseline=\"middle\" font-weight=\"bold\" text-anchor=\"middle\" x=\"112.875\" y=\"133.83333333333331\">C</text></g><g><rect fill=\"#fff\" height=\"24.333333333333332\" stroke=\"#666\" stroke-width=\"1\" width=\"32.25\" x=\"129.0\" y=\"121.66666666666666\" /><text alignment-baseline=\"middle\" font-weight=\"bold\" text-anchor=\"middle\" x=\"145.125\" y=\"133.83333333333331\">D</text></g><g><rect fill=\"#fff\" height=\"24.333333333333332\" stroke=\"#666\" stroke-width=\"1\" width=\"32.25\" x=\"161.25\" y=\"121.66666666666666\" /><text alignment-baseline=\"middle\" font-weight=\"bold\" text-anchor=\"middle\" x=\"177.375\" y=\"133.83333333333331\">E</text></g><g><rect fill=\"#fff\" height=\"24.333333333333332\" stroke=\"#666\" stroke-width=\"1\" width=\"32.25\" x=\"193.5\" y=\"121.66666666666666\" /><text alignment-baseline=\"middle\" font-weight=\"bold\" text-anchor=\"middle\" x=\"209.625\" y=\"133.83333333333331\">F</text></g><g><rect fill=\"#fff\" height=\"24.333333333333332\" stroke=\"#666\" stroke-width=\"1\" width=\"32.25\" x=\"225.75\" y=\"121.66666666666666\" /><text alignment-baseline=\"middle\" font-weight=\"bold\" text-anchor=\"middle\" x=\"241.875\" y=\"133.83333333333331\">G</text></g><g><path d=\"M16.125 154.11111111111111 v 8.11111111111111 h 29.025 v -8.11111111111111\" fill=\"none\" stroke=\"#000\" stroke-width=\"1\" /></g><g><path d=\"M48.375 154.11111111111111 v 8.11111111111111 h 29.025 v -8.11111111111111\" fill=\"none\" stroke=\"#000\" stroke-width=\"1\" /></g><g><path d=\"M80.625 154.11111111111111 l 14.5125 8.11111111111111 l 14.5125 -8.11111111111111\" fill=\"none\" stroke=\"#000\" stroke-width=\"1\" /></g><g><path d=\"M112.875 154.11111111111111 v 8.11111111111111 h 29.025 v -8.11111111111111\" fill=\"none\" stroke=\"#000\" stroke-width=\"1\" /></g><g><path d=\"M145.125 154.11111111111111 v 8.11111111111111 h 29.025 v -8.11111111111111\" fill=\"none\" stroke=\"#000\" stroke-width=\"1\" /></g><g><path d=\"M177.375 154.11111111111111 l 14.5125 8.11111111111111 l 14.5125 -8.11111111111111\" fill=\"none\" stroke=\"#000\" stroke-width=\"1\" /></g><g><path d=\"M209.625 154.11111111111111 v 8.11111111111111 h 29.025 v -8.11111111111111\" fill=\"none\" stroke=\"#000\" stroke-width=\"1\" /></g><g><path d=\"M209.625 154.11111111111111 v 8.11111111111111 h 29.025 v -8.11111111111111\" fill=\"none\" stroke=\"#000\" stroke-width=\"1\" /></g></svg>"
      ],
      "text/plain": [
       "<IPython.core.display.HTML object>"
      ]
     },
     "metadata": {},
     "output_type": "display_data"
    }
   ],
   "source": [
    "sc = returnScale('g','mixolydian')\n",
    "svg_img = svg_table2(sc)\n",
    "display(HTML(svg_img))"
   ]
  },
  {
   "cell_type": "markdown",
   "metadata": {},
   "source": [
    "## `abjad`\n",
    "\n",
    "[requires py3.6] https://github.com/Abjad/abjad"
   ]
  },
  {
   "cell_type": "code",
   "execution_count": 17,
   "metadata": {},
   "outputs": [],
   "source": [
    "#Provide a path to the lilypond executable\n",
    "import os\n",
    "os.environ[\"PATH\"] += os.pathsep + '/'.join([]+LILYPOND_PATH.split('/')[:-1])"
   ]
  },
  {
   "cell_type": "code",
   "execution_count": null,
   "metadata": {},
   "outputs": [],
   "source": [
    "%%capture\n",
    "try:\n",
    "    import abjad\n",
    "except:\n",
    "    #Imagemagick required for rendering, along with lilypond\n",
    "    ! conda install -y -c conda-forge imagemagick\n",
    "    ! pip3.6 install abjad\n",
    "    ! pip3.6 install abjad[ipython]"
   ]
  },
  {
   "cell_type": "code",
   "execution_count": 18,
   "metadata": {},
   "outputs": [],
   "source": [
    "import abjad\n",
    "#Need to set path in /home/nbuser/.abjad/abjad.cfg \n",
    "# Change is from lilypond_path = lilypond to lilypond_path = /home/nbuser/bin/lilypond\n",
    "# Can do this from terminal using nano; really need to do a sed CLI for it here...\n",
    "#That said, it doesn't seem to be picked from the config file in the ipython previewer?"
   ]
  },
  {
   "cell_type": "code",
   "execution_count": null,
   "metadata": {},
   "outputs": [],
   "source": [
    "import abjadext.ipython\n",
    "show = abjadext.ipython.Show()\n",
    "abjad.show = show"
   ]
  },
  {
   "cell_type": "code",
   "execution_count": 19,
   "metadata": {},
   "outputs": [],
   "source": [
    "duration = abjad.Duration(1, 4)\n",
    "notes = [abjad.Note(pitch, duration) for pitch in range(8)]\n",
    "staff = abjad.Staff(notes)"
   ]
  },
  {
   "cell_type": "code",
   "execution_count": null,
   "metadata": {},
   "outputs": [],
   "source": [
    "abjad.show(staff)"
   ]
  },
  {
   "cell_type": "code",
   "execution_count": 20,
   "metadata": {},
   "outputs": [
    {
     "data": {
      "text/plain": [
       "('/home/nbuser/.abjad/output/0010.midi',\n",
       " 0.015712261199951172,\n",
       " 1.3133385181427002,\n",
       " True)"
      ]
     },
     "execution_count": 20,
     "metadata": {},
     "output_type": "execute_result"
    }
   ],
   "source": [
    "abjscore = abjad.persist(staff).as_midi()\n",
    "abjscore"
   ]
  },
  {
   "cell_type": "code",
   "execution_count": 22,
   "metadata": {},
   "outputs": [
    {
     "data": {
      "text/html": [
       "\n",
       "                <div id='midiPlayerDiv1401'></div>\n",
       "                <link rel=\"stylesheet\" href=\"//cuthbertLab.github.io/music21j/css/m21.css\"\n",
       "                    type=\"text/css\" />\n",
       "                <script>\n",
       "                require.config({\n",
       "                    paths: {'music21': '//cuthbertLab.github.io/music21j/src/music21'}\n",
       "                });\n",
       "                require(['music21'], function() {\n",
       "                               mp = new music21.miditools.MidiPlayer();\n",
       "                               mp.addPlayer('#midiPlayerDiv1401');\n",
       "                               mp.base64Load('data:audio/midi;base64,TVRoZAAAAAYAAQABBABNVHJrAAAAZAD/AwAA4ABAAP9RAw9CQAD/WAQEAhgIAJA8WogAgDwAAJA9WogAgD0AAJA+WogAgD4AAJA/WogAgD8AAJBAWogAgEAAAJBBWogAgEEAAJBCWogAgEIAAJBDWogAgEMAiAD/LwA=');\n",
       "                        });\n",
       "                </script>"
      ],
      "text/plain": [
       "<IPython.core.display.HTML object>"
      ]
     },
     "metadata": {},
     "output_type": "display_data"
    }
   ],
   "source": [
    "#abjad uses timidity to play audio files in a notebook\n",
    "#But we can play the midi file without timidity via music21?\n",
    "#Load in the midi file\n",
    "s2=converter.parse(abjscore[0])\n",
    "#showScore(s2)\n",
    "s2.show('midi')"
   ]
  },
  {
   "cell_type": "markdown",
   "metadata": {},
   "source": [
    "## `librosa`\n",
    "\n",
    "Audio package"
   ]
  },
  {
   "cell_type": "code",
   "execution_count": null,
   "metadata": {},
   "outputs": [],
   "source": [
    "%%capture\n",
    "try:\n",
    "    import librosa\n",
    "except:\n",
    "    !pip install librosa\n",
    "%matplotlib inline"
   ]
  },
  {
   "cell_type": "code",
   "execution_count": null,
   "metadata": {},
   "outputs": [],
   "source": [
    "import librosa\n",
    "\n",
    "filename = librosa.util.example_audio_file()\n",
    "x, sr = librosa.load(filename)"
   ]
  },
  {
   "cell_type": "code",
   "execution_count": null,
   "metadata": {},
   "outputs": [],
   "source": [
    "#some great example / tutorial files at: https://musicinformationretrieval.com/index.html"
   ]
  },
  {
   "cell_type": "code",
   "execution_count": null,
   "metadata": {},
   "outputs": [],
   "source": [
    "#https://musicinformationretrieval.com/feature_sonification.html\n",
    "from IPython.display import Audio\n",
    "\n",
    "Audio(x, rate=sr)"
   ]
  },
  {
   "cell_type": "code",
   "execution_count": null,
   "metadata": {},
   "outputs": [],
   "source": [
    "import librosa.display\n",
    "\n",
    "librosa.display.waveplot(x);"
   ]
  },
  {
   "cell_type": "code",
   "execution_count": null,
   "metadata": {},
   "outputs": [],
   "source": [
    "import librosa, librosa.display\n",
    "import numpy as np\n",
    "\n",
    "X = librosa.stft(x)\n",
    "Xmag = librosa.amplitude_to_db(np.abs(X))\n",
    "\n",
    "librosa.display.specshow(Xmag, sr=sr, x_axis='time', y_axis='log');"
   ]
  },
  {
   "cell_type": "markdown",
   "metadata": {},
   "source": [
    "## `pysoundfile`\n",
    "Read soundfiles."
   ]
  },
  {
   "cell_type": "code",
   "execution_count": null,
   "metadata": {},
   "outputs": [],
   "source": [
    "try:\n",
    "    import soundfile\n",
    "except:\n",
    "    !conda install -y -c conda-forge pysoundfile "
   ]
  },
  {
   "cell_type": "markdown",
   "metadata": {},
   "source": [
    "## To Chase - Other Music notation displays / players"
   ]
  },
  {
   "cell_type": "code",
   "execution_count": null,
   "metadata": {},
   "outputs": [],
   "source": [
    "#to explore:\n",
    "#https://iacchus.github.io/jupyter-notebooks/html/music21-scale-tables-013.html\n",
    "#https://jupyter.brynmawr.edu/services/public/dblank/jupyter.cs/Sonification.ipynb\n",
    "#https://github.com/CoderLine/alphaTab"
   ]
  },
  {
   "cell_type": "code",
   "execution_count": null,
   "metadata": {},
   "outputs": [],
   "source": [
    "#https://wiki.python.org/moin/PythonInMusic"
   ]
  },
  {
   "cell_type": "code",
   "execution_count": null,
   "metadata": {},
   "outputs": [],
   "source": [
    "#Other possible ways of displaying music21 scores?\n",
    "#How about s/thing like:\n",
    "# - music21j - js reinterpetation of music21, uses vexflow\n",
    "# - http://www.vexflow.com/\n",
    "# - https://opensheetmusicdisplay.org/ - DEMO ABOVE\n",
    "# - https://www.verovio.org/javascript.xhtml\n",
    "# - https://abcjs.net/\n",
    "# - http://dezrann.net/demo/index.html http://dezrann.net/dev/\n",
    "# - https://github.com/danigb/tonal\n",
    "# - http://freetomik.github.io/\n",
    "# - https://github.com/SymphoniaIO/web-musicxml-editor"
   ]
  },
  {
   "cell_type": "code",
   "execution_count": null,
   "metadata": {},
   "outputs": [],
   "source": [
    "#http://web.mit.edu/music21/doc/moduleReference/moduleVexflowToMusic21j.html\n",
    "\n",
    "#http://tenor-conference.org/proceedings/2018/14_Giraud_tenor18.pdf - DEZRANN"
   ]
  },
  {
   "cell_type": "code",
   "execution_count": null,
   "metadata": {},
   "outputs": [],
   "source": [
    "#music oer https://github.com/hybrid-pedagogy/openmusictheory"
   ]
  },
  {
   "cell_type": "markdown",
   "metadata": {},
   "source": [
    "## *abc notation*\n",
    "\n",
    "A simpler approach looks like it may be to use [abc notation](http://abcnotation.com/) (using [abcjs](https://github.com/paulrosen/abcjs)).\n",
    "\n",
    "However, the Jupyter notebook extension to support `abcjs` doesn't currently work on notebooks.azure.com (it seems to be fine in other notebook environments). Keep checking back here and I'll post a working version as soon as I can find one...\n",
    "\n",
    "*Azure notebook experimental features need disabling: [abc.js issue](https://github.com/akaihola/jupyter_abc/issues/2)*? STILL DOESN\"T WORK..."
   ]
  },
  {
   "cell_type": "code",
   "execution_count": 1,
   "metadata": {},
   "outputs": [],
   "source": [
    "%%capture\n",
    "#Install an extension to render music written in abc notation\n",
    "try:\n",
    "    %load_ext jupyter_abc\n",
    "except:\n",
    "    !pip install git+https://github.com/akaihola/jupyter_abc.git"
   ]
  },
  {
   "cell_type": "code",
   "execution_count": 2,
   "metadata": {},
   "outputs": [
    {
     "data": {
      "text/html": [
       "<script type=\"text/javascript\">    require.config(\n",
       "        {paths: {abcjs: require.toUrl(\"nbextensions/jupyter-abc/abcjs_basic_5.1.2-min.js\")},\n",
       "         shim: {abcjs: {exports: 'ABCJS'}}}\n",
       "    );</script>"
      ],
      "text/plain": [
       "<IPython.core.display.HTML object>"
      ]
     },
     "metadata": {},
     "output_type": "display_data"
    }
   ],
   "source": [
    "#Load the required extension\n",
    "%load_ext jupyter_abc"
   ]
  },
  {
   "cell_type": "markdown",
   "metadata": {},
   "source": [
    "Now we should be able to write some *abc* code and render a score."
   ]
  },
  {
   "cell_type": "code",
   "execution_count": 3,
   "metadata": {},
   "outputs": [
    {
     "data": {
      "application/javascript": [
       "require([\"abcjs\"], function(ABCJS) {    element.prepend(\"<div class='abc'></div>\");    var output = element.find(\".abc\").get(0);    console.log(element, output, ABCJS, \"%%score (R1 R2) (L)\\nV:R1\\n[cc']2 z ((3g/a/b/ [cc']2) z ((3g/a/b/ | [cc']2) z2 z2 z c | (c3 B d3 c) | (g4 f2) z2 |\\nV:R2\\nx8 | x8 | G8- | G6 z2 |\\nV:L clef=bass middle=d\\n[cc']2 z ((3g/a/b/ [cc']2) z ((3g/a/b/ | [cc']2) z2 z4 | ([d'f']4 [c'e']4) | [bd']6 z2 |\");    ABCJS.renderAbc(output, \"%%score (R1 R2) (L)\\nV:R1\\n[cc']2 z ((3g/a/b/ [cc']2) z ((3g/a/b/ | [cc']2) z2 z2 z c | (c3 B d3 c) | (g4 f2) z2 |\\nV:R2\\nx8 | x8 | G8- | G6 z2 |\\nV:L clef=bass middle=d\\n[cc']2 z ((3g/a/b/ [cc']2) z ((3g/a/b/ | [cc']2) z2 z4 | ([d'f']4 [c'e']4) | [bd']6 z2 |\");});"
      ],
      "text/plain": [
       "<IPython.core.display.Javascript object>"
      ]
     },
     "execution_count": 3,
     "metadata": {},
     "output_type": "execute_result"
    }
   ],
   "source": [
    "%%abc\n",
    "%%score (R1 R2) (L)\n",
    "V:R1\n",
    "[cc']2 z ((3g/a/b/ [cc']2) z ((3g/a/b/ | [cc']2) z2 z2 z c | (c3 B d3 c) | (g4 f2) z2 |\n",
    "V:R2\n",
    "x8 | x8 | G8- | G6 z2 |\n",
    "V:L clef=bass middle=d\n",
    "[cc']2 z ((3g/a/b/ [cc']2) z ((3g/a/b/ | [cc']2) z2 z4 | ([d'f']4 [c'e']4) | [bd']6 z2 |"
   ]
  },
  {
   "cell_type": "markdown",
   "metadata": {},
   "source": [
    "## *LaTeX*\n",
    "\n",
    "There are several `LaTeX` packages that can support the display of musical notation (for example, [`musictex`](https://ctan.org/pkg/musictex?lang=en) and [`abc`](https://ctan.org/pkg/abc?lang=en)). However, at the current time, they do not appear to be supported in Azure notebooks.\n",
    "\n",
    "This may be useful? https://martin-thoma.com/how-to-write-music-with-latex/"
   ]
  },
  {
   "cell_type": "code",
   "execution_count": 1,
   "metadata": {},
   "outputs": [
    {
     "name": "stdout",
     "output_type": "stream",
     "text": [
      ".:/home/nbuser/.texmf-config/tex/kpsewhich//:/home/nbuser/.texmf-var/tex/kpsewhich//:/home/nbuser/texmf/tex/kpsewhich//:/etc/texmf/tex/kpsewhich//:!!/var/lib/texmf/tex/kpsewhich//:!!/usr/local/share/texmf/tex/kpsewhich//:!!/usr/share/texmf/tex/kpsewhich//:!!/usr/share/texlive/texmf-dist/tex/kpsewhich//:/home/nbuser/.texmf-config/tex/generic//:/home/nbuser/.texmf-var/tex/generic//:/home/nbuser/texmf/tex/generic//:/etc/texmf/tex/generic//:!!/var/lib/texmf/tex/generic//:!!/usr/local/share/texmf/tex/generic//:!!/usr/share/texmf/tex/generic//:!!/usr/share/texlive/texmf-dist/tex/generic//:/home/nbuser/.texmf-config/tex///:/home/nbuser/.texmf-var/tex///:/home/nbuser/texmf/tex///:/etc/texmf/tex///:!!/var/lib/texmf/tex///:!!/usr/local/share/texmf/tex///:!!/usr/share/texmf/tex///:!!/usr/share/texlive/texmf-dist/tex///\n"
     ]
    }
   ],
   "source": [
    "#Check latex paths\n",
    "#!kpsepath tex"
   ]
  },
  {
   "cell_type": "code",
   "execution_count": 3,
   "metadata": {},
   "outputs": [],
   "source": [
    "%%capture\n",
    "try:\n",
    "    %load_ext tikz_magic\n",
    "except:\n",
    "    !conda install -y imagemagick\n",
    "    !pip install --user git+https://github.com/innovationOUtside/ipython_magic_tikz"
   ]
  },
  {
   "cell_type": "code",
   "execution_count": 5,
   "metadata": {},
   "outputs": [],
   "source": [
    "%load_ext tikz_magic"
   ]
  },
  {
   "cell_type": "code",
   "execution_count": 8,
   "metadata": {},
   "outputs": [
    {
     "data": {
      "image/png": "[encoded data removed]",
      "text/plain": [
       "<IPython.core.display.Image object>"
      ]
     },
     "execution_count": 8,
     "metadata": {},
     "output_type": "execute_result"
    }
   ],
   "source": [
    "%%tikz -p circuitikz -s 0.3\n",
    "    %This is just a test of something I know should work...\n",
    "    %Draw a resistor labelled R_1 connecting points (0,0) and (2,0)\n",
    "    \\draw (0,0) to[R, l=$R_1$] (2,0);"
   ]
  },
  {
   "cell_type": "code",
   "execution_count": 25,
   "metadata": {},
   "outputs": [
    {
     "name": "stdout",
     "output_type": "stream",
     "text": [
      "/usr/share/texlive/texmf-dist/tex/plain/pgf/frontendlayer/tikz.tex\n"
     ]
    }
   ],
   "source": [
    "#Identify if a package is available, and if so where it is...\n",
    "!kpsewhich tikz"
   ]
  },
  {
   "cell_type": "code",
   "execution_count": 41,
   "metadata": {},
   "outputs": [
    {
     "name": "stdout",
     "output_type": "stream",
     "text": [
      "(running on Debian, switching to user mode!)\n",
      "tlmgr: setting default package repository to ftp://tug.org/historic/systems/texlive/2015/tlnet-final\n",
      "(running on Debian, switching to user mode!)\n",
      "TeX Live 2015 is frozen forever and will no\n",
      "longer be updated.  This happens in preparation for a new release.\n",
      "\n",
      "If you're interested in helping to pretest the new release (when\n",
      "pretests are available), please read http://tug.org/texlive/pretest.html.\n",
      "Otherwise, just wait, and the new release will be ready in due time.\n",
      "tlmgr: package repository ftp://tug.org/historic/systems/texlive/2015/tlnet-final\n",
      "tlmgr install: package already present: abc\n",
      "(running on Debian, switching to user mode!)\n",
      "TeX Live 2015 is frozen forever and will no\n",
      "longer be updated.  This happens in preparation for a new release.\n",
      "\n",
      "If you're interested in helping to pretest the new release (when\n",
      "pretests are available), please read http://tug.org/texlive/pretest.html.\n",
      "Otherwise, just wait, and the new release will be ready in due time.\n",
      "tlmgr: package repository ftp://tug.org/historic/systems/texlive/2015/tlnet-final\n",
      "Package musixtex is not relocatable, cannot install it in user mode!\n"
     ]
    }
   ],
   "source": [
    "#Set up texlive to install things as local user?\n",
    "#!tlmgr init-usertree\n",
    "#!tlmgr option repository ftp://tug.org/historic/systems/texlive/2015/tlnet-final\n",
    "!tlmgr install abc\n",
    "!tlmgr install musixtex"
   ]
  },
  {
   "cell_type": "code",
   "execution_count": 42,
   "metadata": {},
   "outputs": [],
   "source": [
    "#Still not there?\n",
    "!kpsewhich abc"
   ]
  },
  {
   "cell_type": "code",
   "execution_count": null,
   "metadata": {},
   "outputs": [],
   "source": [
    "%%tikz --no-wrap -p musixtex\n",
    "%Seems like musixtex not avaliable?\n",
    "\\begin{document}\n",
    "    \\noindent This is a clef:\n",
    "    \\begin{music}\\trebleclef\\end{music}\n",
    "\\end{document}"
   ]
  },
  {
   "cell_type": "code",
   "execution_count": null,
   "metadata": {},
   "outputs": [],
   "source": [
    "%%tikz --no-wrap -p abc\n",
    "\n",
    "\\begin{document}\n",
    "    You can create music sheets within the abc-environment:\n",
    "    \\begin{abc}[name=c-dur]\n",
    "        X: 1 % start of header\n",
    "        K: C % scale: C major\n",
    "        \"Text\"c2 G4 | (3FED c4 G2 |\n",
    "    \\end{abc}\n",
    "\\end{document}"
   ]
  },
  {
   "cell_type": "markdown",
   "metadata": {},
   "source": [
    "## Guitar Fretboards"
   ]
  },
  {
   "cell_type": "code",
   "execution_count": null,
   "metadata": {},
   "outputs": [],
   "source": [
    "%%capture\n",
    "try:\n",
    "    #https://github.com/dmpayton/python-fretboard\n",
    "    import fretboard\n",
    "except:\n",
    "    !pip install fretboard"
   ]
  },
  {
   "cell_type": "code",
   "execution_count": 2,
   "metadata": {},
   "outputs": [],
   "source": [
    "import fretboard\n",
    "\n",
    "!mkdir -p images"
   ]
  },
  {
   "cell_type": "code",
   "execution_count": 5,
   "metadata": {},
   "outputs": [
    {
     "data": {
      "image/svg+xml": [
       "<svg baseProfile=\"full\" height=\"300\" version=\"1.1\" width=\"250\" xmlns=\"http://www.w3.org/2000/svg\" xmlns:ev=\"http://www.w3.org/2001/xml-events\" xmlns:xlink=\"http://www.w3.org/1999/xlink\"><defs/><rect fill=\"white\" height=\"300\" width=\"250\" x=\"0\" y=\"0\"/><line stroke=\"darkgray\" stroke-width=\"2\" x1=\"30\" x2=\"212.5\" y1=\"110.0\" y2=\"110.0\"/><line stroke=\"darkgray\" stroke-width=\"2\" x1=\"30\" x2=\"212.5\" y1=\"165.0\" y2=\"165.0\"/><line stroke=\"darkgray\" stroke-width=\"2\" x1=\"30\" x2=\"212.5\" y1=\"220.0\" y2=\"220.0\"/><line stroke=\"darkgray\" stroke-width=\"2\" x1=\"30\" x2=\"212.5\" y1=\"275.0\" y2=\"275.0\"/><circle cx=\"22\" cy=\"192.5\" fill=\"black\" r=\"2\"/><line stroke=\"darkslategray\" stroke-width=\"3.0\" x1=\"31.5\" x2=\"31.5\" y1=\"45.0\" y2=\"285.0\"/><text alignment-baseline=\"middle\" fill=\"silver\" font-family=\"Lato\" font-size=\"15\" font-weight=\"bold\" text-anchor=\"middle\" x=\"31.5\" y=\"30.0\">X</text><line stroke=\"darkslategray\" stroke-width=\"2.6666666666666665\" x1=\"66.5\" x2=\"66.5\" y1=\"45.0\" y2=\"285.0\"/><text alignment-baseline=\"middle\" fill=\"silver\" font-family=\"Lato\" font-size=\"15\" font-weight=\"bold\" text-anchor=\"middle\" x=\"66.5\" y=\"30.0\">X</text><line stroke=\"darkslategray\" stroke-width=\"2.3333333333333335\" x1=\"103.0\" x2=\"103.0\" y1=\"45.0\" y2=\"285.0\"/><text alignment-baseline=\"middle\" fill=\"steelblue\" font-family=\"Lato\" font-size=\"15\" font-weight=\"bold\" text-anchor=\"middle\" x=\"103.0\" y=\"30.0\">O</text><line stroke=\"darkslategray\" stroke-width=\"2.0\" x1=\"139.5\" x2=\"139.5\" y1=\"45.0\" y2=\"285.0\"/><line stroke=\"darkslategray\" stroke-width=\"1.6666666666666667\" x1=\"176.0\" x2=\"176.0\" y1=\"45.0\" y2=\"285.0\"/><line stroke=\"darkslategray\" stroke-width=\"1.3333333333333335\" x1=\"211.83333333333334\" x2=\"211.83333333333334\" y1=\"45.0\" y2=\"285.0\"/><line stroke=\"darkslategray\" stroke-width=\"10\" x1=\"30\" x2=\"212.5\" y1=\"50.0\" y2=\"50.0\"/><circle cx=\"139.5\" cy=\"137.5\" fill=\"steelblue\" r=\"12\" stroke=\"darkslategray\" stroke-width=\"2\"/><text alignment-baseline=\"central\" fill=\"white\" font-family=\"Lato\" font-size=\"15\" font-weight=\"bold\" text-anchor=\"middle\" x=\"139.5\" y=\"137.5\">1</text><circle cx=\"176.0\" cy=\"192.5\" fill=\"steelblue\" r=\"12\" stroke=\"darkslategray\" stroke-width=\"2\"/><text alignment-baseline=\"central\" fill=\"white\" font-family=\"Lato\" font-size=\"15\" font-weight=\"bold\" text-anchor=\"middle\" x=\"176.0\" y=\"192.5\">3</text><circle cx=\"212.5\" cy=\"137.5\" fill=\"steelblue\" r=\"12\" stroke=\"darkslategray\" stroke-width=\"2\"/><text alignment-baseline=\"central\" fill=\"white\" font-family=\"Lato\" font-size=\"15\" font-weight=\"bold\" text-anchor=\"middle\" x=\"212.5\" y=\"137.5\">2</text></svg>"
      ],
      "text/plain": [
       "<IPython.core.display.SVG object>"
      ]
     },
     "execution_count": 5,
     "metadata": {},
     "output_type": "execute_result"
    }
   ],
   "source": [
    "from IPython.display import SVG\n",
    "chord = fretboard.Chord(positions='xx0232', fingers='---132')\n",
    "chord.save('images/D.svg')\n",
    "SVG('images/D.svg')"
   ]
  },
  {
   "cell_type": "code",
   "execution_count": 22,
   "metadata": {},
   "outputs": [
    {
     "data": {
      "image/svg+xml": [
       "<svg baseProfile=\"full\" height=\"300\" version=\"1.1\" width=\"250\" xmlns=\"http://www.w3.org/2000/svg\" xmlns:ev=\"http://www.w3.org/2001/xml-events\" xmlns:xlink=\"http://www.w3.org/1999/xlink\"><defs/><rect fill=\"white\" height=\"300\" width=\"250\" x=\"0\" y=\"0\"/><line stroke=\"darkgray\" stroke-width=\"2\" x1=\"30\" x2=\"212.5\" y1=\"55.0\" y2=\"55.0\"/><line stroke=\"darkgray\" stroke-width=\"2\" x1=\"30\" x2=\"212.5\" y1=\"110.0\" y2=\"110.0\"/><line stroke=\"darkgray\" stroke-width=\"2\" x1=\"30\" x2=\"212.5\" y1=\"165.0\" y2=\"165.0\"/><line stroke=\"darkgray\" stroke-width=\"2\" x1=\"30\" x2=\"212.5\" y1=\"220.0\" y2=\"220.0\"/><line stroke=\"darkgray\" stroke-width=\"2\" x1=\"30\" x2=\"212.5\" y1=\"275.0\" y2=\"275.0\"/><circle cx=\"22\" cy=\"82.5\" fill=\"black\" r=\"2\"/><circle cx=\"22\" cy=\"192.5\" fill=\"black\" r=\"2\"/><text fill=\"dimgray\" font-family=\"Lato\" font-size=\"15\" font-style=\"italic\" font-weight=\"bold\" text-anchor=\"start\" x=\"214.5\" y=\"58.0\">4fr</text><line stroke=\"darkslategray\" stroke-width=\"3.0\" x1=\"31.5\" x2=\"31.5\" y1=\"45.0\" y2=\"285.0\"/><line stroke=\"darkslategray\" stroke-width=\"2.6666666666666665\" x1=\"66.5\" x2=\"66.5\" y1=\"45.0\" y2=\"285.0\"/><line stroke=\"darkslategray\" stroke-width=\"2.3333333333333335\" x1=\"103.0\" x2=\"103.0\" y1=\"45.0\" y2=\"285.0\"/><line stroke=\"darkslategray\" stroke-width=\"2.0\" x1=\"139.5\" x2=\"139.5\" y1=\"45.0\" y2=\"285.0\"/><line stroke=\"darkslategray\" stroke-width=\"1.6666666666666667\" x1=\"176.0\" x2=\"176.0\" y1=\"45.0\" y2=\"285.0\"/><line stroke=\"darkslategray\" stroke-width=\"1.3333333333333335\" x1=\"211.83333333333334\" x2=\"211.83333333333334\" y1=\"45.0\" y2=\"285.0\"/><circle cx=\"30.0\" cy=\"82.5\" fill=\"chocolate\" r=\"12\" stroke=\"darkslategray\" stroke-width=\"2\"/><text alignment-baseline=\"central\" fill=\"white\" font-family=\"Lato\" font-size=\"15\" font-weight=\"bold\" text-anchor=\"middle\" x=\"30.0\" y=\"82.5\">A</text><circle cx=\"66.5\" cy=\"82.5\" fill=\"dodgerblue\" r=\"12\" stroke=\"darkslategray\" stroke-width=\"2\"/><text alignment-baseline=\"central\" fill=\"white\" font-family=\"Lato\" font-size=\"15\" font-weight=\"bold\" text-anchor=\"middle\" x=\"66.5\" y=\"82.5\">D</text><circle cx=\"103.0\" cy=\"82.5\" fill=\"dodgerblue\" r=\"12\" stroke=\"darkslategray\" stroke-width=\"2\"/><text alignment-baseline=\"central\" fill=\"white\" font-family=\"Lato\" font-size=\"15\" font-weight=\"bold\" text-anchor=\"middle\" x=\"103.0\" y=\"82.5\">G</text><circle cx=\"139.5\" cy=\"82.5\" fill=\"dodgerblue\" r=\"12\" stroke=\"darkslategray\" stroke-width=\"2\"/><text alignment-baseline=\"central\" fill=\"white\" font-family=\"Lato\" font-size=\"15\" font-weight=\"bold\" text-anchor=\"middle\" x=\"139.5\" y=\"82.5\">C</text><circle cx=\"176.0\" cy=\"82.5\" fill=\"dodgerblue\" r=\"12\" stroke=\"darkslategray\" stroke-width=\"2\"/><text alignment-baseline=\"central\" fill=\"white\" font-family=\"Lato\" font-size=\"15\" font-weight=\"bold\" text-anchor=\"middle\" x=\"176.0\" y=\"82.5\">E</text><circle cx=\"212.5\" cy=\"82.5\" fill=\"chocolate\" r=\"12\" stroke=\"darkslategray\" stroke-width=\"2\"/><text alignment-baseline=\"central\" fill=\"white\" font-family=\"Lato\" font-size=\"15\" font-weight=\"bold\" text-anchor=\"middle\" x=\"212.5\" y=\"82.5\">A</text><circle cx=\"30.0\" cy=\"247.5\" fill=\"dodgerblue\" r=\"12\" stroke=\"darkslategray\" stroke-width=\"2\"/><text alignment-baseline=\"central\" fill=\"white\" font-family=\"Lato\" font-size=\"15\" font-weight=\"bold\" text-anchor=\"middle\" x=\"30.0\" y=\"247.5\">C</text><circle cx=\"66.5\" cy=\"192.5\" fill=\"dodgerblue\" r=\"12\" stroke=\"darkslategray\" stroke-width=\"2\"/><text alignment-baseline=\"central\" fill=\"white\" font-family=\"Lato\" font-size=\"15\" font-weight=\"bold\" text-anchor=\"middle\" x=\"66.5\" y=\"192.5\">E</text><circle cx=\"103.0\" cy=\"192.5\" fill=\"chocolate\" r=\"12\" stroke=\"darkslategray\" stroke-width=\"2\"/><text alignment-baseline=\"central\" fill=\"white\" font-family=\"Lato\" font-size=\"15\" font-weight=\"bold\" text-anchor=\"middle\" x=\"103.0\" y=\"192.5\">A</text><circle cx=\"139.5\" cy=\"192.5\" fill=\"dodgerblue\" r=\"12\" stroke=\"darkslategray\" stroke-width=\"2\"/><text alignment-baseline=\"central\" fill=\"white\" font-family=\"Lato\" font-size=\"15\" font-weight=\"bold\" text-anchor=\"middle\" x=\"139.5\" y=\"192.5\">D</text><circle cx=\"176.0\" cy=\"247.5\" fill=\"dodgerblue\" r=\"12\" stroke=\"darkslategray\" stroke-width=\"2\"/><text alignment-baseline=\"central\" fill=\"white\" font-family=\"Lato\" font-size=\"15\" font-weight=\"bold\" text-anchor=\"middle\" x=\"176.0\" y=\"247.5\">G</text><circle cx=\"212.5\" cy=\"247.5\" fill=\"dodgerblue\" r=\"12\" stroke=\"darkslategray\" stroke-width=\"2\"/><text alignment-baseline=\"central\" fill=\"white\" font-family=\"Lato\" font-size=\"15\" font-weight=\"bold\" text-anchor=\"middle\" x=\"212.5\" y=\"247.5\">C</text></svg>"
      ],
      "text/plain": [
       "<IPython.core.display.SVG object>"
      ]
     },
     "execution_count": 22,
     "metadata": {},
     "output_type": "execute_result"
    }
   ],
   "source": [
    "fb = fretboard.Fretboard(frets=(5, 8), style={'marker': {'color': 'dodgerblue'}})\n",
    "fb.add_marker(string=0, fret=5, label='A', color='chocolate')\n",
    "fb.add_marker(string=1, fret=5, label='D')\n",
    "fb.add_marker(string=2, fret=5, label='G')\n",
    "fb.add_marker(string=3, fret=5, label='C')\n",
    "fb.add_marker(string=4, fret=5, label='E')\n",
    "fb.add_marker(string=5, fret=5, label='A', color='chocolate')\n",
    "\n",
    "fb.add_marker(string=0, fret=8, label='C')\n",
    "fb.add_marker(string=1, fret=7, label='E')\n",
    "fb.add_marker(string=2, fret=7, label='A', color='chocolate')\n",
    "fb.add_marker(string=3, fret=7, label='D')\n",
    "fb.add_marker(string=4, fret=8, label='G')\n",
    "fb.add_marker(string=5, fret=8, label='C')\n",
    "\n",
    "fn='images/pentatonic-shape.svg'\n",
    "fb.save(fn)\n",
    "SVG(fn)"
   ]
  },
  {
   "cell_type": "code",
   "execution_count": 77,
   "metadata": {},
   "outputs": [
    {
     "data": {
      "image/svg+xml": [
       "<svg baseProfile=\"full\" height=\"100%\" version=\"1.1\" width=\"100%\" xmlns=\"http://www.w3.org/2000/svg\" xmlns:ev=\"http://www.w3.org/2001/xml-events\" xmlns:xlink=\"http://www.w3.org/1999/xlink\"><defs/><g transform=\"translate(0,130) scale(0.5) rotate(270)\"><defs/><rect fill=\"white\" height=\"300\" width=\"250\" x=\"0\" y=\"0\"/><line stroke=\"darkgray\" stroke-width=\"2\" x1=\"30\" x2=\"212.5\" y1=\"55.0\" y2=\"55.0\"/><line stroke=\"darkgray\" stroke-width=\"2\" x1=\"30\" x2=\"212.5\" y1=\"110.0\" y2=\"110.0\"/><line stroke=\"darkgray\" stroke-width=\"2\" x1=\"30\" x2=\"212.5\" y1=\"165.0\" y2=\"165.0\"/><line stroke=\"darkgray\" stroke-width=\"2\" x1=\"30\" x2=\"212.5\" y1=\"220.0\" y2=\"220.0\"/><line stroke=\"darkgray\" stroke-width=\"2\" x1=\"30\" x2=\"212.5\" y1=\"275.0\" y2=\"275.0\"/><circle cx=\"22\" cy=\"82.5\" fill=\"black\" r=\"2\"/><circle cx=\"22\" cy=\"192.5\" fill=\"black\" r=\"2\"/><text fill=\"dimgray\" font-family=\"Lato\" font-size=\"15\" font-style=\"italic\" font-weight=\"bold\" text-anchor=\"start\" transform=\"rotate(90,214.5,58.0)\" x=\"214.5\" y=\"58.0\">IV</text><line stroke=\"darkslategray\" stroke-width=\"3.0\" x1=\"31.5\" x2=\"31.5\" y1=\"45.0\" y2=\"285.0\"/><line stroke=\"darkslategray\" stroke-width=\"2.6666666666666665\" x1=\"66.5\" x2=\"66.5\" y1=\"45.0\" y2=\"285.0\"/><line stroke=\"darkslategray\" stroke-width=\"2.3333333333333335\" x1=\"103.0\" x2=\"103.0\" y1=\"45.0\" y2=\"285.0\"/><line stroke=\"darkslategray\" stroke-width=\"2.0\" x1=\"139.5\" x2=\"139.5\" y1=\"45.0\" y2=\"285.0\"/><line stroke=\"darkslategray\" stroke-width=\"1.6666666666666667\" x1=\"176.0\" x2=\"176.0\" y1=\"45.0\" y2=\"285.0\"/><line stroke=\"darkslategray\" stroke-width=\"1.3333333333333335\" x1=\"211.83333333333334\" x2=\"211.83333333333334\" y1=\"45.0\" y2=\"285.0\"/><circle cx=\"30.0\" cy=\"82.5\" fill=\"chocolate\" r=\"12\" stroke=\"darkslategray\" stroke-width=\"2\"/><text alignment-baseline=\"central\" fill=\"white\" font-family=\"Lato\" font-size=\"15\" font-weight=\"bold\" text-anchor=\"middle\" transform=\"rotate(90,30.0,82.5)\" x=\"30.0\" y=\"82.5\">A</text><circle cx=\"66.5\" cy=\"82.5\" fill=\"dodgerblue\" r=\"12\" stroke=\"darkslategray\" stroke-width=\"2\"/><text alignment-baseline=\"central\" fill=\"white\" font-family=\"Lato\" font-size=\"15\" font-weight=\"bold\" text-anchor=\"middle\" transform=\"rotate(90,66.5,82.5)\" x=\"66.5\" y=\"82.5\">D</text><circle cx=\"103.0\" cy=\"82.5\" fill=\"dodgerblue\" r=\"12\" stroke=\"darkslategray\" stroke-width=\"2\"/><text alignment-baseline=\"central\" fill=\"white\" font-family=\"Lato\" font-size=\"15\" font-weight=\"bold\" text-anchor=\"middle\" transform=\"rotate(90,103.0,82.5)\" x=\"103.0\" y=\"82.5\">G</text><circle cx=\"139.5\" cy=\"82.5\" fill=\"dodgerblue\" r=\"12\" stroke=\"darkslategray\" stroke-width=\"2\"/><text alignment-baseline=\"central\" fill=\"white\" font-family=\"Lato\" font-size=\"15\" font-weight=\"bold\" text-anchor=\"middle\" transform=\"rotate(90,139.5,82.5)\" x=\"139.5\" y=\"82.5\">C</text><circle cx=\"176.0\" cy=\"82.5\" fill=\"dodgerblue\" r=\"12\" stroke=\"darkslategray\" stroke-width=\"2\"/><text alignment-baseline=\"central\" fill=\"white\" font-family=\"Lato\" font-size=\"15\" font-weight=\"bold\" text-anchor=\"middle\" transform=\"rotate(90,176.0,82.5)\" x=\"176.0\" y=\"82.5\">E</text><circle cx=\"212.5\" cy=\"82.5\" fill=\"chocolate\" r=\"12\" stroke=\"darkslategray\" stroke-width=\"2\"/><text alignment-baseline=\"central\" fill=\"white\" font-family=\"Lato\" font-size=\"15\" font-weight=\"bold\" text-anchor=\"middle\" transform=\"rotate(90,212.5,82.5)\" x=\"212.5\" y=\"82.5\">A</text><circle cx=\"30.0\" cy=\"247.5\" fill=\"dodgerblue\" r=\"12\" stroke=\"darkslategray\" stroke-width=\"2\"/><text alignment-baseline=\"central\" fill=\"white\" font-family=\"Lato\" font-size=\"15\" font-weight=\"bold\" text-anchor=\"middle\" transform=\"rotate(90,30.0,247.5)\" x=\"30.0\" y=\"247.5\">C</text><circle cx=\"66.5\" cy=\"192.5\" fill=\"dodgerblue\" r=\"12\" stroke=\"darkslategray\" stroke-width=\"2\"/><text alignment-baseline=\"central\" fill=\"white\" font-family=\"Lato\" font-size=\"15\" font-weight=\"bold\" text-anchor=\"middle\" transform=\"rotate(90,66.5,192.5)\" x=\"66.5\" y=\"192.5\">E</text><circle cx=\"103.0\" cy=\"192.5\" fill=\"chocolate\" r=\"12\" stroke=\"darkslategray\" stroke-width=\"2\"/><text alignment-baseline=\"central\" fill=\"white\" font-family=\"Lato\" font-size=\"15\" font-weight=\"bold\" text-anchor=\"middle\" transform=\"rotate(90,103.0,192.5)\" x=\"103.0\" y=\"192.5\">A</text><circle cx=\"139.5\" cy=\"192.5\" fill=\"dodgerblue\" r=\"12\" stroke=\"darkslategray\" stroke-width=\"2\"/><text alignment-baseline=\"central\" fill=\"white\" font-family=\"Lato\" font-size=\"15\" font-weight=\"bold\" text-anchor=\"middle\" transform=\"rotate(90,139.5,192.5)\" x=\"139.5\" y=\"192.5\">D</text><circle cx=\"176.0\" cy=\"247.5\" fill=\"dodgerblue\" r=\"12\" stroke=\"darkslategray\" stroke-width=\"2\"/><text alignment-baseline=\"central\" fill=\"white\" font-family=\"Lato\" font-size=\"15\" font-weight=\"bold\" text-anchor=\"middle\" transform=\"rotate(90,176.0,247.5)\" x=\"176.0\" y=\"247.5\">G</text><circle cx=\"212.5\" cy=\"247.5\" fill=\"dodgerblue\" r=\"12\" stroke=\"darkslategray\" stroke-width=\"2\"/><text alignment-baseline=\"central\" fill=\"white\" font-family=\"Lato\" font-size=\"15\" font-weight=\"bold\" text-anchor=\"middle\" transform=\"rotate(90,212.5,247.5)\" x=\"212.5\" y=\"247.5\">C</text></g></svg>"
      ],
      "text/plain": [
       "<IPython.core.display.SVG object>"
      ]
     },
     "execution_count": 77,
     "metadata": {},
     "output_type": "execute_result"
    }
   ],
   "source": [
    "#Rotate 90 - deosn't quite work? Image size issue?\n",
    "#https://gist.github.com/mtherieau/85c30d764056fc8dd48c712554a5e261\n",
    "import svgwrite\n",
    "\n",
    "fret_numerals = [None, 'I', 'II', 'III', 'IV', 'V', 'VI', 'VII', 'VIII', 'IX', 'X', 'XI', 'XII', 'XIII', 'XIV', 'XV', 'XVI', 'XVII', 'XVIII', 'XIX', 'XX']\n",
    "def rotate_90counter_and_save(fb, filename):\n",
    "    fb.draw()\n",
    "    [e.__setattr__('text', str(fret_numerals[int(e.text[:-2])])) for e in fb.drawing.elements if isinstance(e, svgwrite.text.Text) and e.text.endswith('fr')]\n",
    "    [e.rotate(angle=90, center=(e.attribs['x'], e.attribs['y'])) for e in fb.drawing.elements if isinstance(e, svgwrite.text.Text)]\n",
    "\n",
    "    drawing = svgwrite.Drawing()\n",
    "    group = drawing.g()\n",
    "    drawing.add(group)\n",
    "    for e in fb.drawing.elements:\n",
    "        group.add(e)\n",
    "        \n",
    "    width = next((e.attribs['width'] for e in fb.drawing.elements if isinstance(e, svgwrite.shapes.Rect)), 0)\n",
    "    #tx offset is x offset from margin\n",
    "    #TH very hack  - need to properly fit to output cell size?\n",
    "    group.translate(tx=0, ty=width-120)\n",
    "    group.scale(0.5)\n",
    "    group.rotate(angle=270)\n",
    "    drawing.saveas(filename)\n",
    "    \n",
    "fn='images/gtrtabtest.svg'\n",
    "rotate_90counter_and_save(fb, fn)\n",
    "SVG(fn)"
   ]
  },
  {
   "cell_type": "code",
   "execution_count": null,
   "metadata": {},
   "outputs": [],
   "source": []
  }
 ],
 "metadata": {
  "kernelspec": {
   "display_name": "orbichord",
   "language": "python",
   "name": "orbichord"
  },
  "language_info": {
   "codemirror_mode": {
    "name": "ipython",
    "version": 3
   },
   "file_extension": ".py",
   "mimetype": "text/x-python",
   "name": "python",
   "nbconvert_exporter": "python",
   "pygments_lexer": "ipython3",
   "version": "3.7.4"
  }
 },
 "nbformat": 4,
 "nbformat_minor": 4
}
